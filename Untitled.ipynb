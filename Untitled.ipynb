{
 "cells": [
  {
   "cell_type": "code",
   "execution_count": 6,
   "id": "9a19b305-0def-48c4-a597-bbf9ebe3ff5f",
   "metadata": {},
   "outputs": [],
   "source": [
    "from google.cloud import bigquery\n",
    "from google.oauth2 import service_account"
   ]
  },
  {
   "cell_type": "code",
   "execution_count": 7,
   "id": "adc3c2bb-2bcb-4225-8433-a5fefa3c2865",
   "metadata": {},
   "outputs": [],
   "source": [
    "# Set up credentials\n",
    "credentials = service_account.Credentials.from_service_account_file(\n",
    "    '/Users/ttanaka/Downloads/predictive-behavior-analytics-b509bad93e58.json'\n",
    ")\n",
    "\n",
    "# Create a BigQuery client\n",
    "client = bigquery.Client(credentials=credentials, project=credentials.project_id)\n"
   ]
  },
  {
   "cell_type": "code",
   "execution_count": 9,
   "id": "bf673869-2f6d-4d85-adb6-abded51c3082",
   "metadata": {},
   "outputs": [
    {
     "name": "stderr",
     "output_type": "stream",
     "text": [
      "WARNING: All log messages before absl::InitializeLog() is called are written to STDERR\n",
      "I0000 00:00:1723930687.153185 1451534 check_gcp_environment_no_op.cc:29] ALTS: Platforms other than Linux and Windows are not supported\n"
     ]
    },
    {
     "data": {
      "text/html": [
       "<div>\n",
       "<style scoped>\n",
       "    .dataframe tbody tr th:only-of-type {\n",
       "        vertical-align: middle;\n",
       "    }\n",
       "\n",
       "    .dataframe tbody tr th {\n",
       "        vertical-align: top;\n",
       "    }\n",
       "\n",
       "    .dataframe thead th {\n",
       "        text-align: right;\n",
       "    }\n",
       "</style>\n",
       "<table border=\"1\" class=\"dataframe\">\n",
       "  <thead>\n",
       "    <tr style=\"text-align: right;\">\n",
       "      <th></th>\n",
       "      <th>fullVisitorId</th>\n",
       "      <th>date</th>\n",
       "      <th>pageviews</th>\n",
       "      <th>transactions</th>\n",
       "      <th>transactionRevenue</th>\n",
       "      <th>source</th>\n",
       "      <th>deviceCategory</th>\n",
       "      <th>country</th>\n",
       "      <th>channelGrouping</th>\n",
       "    </tr>\n",
       "  </thead>\n",
       "  <tbody>\n",
       "    <tr>\n",
       "      <th>0</th>\n",
       "      <td>3418334011779872055</td>\n",
       "      <td>20170801</td>\n",
       "      <td>1</td>\n",
       "      <td>&lt;NA&gt;</td>\n",
       "      <td>&lt;NA&gt;</td>\n",
       "      <td>(direct)</td>\n",
       "      <td>desktop</td>\n",
       "      <td>Greece</td>\n",
       "      <td>Organic Search</td>\n",
       "    </tr>\n",
       "    <tr>\n",
       "      <th>1</th>\n",
       "      <td>2474397855041322408</td>\n",
       "      <td>20170801</td>\n",
       "      <td>1</td>\n",
       "      <td>&lt;NA&gt;</td>\n",
       "      <td>&lt;NA&gt;</td>\n",
       "      <td>analytics.google.com</td>\n",
       "      <td>desktop</td>\n",
       "      <td>India</td>\n",
       "      <td>Referral</td>\n",
       "    </tr>\n",
       "    <tr>\n",
       "      <th>2</th>\n",
       "      <td>5870462820713110108</td>\n",
       "      <td>20170801</td>\n",
       "      <td>1</td>\n",
       "      <td>&lt;NA&gt;</td>\n",
       "      <td>&lt;NA&gt;</td>\n",
       "      <td>analytics.google.com</td>\n",
       "      <td>desktop</td>\n",
       "      <td>United Kingdom</td>\n",
       "      <td>Referral</td>\n",
       "    </tr>\n",
       "    <tr>\n",
       "      <th>3</th>\n",
       "      <td>9397809171349480379</td>\n",
       "      <td>20170801</td>\n",
       "      <td>1</td>\n",
       "      <td>&lt;NA&gt;</td>\n",
       "      <td>&lt;NA&gt;</td>\n",
       "      <td>analytics.google.com</td>\n",
       "      <td>desktop</td>\n",
       "      <td>United States</td>\n",
       "      <td>Referral</td>\n",
       "    </tr>\n",
       "    <tr>\n",
       "      <th>4</th>\n",
       "      <td>6089902943184578335</td>\n",
       "      <td>20170801</td>\n",
       "      <td>1</td>\n",
       "      <td>&lt;NA&gt;</td>\n",
       "      <td>&lt;NA&gt;</td>\n",
       "      <td>adwords.google.com</td>\n",
       "      <td>desktop</td>\n",
       "      <td>United States</td>\n",
       "      <td>Referral</td>\n",
       "    </tr>\n",
       "  </tbody>\n",
       "</table>\n",
       "</div>"
      ],
      "text/plain": [
       "         fullVisitorId      date  pageviews  transactions  transactionRevenue  \\\n",
       "0  3418334011779872055  20170801          1          <NA>                <NA>   \n",
       "1  2474397855041322408  20170801          1          <NA>                <NA>   \n",
       "2  5870462820713110108  20170801          1          <NA>                <NA>   \n",
       "3  9397809171349480379  20170801          1          <NA>                <NA>   \n",
       "4  6089902943184578335  20170801          1          <NA>                <NA>   \n",
       "\n",
       "                 source deviceCategory         country channelGrouping  \n",
       "0              (direct)        desktop          Greece  Organic Search  \n",
       "1  analytics.google.com        desktop           India        Referral  \n",
       "2  analytics.google.com        desktop  United Kingdom        Referral  \n",
       "3  analytics.google.com        desktop   United States        Referral  \n",
       "4    adwords.google.com        desktop   United States        Referral  "
      ]
     },
     "execution_count": 9,
     "metadata": {},
     "output_type": "execute_result"
    }
   ],
   "source": [
    "query = \"\"\"\n",
    "SELECT\n",
    "  fullVisitorId,\n",
    "  date,\n",
    "  totals.pageviews,\n",
    "  totals.transactions,\n",
    "  totals.transactionRevenue,\n",
    "  trafficSource.source,\n",
    "  device.deviceCategory,\n",
    "  geoNetwork.country,\n",
    "  channelGrouping\n",
    "FROM\n",
    "  `bigquery-public-data.google_analytics_sample.ga_sessions_20170801`\n",
    "LIMIT 10000\n",
    "\"\"\"\n",
    "\n",
    "# Execute the query\n",
    "df = client.query(query).to_dataframe()\n",
    "\n",
    "# Display the first few rows of the DataFrame\n",
    "df.head()\n"
   ]
  },
  {
   "cell_type": "code",
   "execution_count": 10,
   "id": "72baf2e7-6f35-41e6-9558-fb85e942d850",
   "metadata": {},
   "outputs": [
    {
     "name": "stdout",
     "output_type": "stream",
     "text": [
      "The dataset contains 9 features.\n"
     ]
    }
   ],
   "source": [
    "# Check the number of features (columns)\n",
    "num_features = df.shape[1]\n",
    "\n",
    "# Display the number of features\n",
    "print(f\"The dataset contains {num_features} features.\")\n"
   ]
  },
  {
   "cell_type": "code",
   "execution_count": 11,
   "id": "a597291c-ce61-4e1b-a2e8-1bb620f0f86b",
   "metadata": {},
   "outputs": [
    {
     "name": "stdout",
     "output_type": "stream",
     "text": [
      "The features in the dataset are:\n",
      "['fullVisitorId', 'date', 'pageviews', 'transactions', 'transactionRevenue', 'source', 'deviceCategory', 'country', 'channelGrouping']\n"
     ]
    }
   ],
   "source": [
    "# List all feature names\n",
    "print(\"The features in the dataset are:\")\n",
    "print(df.columns.tolist())\n",
    "\n"
   ]
  },
  {
   "cell_type": "code",
   "execution_count": null,
   "id": "aa79784a-3ff8-4cd6-8533-2fc7a61d3fb0",
   "metadata": {},
   "outputs": [],
   "source": []
  }
 ],
 "metadata": {
  "kernelspec": {
   "display_name": "Python 3 (ipykernel)",
   "language": "python",
   "name": "python3"
  },
  "language_info": {
   "codemirror_mode": {
    "name": "ipython",
    "version": 3
   },
   "file_extension": ".py",
   "mimetype": "text/x-python",
   "name": "python",
   "nbconvert_exporter": "python",
   "pygments_lexer": "ipython3",
   "version": "3.9.18"
  }
 },
 "nbformat": 4,
 "nbformat_minor": 5
}
