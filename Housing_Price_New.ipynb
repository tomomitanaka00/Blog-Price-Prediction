{
 "cells": [
  {
   "cell_type": "code",
   "execution_count": 183,
   "id": "521ff263-3af2-4a42-8cd8-1e7205132f15",
   "metadata": {},
   "outputs": [
    {
     "name": "stdout",
     "output_type": "stream",
     "text": [
      "Number of features before preprocessing:\n",
      "Numeric: 51\n",
      "Categorical: 43\n",
      "Year: 3\n",
      "\n",
      "Categorical feature encoding details:\n",
      "MSZoning: 5 categories, 4 encoded features\n",
      "Street: 2 categories, 1 encoded features\n",
      "Alley: 3 categories, 2 encoded features\n",
      "LotShape: 4 categories, 3 encoded features\n",
      "LandContour: 4 categories, 3 encoded features\n",
      "Utilities: 2 categories, 1 encoded features\n",
      "LotConfig: 5 categories, 4 encoded features\n",
      "LandSlope: 3 categories, 2 encoded features\n",
      "Neighborhood: 10 categories, 9 encoded features\n",
      "Condition1: 9 categories, 8 encoded features\n",
      "Condition2: 8 categories, 7 encoded features\n",
      "BldgType: 5 categories, 4 encoded features\n",
      "HouseStyle: 8 categories, 7 encoded features\n",
      "RoofStyle: 6 categories, 5 encoded features\n",
      "RoofMatl: 8 categories, 7 encoded features\n",
      "Exterior1st: 10 categories, 9 encoded features\n",
      "Exterior2nd: 10 categories, 9 encoded features\n",
      "MasVnrType: 5 categories, 4 encoded features\n",
      "ExterQual: 4 categories, 3 encoded features\n",
      "ExterCond: 5 categories, 4 encoded features\n",
      "Foundation: 6 categories, 5 encoded features\n",
      "BsmtQual: 5 categories, 4 encoded features\n",
      "BsmtCond: 5 categories, 4 encoded features\n",
      "BsmtExposure: 5 categories, 4 encoded features\n",
      "BsmtFinType1: 7 categories, 6 encoded features\n",
      "BsmtFinType2: 7 categories, 6 encoded features\n",
      "Heating: 6 categories, 5 encoded features\n",
      "HeatingQC: 5 categories, 4 encoded features\n",
      "CentralAir: 2 categories, 1 encoded features\n",
      "Electrical: 6 categories, 5 encoded features\n",
      "KitchenQual: 4 categories, 3 encoded features\n",
      "Functional: 7 categories, 6 encoded features\n",
      "FireplaceQu: 6 categories, 5 encoded features\n",
      "GarageType: 7 categories, 6 encoded features\n",
      "GarageFinish: 4 categories, 3 encoded features\n",
      "GarageQual: 6 categories, 5 encoded features\n",
      "GarageCond: 6 categories, 5 encoded features\n",
      "PavedDrive: 3 categories, 2 encoded features\n",
      "PoolQC: 4 categories, 3 encoded features\n",
      "Fence: 5 categories, 4 encoded features\n",
      "MiscFeature: 5 categories, 4 encoded features\n",
      "SaleType: 9 categories, 8 encoded features\n",
      "SaleCondition: 6 categories, 5 encoded features\n",
      "\n",
      "Number of features after preprocessing:\n",
      "Numeric: 51\n",
      "Categorical (one-hot encoded): 199\n",
      "Year: 3\n",
      "\n",
      "Total number of features: 253\n",
      "Number of columns in preprocessed data: 253\n",
      "\n",
      "Final validation:\n",
      "Shape after preprocessing: (1460, 253)\n",
      "Missing values after preprocessing: 0\n",
      "Number of features before preprocessing:\n",
      "Numeric: 51\n",
      "Categorical: 43\n",
      "Year: 3\n",
      "\n",
      "Categorical feature encoding details:\n",
      "MSZoning: 5 categories, 4 encoded features\n",
      "Street: 2 categories, 1 encoded features\n",
      "Alley: 3 categories, 2 encoded features\n",
      "LotShape: 4 categories, 3 encoded features\n",
      "LandContour: 4 categories, 3 encoded features\n",
      "Utilities: 2 categories, 1 encoded features\n",
      "LotConfig: 5 categories, 4 encoded features\n",
      "LandSlope: 3 categories, 2 encoded features\n",
      "Neighborhood: 10 categories, 9 encoded features\n",
      "Condition1: 9 categories, 8 encoded features\n",
      "Condition2: 8 categories, 7 encoded features\n",
      "BldgType: 5 categories, 4 encoded features\n",
      "HouseStyle: 8 categories, 7 encoded features\n",
      "RoofStyle: 6 categories, 5 encoded features\n",
      "RoofMatl: 8 categories, 7 encoded features\n",
      "Exterior1st: 10 categories, 9 encoded features\n",
      "Exterior2nd: 10 categories, 9 encoded features\n",
      "MasVnrType: 5 categories, 4 encoded features\n",
      "ExterQual: 4 categories, 3 encoded features\n",
      "ExterCond: 5 categories, 4 encoded features\n",
      "Foundation: 6 categories, 5 encoded features\n",
      "BsmtQual: 5 categories, 4 encoded features\n",
      "BsmtCond: 5 categories, 4 encoded features\n",
      "BsmtExposure: 5 categories, 4 encoded features\n",
      "BsmtFinType1: 7 categories, 6 encoded features\n",
      "BsmtFinType2: 7 categories, 6 encoded features\n",
      "Heating: 6 categories, 5 encoded features\n",
      "HeatingQC: 5 categories, 4 encoded features\n",
      "CentralAir: 2 categories, 1 encoded features\n",
      "Electrical: 6 categories, 5 encoded features\n",
      "KitchenQual: 4 categories, 3 encoded features\n",
      "Functional: 7 categories, 6 encoded features\n",
      "FireplaceQu: 6 categories, 5 encoded features\n",
      "GarageType: 7 categories, 6 encoded features\n",
      "GarageFinish: 4 categories, 3 encoded features\n",
      "GarageQual: 6 categories, 5 encoded features\n",
      "GarageCond: 6 categories, 5 encoded features\n",
      "PavedDrive: 3 categories, 2 encoded features\n",
      "PoolQC: 4 categories, 3 encoded features\n",
      "Fence: 5 categories, 4 encoded features\n",
      "MiscFeature: 5 categories, 4 encoded features\n",
      "SaleType: 9 categories, 8 encoded features\n",
      "SaleCondition: 6 categories, 5 encoded features\n",
      "\n",
      "Number of features after preprocessing:\n",
      "Numeric: 51\n",
      "Categorical (one-hot encoded): 199\n",
      "Year: 3\n",
      "\n",
      "Total number of features: 253\n",
      "Number of columns in preprocessed data: 253\n",
      "Number of features: 253\n",
      "First 10 feature names: ['Id', 'MSSubClass', 'LotFrontage', 'LotArea', 'OverallQual', 'OverallCond', 'MasVnrArea', 'BsmtFinSF1', 'BsmtFinSF2', 'BsmtUnfSF']\n",
      "Last 10 feature names: ['SaleType_Oth', 'SaleType_WD', 'SaleCondition_AdjLand', 'SaleCondition_Alloca', 'SaleCondition_Family', 'SaleCondition_Normal', 'SaleCondition_Partial', 'YearBuilt', 'YearRemodAdd', 'YrSold']\n"
     ]
    }
   ],
   "source": [
    "# Data cleaning and engineering\n",
    "\n",
    "import pandas as pd\n",
    "import numpy as np\n",
    "import matplotlib.pyplot as plt\n",
    "import seaborn as sns\n",
    "import plotly.express as px\n",
    "from sklearn.preprocessing import OneHotEncoder, StandardScaler, FunctionTransformer\n",
    "from sklearn.impute import KNNImputer, SimpleImputer\n",
    "from sklearn.compose import ColumnTransformer\n",
    "from sklearn.pipeline import Pipeline\n",
    "from sklearn.base import BaseEstimator, TransformerMixin\n",
    "\n",
    "class OutlierCapper(BaseEstimator, TransformerMixin):\n",
    "    def __init__(self, lower_quantile=0.01, upper_quantile=0.99):\n",
    "        self.lower_quantile = lower_quantile\n",
    "        self.upper_quantile = upper_quantile\n",
    "        self.lower_bounds = None\n",
    "        self.upper_bounds = None\n",
    "\n",
    "    def fit(self, X, y=None):\n",
    "        self.lower_bounds = np.quantile(X, self.lower_quantile, axis=0)\n",
    "        self.upper_bounds = np.quantile(X, self.upper_quantile, axis=0)\n",
    "        return self\n",
    "\n",
    "    def transform(self, X):\n",
    "        return np.clip(X, self.lower_bounds, self.upper_bounds)\n",
    "\n",
    "class YearConverter(BaseEstimator, TransformerMixin):\n",
    "    def __init__(self):\n",
    "        self.min_year = None\n",
    "        self.max_year = None\n",
    "\n",
    "    def fit(self, X, y=None):\n",
    "        X_flat = X.ravel() if X.ndim > 1 else X\n",
    "        self.min_year = np.min(X_flat)\n",
    "        self.max_year = min(np.max(X_flat), pd.Timestamp.now().year)\n",
    "        return self\n",
    "\n",
    "    def transform(self, X):\n",
    "        X_numeric = pd.to_numeric(X.ravel() if X.ndim > 1 else X, errors='coerce')\n",
    "        X_clipped = np.clip(X_numeric, self.min_year, self.max_year)\n",
    "        return X_clipped.reshape(X.shape)\n",
    "\n",
    "class FeatureEngineer(BaseEstimator, TransformerMixin):\n",
    "    def __init__(self):\n",
    "        pass\n",
    "    \n",
    "    def fit(self, X, y=None):\n",
    "        return self\n",
    "    \n",
    "    def transform(self, X):\n",
    "        X = X.copy()\n",
    "        # Create new features\n",
    "        X['TotalSF'] = X['TotalBsmtSF'] + X['1stFlrSF'] + X['2ndFlrSF']\n",
    "        \n",
    "        current_year = pd.Timestamp.now().year\n",
    "        X['HouseAge'] = current_year - X['YearBuilt']\n",
    "        X['TimeSinceRemodel'] = current_year - X['YearRemodAdd']\n",
    "        \n",
    "        X['TotalBathrooms'] = X['FullBath'] + (0.5 * X['HalfBath']) + X['BsmtFullBath'] + (0.5 * X['BsmtHalfBath'])\n",
    "        X['IsNewHouse'] = (X['YearBuilt'] == X['YrSold']).astype(int)\n",
    "        X['HasPool'] = (X['PoolArea'] > 0).astype(int)\n",
    "        X['TotalPorchSF'] = X['OpenPorchSF'] + X['EnclosedPorch'] + X['3SsnPorch'] + X['ScreenPorch']\n",
    "        X['OverallHouseCondition'] = X['OverallQual'] * X['OverallCond']\n",
    "        \n",
    "        # Create interaction features\n",
    "        X['TotalSF_OverallQual'] = X['TotalSF'] * X['OverallQual']\n",
    "        X['GrLivArea_TotRmsAbvGrd'] = X['GrLivArea'] * X['TotRmsAbvGrd']\n",
    "        X['HouseAge_OverallQual'] = X['HouseAge'] * X['OverallQual']\n",
    "        X['GarageArea_GarageCars'] = X['GarageArea'] * X['GarageCars']\n",
    "        X['YearBuilt_YearRemodAdd'] = X['YearBuilt'] * X['YearRemodAdd']\n",
    "        X['TotalSF_HouseAge'] = X['TotalSF'] * X['HouseAge']\n",
    "        X['1stFlrSF_2ndFlrSF'] = X['1stFlrSF'] * X['2ndFlrSF']\n",
    "        X['TotalSF_OverallCond'] = X['TotalSF'] * X['OverallCond']\n",
    "        \n",
    "        # Interaction with categorical variable (requires encoding)\n",
    "        X['GrLivArea_Neighborhood'] = X['GrLivArea'] * pd.factorize(X['Neighborhood'])[0]\n",
    "        \n",
    "        return X\n",
    "\n",
    "def pandas_to_numpy(X):\n",
    "    return X.to_numpy() if isinstance(X, pd.DataFrame) else X\n",
    "\n",
    "def preprocess_and_engineer(X):\n",
    "    # Apply FeatureEngineer first\n",
    "    feature_engineer = FeatureEngineer()\n",
    "    X_engineered = feature_engineer.fit_transform(X.copy())\n",
    "    \n",
    "    # Identify numeric, categorical, and year columns\n",
    "    numeric_features = X_engineered.select_dtypes(include=['int64', 'float64']).columns.drop(['YearBuilt', 'YearRemodAdd', 'YrSold'])\n",
    "    categorical_features = X_engineered.select_dtypes(include=['object']).columns\n",
    "    year_features = ['YearBuilt', 'YearRemodAdd', 'YrSold']\n",
    "    \n",
    "    print(\"Number of features before preprocessing:\")\n",
    "    print(f\"Numeric: {len(numeric_features)}\")\n",
    "    print(f\"Categorical: {len(categorical_features)}\")\n",
    "    print(f\"Year: {len(year_features)}\")\n",
    "    \n",
    "    # Create preprocessing steps\n",
    "    numeric_transformer = Pipeline(steps=[\n",
    "        ('imputer', KNNImputer(n_neighbors=5)),\n",
    "        ('outlier_capper', OutlierCapper()),\n",
    "        ('scaler', StandardScaler()),\n",
    "    ])\n",
    "\n",
    "    categorical_transformer = Pipeline(steps=[\n",
    "        ('imputer', SimpleImputer(strategy='constant', fill_value='missing')),\n",
    "        ('onehot', OneHotEncoder(drop='first', sparse_output=False, handle_unknown='ignore', max_categories=10)),\n",
    "    ])\n",
    "\n",
    "    year_transformer = Pipeline(steps=[\n",
    "        ('imputer', SimpleImputer(strategy='median')),\n",
    "        ('converter', YearConverter()),\n",
    "    ])\n",
    "\n",
    "    # Create and fit the preprocessor\n",
    "    preprocessor = ColumnTransformer(\n",
    "        transformers=[\n",
    "            ('num', numeric_transformer, numeric_features),\n",
    "            ('cat', categorical_transformer, categorical_features),\n",
    "            ('year', year_transformer, year_features)\n",
    "        ])\n",
    "    \n",
    "    X_preprocessed = preprocessor.fit_transform(X_engineered)\n",
    "    \n",
    "    # Generate feature names\n",
    "    numeric_feature_names = list(numeric_features)\n",
    "    categorical_feature_names = []\n",
    "    onehot_encoder = preprocessor.named_transformers_['cat'].named_steps['onehot']\n",
    "    \n",
    "    print(\"\\nCategorical feature encoding details:\")\n",
    "    for i, feature in enumerate(categorical_features):\n",
    "        categories = onehot_encoder.categories_[i]\n",
    "        n_categories = min(len(categories), 10)  # Account for max_categories=10\n",
    "        n_encoded = n_categories - 1  # Subtract 1 due to drop='first'\n",
    "        print(f\"{feature}: {n_categories} categories, {n_encoded} encoded features\")\n",
    "        categorical_feature_names.extend([f\"{feature}_{cat}\" for cat in categories[1:n_categories]])\n",
    "    \n",
    "    year_feature_names = list(year_features)\n",
    "    \n",
    "    feature_names = (numeric_feature_names + \n",
    "                     categorical_feature_names + \n",
    "                     year_feature_names)\n",
    "    \n",
    "    print(\"\\nNumber of features after preprocessing:\")\n",
    "    print(f\"Numeric: {len(numeric_feature_names)}\")\n",
    "    print(f\"Categorical (one-hot encoded): {len(categorical_feature_names)}\")\n",
    "    print(f\"Year: {len(year_feature_names)}\")\n",
    "    \n",
    "    print(f\"\\nTotal number of features: {len(feature_names)}\")\n",
    "    print(f\"Number of columns in preprocessed data: {X_preprocessed.shape[1]}\")\n",
    "    \n",
    "    # Ensure the number of feature names matches the number of columns in X_preprocessed\n",
    "    if len(feature_names) != X_preprocessed.shape[1]:\n",
    "        print(f\"\\nWarning: Number of feature names ({len(feature_names)}) \"\n",
    "              f\"does not match number of columns in preprocessed data ({X_preprocessed.shape[1]})\")\n",
    "        print(\"Adjusting feature names...\")\n",
    "        if len(feature_names) > X_preprocessed.shape[1]:\n",
    "            feature_names = feature_names[:X_preprocessed.shape[1]]\n",
    "        else:\n",
    "            feature_names += [f'Unknown_{i}' for i in range(X_preprocessed.shape[1] - len(feature_names))]\n",
    "    \n",
    "    # Store feature names as an attribute of the DataFrame\n",
    "    df = pd.DataFrame(X_preprocessed, columns=feature_names, index=X.index)\n",
    "    df.attrs['feature_names'] = feature_names\n",
    "    \n",
    "    return df\n",
    "\n",
    "# Load the data\n",
    "df = pd.read_csv('/Users/ttanaka/Desktop/Website/house-prices-advanced-regression-techniques/train.csv')\n",
    "\n",
    "# Separate features and target\n",
    "X = df.drop('SalePrice', axis=1)\n",
    "y = df['SalePrice']\n",
    "\n",
    "# Full pipeline\n",
    "full_pipeline = Pipeline([\n",
    "    ('preprocess_and_engineer', FunctionTransformer(preprocess_and_engineer, validate=False)),\n",
    "    ('to_numpy', FunctionTransformer(pandas_to_numpy))\n",
    "])\n",
    "\n",
    "# Apply the pipeline\n",
    "X_processed = full_pipeline.fit_transform(X)\n",
    "\n",
    "# Validation\n",
    "print(\"\\nFinal validation:\")\n",
    "print(\"Shape after preprocessing:\", X_processed.shape)\n",
    "print(\"Missing values after preprocessing:\", np.isnan(X_processed).sum())\n",
    "\n",
    "# Access feature names from the intermediate DataFrame\n",
    "intermediate_df = full_pipeline.named_steps['preprocess_and_engineer'].transform(X)\n",
    "feature_names = intermediate_df.attrs.get('feature_names', [])\n",
    "print(\"Number of features:\", len(feature_names))\n",
    "print(\"First 10 feature names:\", feature_names[:10])\n",
    "print(\"Last 10 feature names:\", feature_names[-10:])"
   ]
  },
  {
   "cell_type": "code",
   "execution_count": 184,
   "id": "593774ac-2868-46c9-b909-60a01957c73e",
   "metadata": {},
   "outputs": [
    {
     "data": {
      "image/png": "[encoded data removed]",
      "text/plain": [
       "<Figure size 1000x600 with 1 Axes>"
      ]
     },
     "metadata": {},
     "output_type": "display_data"
    },
    {
     "data": {
      "image/png": "[encoded data removed]",
      "text/plain": [
       "<Figure size 1000x600 with 1 Axes>"
      ]
     },
     "metadata": {},
     "output_type": "display_data"
    },
    {
     "data": {
      "application/vnd.plotly.v1+json": {
       "config": {
        "plotlyServerURL": "https://plot.ly"
       },
       "data": [
        {
         "customdata": [
          [
           2003
          ],
          [
           1976
          ],
          [
           2001
          ],
          [
           1915
          ],
          [
           2000
          ],
          [
           1993
          ],
          [
           2004
          ],
          [
           1973
          ],
          [
           1931
          ],
          [
           1939
          ],
          [
           1965
          ],
          [
           2005
          ],
          [
           1962
          ],
          [
           2006
          ],
          [
           1960
          ],
          [
           1929
          ],
          [
           1970
          ],
          [
           1967
          ],
          [
           2004
          ],
          [
           1958
          ],
          [
           2005
          ],
          [
           1930
          ],
          [
           2002
          ],
          [
           1976
          ],
          [
           1968
          ],
          [
           2007
          ],
          [
           1951
          ],
          [
           2007
          ],
          [
           1957
          ],
          [
           1927
          ],
          [
           1920
          ],
          [
           1966
          ],
          [
           2007
          ],
          [
           1959
          ],
          [
           2005
          ],
          [
           2004
          ],
          [
           1994
          ],
          [
           1954
          ],
          [
           1953
          ],
          [
           1955
          ],
          [
           1965
          ],
          [
           1959
          ],
          [
           1983
          ],
          [
           1975
          ],
          [
           1959
          ],
          [
           2005
          ],
          [
           2003
          ],
          [
           2006
          ],
          [
           1920
          ],
          [
           1966
          ],
          [
           1997
          ],
          [
           1934
          ],
          [
           1963
          ],
          [
           1981
          ],
          [
           1955
          ],
          [
           1964
          ],
          [
           1999
          ],
          [
           2004
          ],
          [
           2006
          ],
          [
           1972
          ],
          [
           2004
          ],
          [
           1920
          ],
          [
           2006
          ],
          [
           1921
          ],
          [
           1997
          ],
          [
           2004
          ],
          [
           1970
          ],
          [
           2003
          ],
          [
           1945
          ],
          [
           1953
          ],
          [
           1973
          ],
          [
           1982
          ],
          [
           1998
          ],
          [
           1954
          ],
          [
           1915
          ],
          [
           1973
          ],
          [
           1956
          ],
          [
           1948
          ],
          [
           1968
          ],
          [
           1910
          ],
          [
           1968
          ],
          [
           1998
          ],
          [
           2007
          ],
          [
           1960
          ],
          [
           1995
          ],
          [
           1991
          ],
          [
           2005
          ],
          [
           2009
          ],
          [
           1915
          ],
          [
           1994
          ],
          [
           1950
          ],
          [
           1961
          ],
          [
           1921
          ],
          [
           1910
          ],
          [
           1997
          ],
          [
           1993
          ],
          [
           1999
          ],
          [
           1965
          ],
          [
           1920
          ],
          [
           1959
          ],
          [
           1977
          ],
          [
           1985
          ],
          [
           1979
          ],
          [
           2009
          ],
          [
           1931
          ],
          [
           2003
          ],
          [
           1885
          ],
          [
           1948
          ],
          [
           1919
          ],
          [
           1977
          ],
          [
           1954
          ],
          [
           2000
          ],
          [
           2007
          ],
          [
           1953
          ],
          [
           1945
          ],
          [
           1999
          ],
          [
           1962
          ],
          [
           2006
          ],
          [
           1990
          ],
          [
           2005
          ],
          [
           1969
          ],
          [
           1939
          ],
          [
           1958
          ],
          [
           1993
          ],
          [
           1979
          ],
          [
           1935
          ],
          [
           1976
          ],
          [
           1930
          ],
          [
           1966
          ],
          [
           1958
          ],
          [
           1966
          ],
          [
           2000
          ],
          [
           1959
          ],
          [
           2001
          ],
          [
           1968
          ],
          [
           1970
          ],
          [
           1967
          ],
          [
           1988
          ],
          [
           1999
          ],
          [
           1997
          ],
          [
           1971
          ],
          [
           2005
          ],
          [
           1952
          ],
          [
           1999
          ],
          [
           1963
          ],
          [
           2004
          ],
          [
           1931
          ],
          [
           2001
          ],
          [
           2004
          ],
          [
           1936
          ],
          [
           1975
          ],
          [
           2007
          ],
          [
           1971
          ],
          [
           1960
          ],
          [
           1923
          ],
          [
           1924
          ],
          [
           1950
          ],
          [
           2009
          ],
          [
           2004
          ],
          [
           2005
          ],
          [
           1984
          ],
          [
           2003
          ],
          [
           2005
          ],
          [
           1956
          ],
          [
           1926
          ],
          [
           1940
          ],
          [
           1955
          ],
          [
           2007
          ],
          [
           2004
          ],
          [
           1981
          ],
          [
           1941
          ],
          [
           1960
          ],
          [
           1987
          ],
          [
           1961
          ],
          [
           1986
          ],
          [
           1950
          ],
          [
           1988
          ],
          [
           1958
          ],
          [
           2008
          ],
          [
           1923
          ],
          [
           2000
          ],
          [
           1920
          ],
          [
           1957
          ],
          [
           2003
          ],
          [
           1908
          ],
          [
           1892
          ],
          [
           1990
          ],
          [
           1916
          ],
          [
           1979
          ],
          [
           2001
          ],
          [
           1932
          ],
          [
           1972
          ],
          [
           1999
          ],
          [
           2004
          ],
          [
           1972
          ],
          [
           1976
          ],
          [
           2007
          ],
          [
           1918
          ],
          [
           1912
          ],
          [
           2004
          ],
          [
           2003
          ],
          [
           1977
          ],
          [
           1924
          ],
          [
           2004
          ],
          [
           1947
          ],
          [
           1990
          ],
          [
           1962
          ],
          [
           1960
          ],
          [
           1988
          ],
          [
           1964
          ],
          [
           1925
          ],
          [
           2009
          ],
          [
           2009
          ],
          [
           1995
          ],
          [
           1977
          ],
          [
           1957
          ],
          [
           2004
          ],
          [
           1925
          ],
          [
           1939
          ],
          [
           2005
          ],
          [
           2006
          ],
          [
           2002
          ],
          [
           1975
          ],
          [
           1971
          ],
          [
           2003
          ],
          [
           1971
          ],
          [
           1995
          ],
          [
           1970
          ],
          [
           1967
          ],
          [
           2005
          ],
          [
           1959
          ],
          [
           1995
          ],
          [
           1972
          ],
          [
           1976
          ],
          [
           2002
          ],
          [
           1971
          ],
          [
           2004
          ],
          [
           1993
          ],
          [
           2007
          ],
          [
           1945
          ],
          [
           2008
          ],
          [
           1945
          ],
          [
           1900
          ],
          [
           1980
          ],
          [
           1994
          ],
          [
           1988
          ],
          [
           1910
          ],
          [
           1954
          ],
          [
           2003
          ],
          [
           1958
          ],
          [
           1940
          ],
          [
           2006
          ],
          [
           2004
          ],
          [
           1964
          ],
          [
           1957
          ],
          [
           1999
          ],
          [
           2003
          ],
          [
           2006
          ],
          [
           2001
          ],
          [
           1956
          ],
          [
           1962
          ],
          [
           2007
          ],
          [
           1977
          ],
          [
           1929
          ],
          [
           1925
          ],
          [
           1981
          ],
          [
           1997
          ],
          [
           1939
          ],
          [
           1940
          ],
          [
           1976
          ],
          [
           2006
          ],
          [
           1954
          ],
          [
           1999
          ],
          [
           1958
          ],
          [
           1982
          ],
          [
           1925
          ],
          [
           2003
          ],
          [
           1951
          ],
          [
           2006
          ],
          [
           1977
          ],
          [
           1989
          ],
          [
           2006
          ],
          [
           2007
          ],
          [
           2008
          ],
          [
           1992
          ],
          [
           2006
          ],
          [
           1962
          ],
          [
           1971
          ],
          [
           1967
          ],
          [
           1915
          ],
          [
           2006
          ],
          [
           1912
          ],
          [
           1949
          ],
          [
           1977
          ],
          [
           1953
          ],
          [
           1984
          ],
          [
           1950
          ],
          [
           1997
          ],
          [
           1968
          ],
          [
           1950
          ],
          [
           1953
          ],
          [
           1998
          ],
          [
           2001
          ],
          [
           1972
          ],
          [
           1880
          ],
          [
           2004
          ],
          [
           1990
          ],
          [
           1920
          ],
          [
           1940
          ],
          [
           2003
          ],
          [
           1993
          ],
          [
           1948
          ],
          [
           1939
          ],
          [
           1965
          ],
          [
           1925
          ],
          [
           2004
          ],
          [
           1980
          ],
          [
           2006
          ],
          [
           1993
          ],
          [
           1980
          ],
          [
           2006
          ],
          [
           2004
          ],
          [
           1986
          ],
          [
           1955
          ],
          [
           1967
          ],
          [
           1941
          ],
          [
           1993
          ],
          [
           1960
          ],
          [
           1916
          ],
          [
           1920
          ],
          [
           1964
          ],
          [
           1958
          ],
          [
           2003
          ],
          [
           2004
          ],
          [
           1998
          ],
          [
           1965
          ],
          [
           2005
          ],
          [
           2002
          ],
          [
           1984
          ],
          [
           1958
          ],
          [
           2002
          ],
          [
           1950
          ],
          [
           1949
          ],
          [
           2005
          ],
          [
           1976
          ],
          [
           1939
          ],
          [
           1960
          ],
          [
           1960
          ],
          [
           2003
          ],
          [
           2005
          ],
          [
           2007
          ],
          [
           1986
          ],
          [
           1941
          ],
          [
           1928
          ],
          [
           1940
          ],
          [
           1995
          ],
          [
           1992
          ],
          [
           1976
          ],
          [
           1958
          ],
          [
           1998
          ],
          [
           1978
          ],
          [
           1940
          ],
          [
           2003
          ],
          [
           1972
          ],
          [
           1976
          ],
          [
           1920
          ],
          [
           1963
          ],
          [
           1962
          ],
          [
           1954
          ],
          [
           1959
          ],
          [
           2000
          ],
          [
           1959
          ],
          [
           1984
          ],
          [
           1953
          ],
          [
           2003
          ],
          [
           1922
          ],
          [
           1996
          ],
          [
           2004
          ],
          [
           2010
          ],
          [
           2000
          ],
          [
           1924
          ],
          [
           2006
          ],
          [
           2006
          ],
          [
           1928
          ],
          [
           1992
          ],
          [
           2004
          ],
          [
           1910
          ],
          [
           1976
          ],
          [
           1999
          ],
          [
           2007
          ],
          [
           1900
          ],
          [
           2001
          ],
          [
           1959
          ],
          [
           1941
          ],
          [
           1940
          ],
          [
           1956
          ],
          [
           1972
          ],
          [
           1962
          ],
          [
           1920
          ],
          [
           2006
          ],
          [
           1996
          ],
          [
           2005
          ],
          [
           1940
          ],
          [
           1998
          ],
          [
           1995
          ],
          [
           1976
          ],
          [
           1936
          ],
          [
           1915
          ],
          [
           2006
          ],
          [
           2007
          ],
          [
           1958
          ],
          [
           1955
          ],
          [
           2009
          ],
          [
           1927
          ],
          [
           1993
          ],
          [
           2007
          ],
          [
           1978
          ],
          [
           1918
          ],
          [
           1940
          ],
          [
           1968
          ],
          [
           1997
          ],
          [
           1977
          ],
          [
           1954
          ],
          [
           1998
          ],
          [
           1956
          ],
          [
           1946
          ],
          [
           1989
          ],
          [
           1957
          ],
          [
           2007
          ],
          [
           1988
          ],
          [
           1971
          ],
          [
           1920
          ],
          [
           1971
          ],
          [
           1997
          ],
          [
           1972
          ],
          [
           1996
          ],
          [
           1920
          ],
          [
           1926
          ],
          [
           1913
          ],
          [
           1920
          ],
          [
           2008
          ],
          [
           1955
          ],
          [
           1930
          ],
          [
           2006
          ],
          [
           1994
          ],
          [
           1956
          ],
          [
           1966
          ],
          [
           1998
          ],
          [
           1937
          ],
          [
           1948
          ],
          [
           1930
          ],
          [
           1975
          ],
          [
           1996
          ],
          [
           2008
          ],
          [
           1976
          ],
          [
           1973
          ],
          [
           1916
          ],
          [
           1954
          ],
          [
           1925
          ],
          [
           1950
          ],
          [
           2009
          ],
          [
           1936
          ],
          [
           1965
          ],
          [
           1934
          ],
          [
           1978
          ],
          [
           2004
          ],
          [
           1970
          ],
          [
           1942
          ],
          [
           2006
          ],
          [
           1993
          ],
          [
           1985
          ],
          [
           1977
          ],
          [
           2005
          ],
          [
           2006
          ],
          [
           2000
          ],
          [
           1963
          ],
          [
           1997
          ],
          [
           2006
          ],
          [
           2007
          ],
          [
           1937
          ],
          [
           2004
          ],
          [
           2003
          ],
          [
           1915
          ],
          [
           1998
          ],
          [
           1962
          ],
          [
           1950
          ],
          [
           1965
          ],
          [
           1971
          ],
          [
           1900
          ],
          [
           1970
          ],
          [
           1976
          ],
          [
           1941
          ],
          [
           2006
          ],
          [
           1960
          ],
          [
           1938
          ],
          [
           1920
          ],
          [
           1992
          ],
          [
           1925
          ],
          [
           1967
          ],
          [
           1958
          ],
          [
           1973
          ],
          [
           2005
          ],
          [
           1965
          ],
          [
           1959
          ],
          [
           1974
          ],
          [
           1952
          ],
          [
           1993
          ],
          [
           2009
          ],
          [
           1928
          ],
          [
           1959
          ],
          [
           1951
          ],
          [
           2005
          ],
          [
           1958
          ],
          [
           1983
          ],
          [
           1926
          ],
          [
           2009
          ],
          [
           1972
          ],
          [
           1996
          ],
          [
           1998
          ],
          [
           1926
          ],
          [
           1900
          ],
          [
           1957
          ],
          [
           1947
          ],
          [
           2007
          ],
          [
           1996
          ],
          [
           2005
          ],
          [
           1956
          ],
          [
           2008
          ],
          [
           1920
          ],
          [
           1957
          ],
          [
           1988
          ],
          [
           1920
          ],
          [
           1955
          ],
          [
           1946
          ],
          [
           2004
          ],
          [
           1910
          ],
          [
           1998
          ],
          [
           1972
          ],
          [
           1968
          ],
          [
           2001
          ],
          [
           2006
          ],
          [
           2000
          ],
          [
           1998
          ],
          [
           1998
          ],
          [
           2006
          ],
          [
           1988
          ],
          [
           1923
          ],
          [
           1970
          ],
          [
           1955
          ],
          [
           2003
          ],
          [
           1977
          ],
          [
           1957
          ],
          [
           2006
          ],
          [
           1949
          ],
          [
           2003
          ],
          [
           1922
          ],
          [
           1957
          ],
          [
           1920
          ],
          [
           1996
          ],
          [
           2003
          ],
          [
           1957
          ],
          [
           1974
          ],
          [
           1940
          ],
          [
           1918
          ],
          [
           1992
          ],
          [
           1915
          ],
          [
           2005
          ],
          [
           2004
          ],
          [
           1983
          ],
          [
           1979
          ],
          [
           1965
          ],
          [
           1959
          ],
          [
           2009
          ],
          [
           2000
          ],
          [
           1971
          ],
          [
           1947
          ],
          [
           1928
          ],
          [
           1966
          ],
          [
           2007
          ],
          [
           1954
          ],
          [
           1960
          ],
          [
           2008
          ],
          [
           1990
          ],
          [
           1893
          ],
          [
           1935
          ],
          [
           2005
          ],
          [
           1918
          ],
          [
           1982
          ],
          [
           1968
          ],
          [
           1930
          ],
          [
           2004
          ],
          [
           2008
          ],
          [
           1982
          ],
          [
           2003
          ],
          [
           1975
          ],
          [
           2005
          ],
          [
           1910
          ],
          [
           2006
          ],
          [
           1977
          ],
          [
           1980
          ],
          [
           2005
          ],
          [
           1937
          ],
          [
           1992
          ],
          [
           2004
          ],
          [
           2002
          ],
          [
           1965
          ],
          [
           1996
          ],
          [
           1948
          ],
          [
           1934
          ],
          [
           1961
          ],
          [
           2000
          ],
          [
           1978
          ],
          [
           2001
          ],
          [
           2007
          ],
          [
           1972
          ],
          [
           1963
          ],
          [
           2002
          ],
          [
           1954
          ],
          [
           2007
          ],
          [
           2003
          ],
          [
           1914
          ],
          [
           1974
          ],
          [
           1977
          ],
          [
           2000
          ],
          [
           1972
          ],
          [
           1962
          ],
          [
           1960
          ],
          [
           1955
          ],
          [
           1969
          ],
          [
           1964
          ],
          [
           1880
          ],
          [
           2006
          ],
          [
           1977
          ],
          [
           1954
          ],
          [
           1980
          ],
          [
           1914
          ],
          [
           1936
          ],
          [
           1954
          ],
          [
           1910
          ],
          [
           2006
          ],
          [
           2003
          ],
          [
           2001
          ],
          [
           1972
          ],
          [
           1969
          ],
          [
           2009
          ],
          [
           1971
          ],
          [
           1950
          ],
          [
           1953
          ],
          [
           1966
          ],
          [
           1970
          ],
          [
           2007
          ],
          [
           1940
          ],
          [
           1996
          ],
          [
           1906
          ],
          [
           1995
          ],
          [
           1971
          ],
          [
           1959
          ],
          [
           1931
          ],
          [
           1948
          ],
          [
           1964
          ],
          [
           1976
          ],
          [
           1994
          ],
          [
           1968
          ],
          [
           1972
          ],
          [
           2005
          ],
          [
           2000
          ],
          [
           1965
          ],
          [
           1994
          ],
          [
           1956
          ],
          [
           1922
          ],
          [
           2005
          ],
          [
           1925
          ],
          [
           1977
          ],
          [
           1957
          ],
          [
           1965
          ],
          [
           1978
          ],
          [
           1900
          ],
          [
           1924
          ],
          [
           2008
          ],
          [
           1961
          ],
          [
           1980
          ],
          [
           1932
          ],
          [
           1996
          ],
          [
           2002
          ],
          [
           1998
          ],
          [
           1984
          ],
          [
           2007
          ],
          [
           2004
          ],
          [
           2007
          ],
          [
           2005
          ],
          [
           2004
          ],
          [
           1994
          ],
          [
           1989
          ],
          [
           1921
          ],
          [
           1936
          ],
          [
           1987
          ],
          [
           1921
          ],
          [
           1952
          ],
          [
           1965
          ],
          [
           2004
          ],
          [
           2002
          ],
          [
           1969
          ],
          [
           2006
          ],
          [
           1900
          ],
          [
           2004
          ],
          [
           1930
          ],
          [
           1971
          ],
          [
           2006
          ],
          [
           2007
          ],
          [
           1966
          ],
          [
           1935
          ],
          [
           1900
          ],
          [
           1988
          ],
          [
           1970
          ],
          [
           1976
          ],
          [
           1974
          ],
          [
           1890
          ],
          [
           1973
          ],
          [
           1993
          ],
          [
           1969
          ],
          [
           1985
          ],
          [
           2004
          ],
          [
           1970
          ],
          [
           1954
          ],
          [
           2007
          ],
          [
           1970
          ],
          [
           1988
          ],
          [
           2007
          ],
          [
           1958
          ],
          [
           1925
          ],
          [
           1995
          ],
          [
           2003
          ],
          [
           1998
          ],
          [
           1961
          ],
          [
           1968
          ],
          [
           1914
          ],
          [
           1950
          ],
          [
           2005
          ],
          [
           1987
          ],
          [
           2004
          ],
          [
           1910
          ],
          [
           1961
          ],
          [
           2000
          ],
          [
           1963
          ],
          [
           1993
          ],
          [
           1976
          ],
          [
           2000
          ],
          [
           1880
          ],
          [
           1996
          ],
          [
           1945
          ],
          [
           1910
          ],
          [
           2003
          ],
          [
           1997
          ],
          [
           2005
          ],
          [
           1969
          ],
          [
           1999
          ],
          [
           2007
          ],
          [
           1978
          ],
          [
           1999
          ],
          [
           1995
          ],
          [
           1959
          ],
          [
           1924
          ],
          [
           2009
          ],
          [
           1999
          ],
          [
           1995
          ],
          [
           2008
          ],
          [
           1988
          ],
          [
           1940
          ],
          [
           2004
          ],
          [
           2003
          ],
          [
           1982
          ],
          [
           1951
          ],
          [
           1976
          ],
          [
           1958
          ],
          [
           2006
          ],
          [
           1998
          ],
          [
           2005
          ],
          [
           1974
          ],
          [
           1977
          ],
          [
           1977
          ],
          [
           1995
          ],
          [
           1992
          ],
          [
           2001
          ],
          [
           1978
          ],
          [
           1914
          ],
          [
           1967
          ],
          [
           1915
          ],
          [
           2004
          ],
          [
           1954
          ],
          [
           1966
          ],
          [
           2005
          ],
          [
           1976
          ],
          [
           1996
          ],
          [
           2007
          ],
          [
           1994
          ],
          [
           1980
          ],
          [
           1977
          ],
          [
           1953
          ],
          [
           2008
          ],
          [
           1937
          ],
          [
           1997
          ],
          [
           1916
          ],
          [
           2005
          ],
          [
           2008
          ],
          [
           1954
          ],
          [
           2008
          ],
          [
           1967
          ],
          [
           1923
          ],
          [
           1966
          ],
          [
           1898
          ],
          [
           1974
          ],
          [
           2004
          ],
          [
           1952
          ],
          [
           1958
          ],
          [
           1918
          ],
          [
           1998
          ],
          [
           1954
          ],
          [
           2002
          ],
          [
           1971
          ],
          [
           2009
          ],
          [
           2003
          ],
          [
           1953
          ],
          [
           2003
          ],
          [
           1940
          ],
          [
           2006
          ],
          [
           2007
          ],
          [
           1924
          ],
          [
           2001
          ],
          [
           1967
          ],
          [
           2005
          ],
          [
           1957
          ],
          [
           2005
          ],
          [
           2003
          ],
          [
           1964
          ],
          [
           1961
          ],
          [
           1950
          ],
          [
           1948
          ],
          [
           1973
          ],
          [
           1995
          ],
          [
           1946
          ],
          [
           1925
          ],
          [
           1904
          ],
          [
           1966
          ],
          [
           1961
          ],
          [
           1915
          ],
          [
           1975
          ],
          [
           1993
          ],
          [
           1972
          ],
          [
           1908
          ],
          [
           1976
          ],
          [
           2003
          ],
          [
           2003
          ],
          [
           1941
          ],
          [
           1964
          ],
          [
           1955
          ],
          [
           1962
          ],
          [
           1978
          ],
          [
           1994
          ],
          [
           1976
          ],
          [
           1968
          ],
          [
           1918
          ],
          [
           1965
          ],
          [
           1984
          ],
          [
           1959
          ],
          [
           2007
          ],
          [
           1970
          ],
          [
           2006
          ],
          [
           1961
          ],
          [
           1948
          ],
          [
           1993
          ],
          [
           1962
          ],
          [
           1998
          ],
          [
           1953
          ],
          [
           1949
          ],
          [
           1941
          ],
          [
           2007
          ],
          [
           1963
          ],
          [
           2004
          ],
          [
           1961
          ],
          [
           1978
          ],
          [
           2005
          ],
          [
           1990
          ],
          [
           1992
          ],
          [
           1912
          ],
          [
           1967
          ],
          [
           1999
          ],
          [
           1959
          ],
          [
           1955
          ],
          [
           1970
          ],
          [
           1953
          ],
          [
           1949
          ],
          [
           1978
          ],
          [
           1963
          ],
          [
           1954
          ],
          [
           1979
          ],
          [
           1963
          ],
          [
           1936
          ],
          [
           1979
          ],
          [
           2009
          ],
          [
           1961
          ],
          [
           1971
          ],
          [
           1957
          ],
          [
           2003
          ],
          [
           2006
          ],
          [
           1967
          ],
          [
           1954
          ],
          [
           2006
          ],
          [
           1936
          ],
          [
           1983
          ],
          [
           2005
          ],
          [
           1960
          ],
          [
           1977
          ],
          [
           1925
          ],
          [
           1949
          ],
          [
           2009
          ],
          [
           1970
          ],
          [
           1949
          ],
          [
           1956
          ],
          [
           1991
          ],
          [
           1958
          ],
          [
           1994
          ],
          [
           1900
          ],
          [
           2005
          ],
          [
           1993
          ],
          [
           1980
          ],
          [
           1977
          ],
          [
           2003
          ],
          [
           1968
          ],
          [
           2001
          ],
          [
           1997
          ],
          [
           2007
          ],
          [
           1965
          ],
          [
           2006
          ],
          [
           2004
          ],
          [
           1960
          ],
          [
           1926
          ],
          [
           2003
          ],
          [
           2005
          ],
          [
           2006
          ],
          [
           1940
          ],
          [
           1976
          ],
          [
           1999
          ],
          [
           1977
          ],
          [
           1967
          ],
          [
           1958
          ],
          [
           1890
          ],
          [
           1959
          ],
          [
           2002
          ],
          [
           2002
          ],
          [
           1972
          ],
          [
           1950
          ],
          [
           1965
          ],
          [
           1972
          ],
          [
           1969
          ],
          [
           1975
          ],
          [
           1946
          ],
          [
           1980
          ],
          [
           1962
          ],
          [
           2003
          ],
          [
           1999
          ],
          [
           1958
          ],
          [
           1977
          ],
          [
           1976
          ],
          [
           2007
          ],
          [
           2002
          ],
          [
           2005
          ],
          [
           1940
          ],
          [
           1955
          ],
          [
           1910
          ],
          [
           1958
          ],
          [
           1949
          ],
          [
           2003
          ],
          [
           1979
          ],
          [
           2007
          ],
          [
           1910
          ],
          [
           2000
          ],
          [
           1923
          ],
          [
           2006
          ],
          [
           1954
          ],
          [
           1963
          ],
          [
           1961
          ],
          [
           1998
          ],
          [
           2007
          ],
          [
           2002
          ],
          [
           1977
          ],
          [
           1950
          ],
          [
           1910
          ],
          [
           2009
          ],
          [
           1976
          ],
          [
           2006
          ],
          [
           1997
          ],
          [
           1882
          ],
          [
           1964
          ],
          [
           2005
          ],
          [
           2006
          ],
          [
           1946
          ],
          [
           1961
          ],
          [
           1970
          ],
          [
           1922
          ],
          [
           2006
          ],
          [
           1952
          ],
          [
           1920
          ],
          [
           2006
          ],
          [
           1976
          ],
          [
           2005
          ],
          [
           1977
          ],
          [
           1970
          ],
          [
           1970
          ],
          [
           2004
          ],
          [
           1926
          ],
          [
           1948
          ],
          [
           1965
          ],
          [
           1923
          ],
          [
           1910
          ],
          [
           1948
          ],
          [
           2001
          ],
          [
           1996
          ],
          [
           1984
          ],
          [
           1991
          ],
          [
           2005
          ],
          [
           2005
          ],
          [
           2006
          ],
          [
           1930
          ],
          [
           2005
          ],
          [
           1976
          ],
          [
           1972
          ],
          [
           1960
          ],
          [
           2007
          ],
          [
           1941
          ],
          [
           1972
          ],
          [
           1916
          ],
          [
           1920
          ],
          [
           1993
          ],
          [
           2002
          ],
          [
           1938
          ],
          [
           1957
          ],
          [
           2007
          ],
          [
           2001
          ],
          [
           1970
          ],
          [
           1970
          ],
          [
           1957
          ],
          [
           1966
          ],
          [
           2005
          ],
          [
           1990
          ],
          [
           1981
          ],
          [
           1955
          ],
          [
           2005
          ],
          [
           1994
          ],
          [
           1960
          ],
          [
           1946
          ],
          [
           2007
          ],
          [
           2007
          ],
          [
           1964
          ],
          [
           1957
          ],
          [
           2002
          ],
          [
           1976
          ],
          [
           2005
          ],
          [
           1994
          ],
          [
           2008
          ],
          [
           1932
          ],
          [
           2001
          ],
          [
           1935
          ],
          [
           1900
          ],
          [
           1925
          ],
          [
           1966
          ],
          [
           1996
          ],
          [
           1993
          ],
          [
           1964
          ],
          [
           1973
          ],
          [
           1949
          ],
          [
           1956
          ],
          [
           1968
          ],
          [
           1948
          ],
          [
           1977
          ],
          [
           2006
          ],
          [
           1940
          ],
          [
           1936
          ],
          [
           1969
          ],
          [
           2004
          ],
          [
           1994
          ],
          [
           1971
          ],
          [
           1963
          ],
          [
           2002
          ],
          [
           1964
          ],
          [
           1995
          ],
          [
           1992
          ],
          [
           1973
          ],
          [
           2005
          ],
          [
           2004
          ],
          [
           2005
          ],
          [
           1950
          ],
          [
           1999
          ],
          [
           1925
          ],
          [
           1965
          ],
          [
           1956
          ],
          [
           2006
          ],
          [
           1914
          ],
          [
           1986
          ],
          [
           1936
          ],
          [
           1978
          ],
          [
           1920
          ],
          [
           1971
          ],
          [
           1960
          ],
          [
           1959
          ],
          [
           1970
          ],
          [
           1994
          ],
          [
           1990
          ],
          [
           2006
          ],
          [
           2000
          ],
          [
           2004
          ],
          [
           1995
          ],
          [
           1976
          ],
          [
           1957
          ],
          [
           1953
          ],
          [
           1954
          ],
          [
           2007
          ],
          [
           2002
          ],
          [
           1967
          ],
          [
           1958
          ],
          [
           1959
          ],
          [
           1920
          ],
          [
           2005
          ],
          [
           1956
          ],
          [
           1947
          ],
          [
           1992
          ],
          [
           1955
          ],
          [
           2007
          ],
          [
           2004
          ],
          [
           2004
          ],
          [
           1980
          ],
          [
           1928
          ],
          [
           1991
          ],
          [
           1880
          ],
          [
           1995
          ],
          [
           1997
          ],
          [
           1926
          ],
          [
           1950
          ],
          [
           1875
          ],
          [
           1977
          ],
          [
           1920
          ],
          [
           1951
          ],
          [
           1976
          ],
          [
           2006
          ],
          [
           1959
          ],
          [
           1941
          ],
          [
           1928
          ],
          [
           1985
          ],
          [
           1941
          ],
          [
           1926
          ],
          [
           1920
          ],
          [
           1950
          ],
          [
           1959
          ],
          [
           1956
          ],
          [
           1930
          ],
          [
           1965
          ],
          [
           1976
          ],
          [
           1965
          ],
          [
           2007
          ],
          [
           2007
          ],
          [
           1974
          ],
          [
           1978
          ],
          [
           1954
          ],
          [
           1968
          ],
          [
           1969
          ],
          [
           1978
          ],
          [
           2009
          ],
          [
           2008
          ],
          [
           2000
          ],
          [
           1935
          ],
          [
           1995
          ],
          [
           1977
          ],
          [
           1958
          ],
          [
           2006
          ],
          [
           1946
          ],
          [
           1932
          ],
          [
           1992
          ],
          [
           1984
          ],
          [
           1926
          ],
          [
           1921
          ],
          [
           1954
          ],
          [
           1990
          ],
          [
           2008
          ],
          [
           1996
          ],
          [
           1920
          ],
          [
           1963
          ],
          [
           1924
          ],
          [
           1900
          ],
          [
           1994
          ],
          [
           2002
          ],
          [
           1999
          ],
          [
           1961
          ],
          [
           1999
          ],
          [
           1925
          ],
          [
           1999
          ],
          [
           1969
          ],
          [
           2005
          ],
          [
           2006
          ],
          [
           1916
          ],
          [
           2001
          ],
          [
           1963
          ],
          [
           1970
          ],
          [
           1998
          ],
          [
           1925
          ],
          [
           2000
          ],
          [
           1975
          ],
          [
           1990
          ],
          [
           1966
          ],
          [
           2003
          ],
          [
           1962
          ],
          [
           2006
          ],
          [
           1992
          ],
          [
           1988
          ],
          [
           1941
          ],
          [
           1965
          ],
          [
           1962
          ],
          [
           1966
          ],
          [
           1978
          ],
          [
           2009
          ],
          [
           1947
          ],
          [
           1971
          ],
          [
           1964
          ],
          [
           1968
          ],
          [
           1949
          ],
          [
           1951
          ],
          [
           2004
          ],
          [
           1958
          ],
          [
           2007
          ],
          [
           1965
          ],
          [
           2008
          ],
          [
           1960
          ],
          [
           1977
          ],
          [
           1962
          ],
          [
           1962
          ],
          [
           1959
          ],
          [
           1911
          ],
          [
           1914
          ],
          [
           2003
          ],
          [
           2004
          ],
          [
           2005
          ],
          [
           2006
          ],
          [
           2003
          ],
          [
           2007
          ],
          [
           1974
          ],
          [
           2006
          ],
          [
           1929
          ],
          [
           1984
          ],
          [
           2005
          ],
          [
           1976
          ],
          [
           1917
          ],
          [
           1950
          ],
          [
           1968
          ],
          [
           2003
          ],
          [
           1968
          ],
          [
           1974
          ],
          [
           2003
          ],
          [
           1931
          ],
          [
           1994
          ],
          [
           1922
          ],
          [
           2005
          ],
          [
           1969
          ],
          [
           1999
          ],
          [
           1956
          ],
          [
           1957
          ],
          [
           1919
          ],
          [
           1998
          ],
          [
           1999
          ],
          [
           1910
          ],
          [
           2008
          ],
          [
           1935
          ],
          [
           1958
          ],
          [
           1979
          ],
          [
           1968
          ],
          [
           1965
          ],
          [
           1959
          ],
          [
           1910
          ],
          [
           1948
          ],
          [
           1972
          ],
          [
           1967
          ],
          [
           2002
          ],
          [
           1920
          ],
          [
           2002
          ],
          [
           1990
          ],
          [
           1977
          ],
          [
           1971
          ],
          [
           1919
          ],
          [
           1939
          ],
          [
           1963
          ],
          [
           1964
          ],
          [
           2000
          ],
          [
           2006
          ],
          [
           1964
          ],
          [
           1972
          ],
          [
           1892
          ],
          [
           1976
          ],
          [
           1955
          ],
          [
           1968
          ],
          [
           1963
          ],
          [
           2005
          ],
          [
           2008
          ],
          [
           1959
          ],
          [
           1999
          ],
          [
           1942
          ],
          [
           1994
          ],
          [
           2005
          ],
          [
           2004
          ],
          [
           2006
          ],
          [
           2005
          ],
          [
           1994
          ],
          [
           1948
          ],
          [
           1991
          ],
          [
           1959
          ],
          [
           2005
          ],
          [
           1990
          ],
          [
           1999
          ],
          [
           1954
          ],
          [
           1969
          ],
          [
           2008
          ],
          [
           2006
          ],
          [
           2001
          ],
          [
           1954
          ],
          [
           1957
          ],
          [
           1949
          ],
          [
           1992
          ],
          [
           1940
          ],
          [
           2006
          ],
          [
           1922
          ],
          [
           1931
          ],
          [
           1982
          ],
          [
           1920
          ],
          [
           1998
          ],
          [
           2006
          ],
          [
           1976
          ],
          [
           1938
          ],
          [
           1938
          ],
          [
           1970
          ],
          [
           1977
          ],
          [
           1973
          ],
          [
           1941
          ],
          [
           2002
          ],
          [
           1972
          ],
          [
           1971
          ],
          [
           2003
          ],
          [
           2002
          ],
          [
           1928
          ],
          [
           2006
          ],
          [
           1920
          ],
          [
           1968
          ],
          [
           2006
          ],
          [
           1998
          ],
          [
           1872
          ],
          [
           1969
          ],
          [
           1962
          ],
          [
           1937
          ],
          [
           1995
          ],
          [
           2000
          ],
          [
           1968
          ],
          [
           1966
          ],
          [
           1971
          ],
          [
           2000
          ],
          [
           2004
          ],
          [
           1921
          ],
          [
           2005
          ],
          [
           1920
          ],
          [
           2006
          ],
          [
           2005
          ],
          [
           2000
          ],
          [
           1999
          ],
          [
           1977
          ],
          [
           2003
          ],
          [
           2003
          ],
          [
           1920
          ],
          [
           1955
          ],
          [
           1998
          ],
          [
           2001
          ],
          [
           2005
          ],
          [
           2007
          ],
          [
           1930
          ],
          [
           1941
          ],
          [
           1973
          ],
          [
           2006
          ],
          [
           1914
          ],
          [
           1970
          ],
          [
           1920
          ],
          [
           1918
          ],
          [
           1939
          ],
          [
           1922
          ],
          [
           1978
          ],
          [
           1916
          ],
          [
           2006
          ],
          [
           1941
          ],
          [
           2000
          ],
          [
           1967
          ],
          [
           1967
          ],
          [
           1905
          ],
          [
           2006
          ],
          [
           2005
          ],
          [
           1948
          ],
          [
           1920
          ],
          [
           1950
          ],
          [
           1925
          ],
          [
           1929
          ],
          [
           2004
          ],
          [
           2006
          ],
          [
           2007
          ],
          [
           1915
          ],
          [
           2004
          ],
          [
           1972
          ],
          [
           1985
          ],
          [
           1910
          ],
          [
           1986
          ],
          [
           2001
          ],
          [
           1950
          ],
          [
           1949
          ],
          [
           2005
          ],
          [
           1923
          ],
          [
           2007
          ],
          [
           1885
          ],
          [
           1998
          ],
          [
           1963
          ],
          [
           1969
          ],
          [
           1968
          ],
          [
           1977
          ],
          [
           2003
          ],
          [
           1966
          ],
          [
           1958
          ],
          [
           1959
          ],
          [
           1994
          ],
          [
           1945
          ],
          [
           1940
          ],
          [
           1981
          ],
          [
           2005
          ],
          [
           1976
          ],
          [
           1927
          ],
          [
           2000
          ],
          [
           1977
          ],
          [
           1962
          ],
          [
           1971
          ],
          [
           2008
          ],
          [
           1957
          ],
          [
           1979
          ],
          [
           1922
          ],
          [
           2004
          ],
          [
           2008
          ],
          [
           1916
          ],
          [
           2004
          ],
          [
           1966
          ],
          [
           1962
          ],
          [
           1995
          ],
          [
           1910
          ],
          [
           1970
          ],
          [
           1974
          ],
          [
           2008
          ],
          [
           2005
          ],
          [
           2006
          ],
          [
           2004
          ],
          [
           1999
          ],
          [
           1978
          ],
          [
           1941
          ],
          [
           1950
          ],
          [
           1965
          ]
         ],
         "hovertemplate": "Lot Area (sq ft)=%{x}<br>Sale Price=%{y}<br>YearBuilt=%{customdata[0]}<br>OverallQual=%{marker.color}<extra></extra>",
         "legendgroup": "",
         "marker": {
          "color": [
           7,
           6,
           7,
           7,
           8,
           5,
           8,
           7,
           7,
           5,
           5,
           9,
           5,
           7,
           6,
           7,
           6,
           4,
           5,
           5,
           8,
           7,
           8,
           5,
           5,
           8,
           5,
           8,
           5,
           4,
           4,
           5,
           8,
           5,
           9,
           8,
           5,
           5,
           5,
           4,
           6,
           5,
           5,
           5,
           5,
           9,
           7,
           8,
           4,
           5,
           6,
           6,
           5,
           9,
           5,
           6,
           8,
           7,
           10,
           5,
           6,
           5,
           8,
           7,
           7,
           8,
           7,
           7,
           4,
           7,
           7,
           4,
           7,
           5,
           3,
           4,
           4,
           5,
           4,
           5,
           6,
           6,
           8,
           5,
           7,
           8,
           6,
           6,
           3,
           4,
           4,
           5,
           5,
           6,
           6,
           6,
           7,
           4,
           5,
           4,
           6,
           6,
           5,
           7,
           7,
           8,
           4,
           5,
           5,
           6,
           6,
           7,
           7,
           6,
           6,
           6,
           5,
           5,
           7,
           6,
           6,
           4,
           6,
           6,
           6,
           6,
           6,
           5,
           6,
           5,
           7,
           6,
           5,
           8,
           5,
           7,
           5,
           7,
           8,
           6,
           4,
           7,
           5,
           7,
           5,
           6,
           5,
           7,
           7,
           5,
           5,
           8,
           6,
           6,
           6,
           6,
           5,
           8,
           7,
           7,
           6,
           9,
           7,
           4,
           6,
           5,
           5,
           8,
           7,
           8,
           5,
           6,
           7,
           6,
           6,
           6,
           6,
           5,
           9,
           5,
           6,
           7,
           5,
           7,
           5,
           10,
           7,
           5,
           5,
           8,
           8,
           7,
           7,
           7,
           5,
           6,
           7,
           8,
           6,
           8,
           4,
           6,
           6,
           6,
           5,
           7,
           5,
           4,
           7,
           6,
           5,
           6,
           7,
           5,
           6,
           5,
           7,
           4,
           7,
           7,
           7,
           6,
           6,
           4,
           10,
           5,
           7,
           6,
           5,
           7,
           6,
           8,
           6,
           5,
           6,
           6,
           7,
           7,
           8,
           6,
           8,
           5,
           5,
           6,
           7,
           7,
           6,
           6,
           7,
           6,
           3,
           8,
           6,
           6,
           5,
           7,
           6,
           7,
           7,
           5,
           6,
           8,
           6,
           5,
           5,
           6,
           6,
           5,
           5,
           6,
           8,
           7,
           8,
           6,
           5,
           7,
           7,
           4,
           9,
           7,
           7,
           6,
           7,
           8,
           6,
           7,
           6,
           4,
           5,
           6,
           8,
           5,
           5,
           7,
           6,
           6,
           5,
           7,
           6,
           6,
           5,
           8,
           7,
           5,
           7,
           8,
           7,
           6,
           4,
           9,
           6,
           6,
           5,
           7,
           7,
           7,
           7,
           8,
           7,
           7,
           9,
           8,
           7,
           3,
           7,
           5,
           8,
           6,
           6,
           5,
           5,
           5,
           8,
           7,
           6,
           5,
           9,
           7,
           7,
           6,
           8,
           4,
           3,
           9,
           5,
           6,
           6,
           6,
           7,
           9,
           9,
           7,
           5,
           6,
           6,
           6,
           6,
           5,
           5,
           8,
           6,
           5,
           7,
           6,
           6,
           5,
           6,
           6,
           5,
           5,
           6,
           4,
           6,
           5,
           7,
           1,
           5,
           8,
           9,
           6,
           5,
           7,
           7,
           6,
           6,
           8,
           5,
           6,
           7,
           10,
           5,
           6,
           5,
           4,
           5,
           5,
           5,
           5,
           5,
           7,
           8,
           7,
           5,
           8,
           6,
           4,
           6,
           6,
           7,
           8,
           5,
           5,
           7,
           5,
           7,
           7,
           6,
           6,
           5,
           5,
           7,
           6,
           5,
           8,
           6,
           7,
           7,
           4,
           7,
           6,
           6,
           6,
           5,
           6,
           4,
           7,
           6,
           6,
           5,
           6,
           10,
           4,
           5,
           7,
           7,
           6,
           6,
           7,
           6,
           3,
           6,
           7,
           6,
           8,
           5,
           7,
           5,
           4,
           8,
           5,
           8,
           7,
           5,
           6,
           5,
           7,
           7,
           5,
           8,
           6,
           8,
           7,
           6,
           8,
           8,
           5,
           6,
           9,
           8,
           4,
           9,
           9,
           7,
           6,
           5,
           5,
           5,
           5,
           5,
           4,
           5,
           6,
           6,
           5,
           5,
           4,
           8,
           7,
           5,
           5,
           6,
           7,
           5,
           7,
           6,
           5,
           8,
           6,
           7,
           5,
           5,
           7,
           5,
           6,
           5,
           10,
           6,
           7,
           6,
           7,
           4,
           6,
           6,
           10,
           7,
           7,
           5,
           9,
           4,
           6,
           6,
           6,
           5,
           1,
           8,
           5,
           7,
           4,
           5,
           8,
           9,
           8,
           7,
           7,
           7,
           7,
           6,
           5,
           5,
           7,
           6,
           5,
           8,
           4,
           7,
           5,
           5,
           4,
           7,
           7,
           5,
           5,
           5,
           6,
           7,
           6,
           9,
           7,
           8,
           5,
           5,
           6,
           7,
           7,
           5,
           5,
           7,
           5,
           7,
           5,
           6,
           8,
           6,
           10,
           4,
           8,
           6,
           5,
           5,
           5,
           7,
           10,
           5,
           6,
           5,
           8,
           6,
           7,
           5,
           6,
           8,
           6,
           8,
           7,
           7,
           7,
           5,
           5,
           8,
           4,
           9,
           6,
           8,
           5,
           4,
           6,
           6,
           6,
           9,
           8,
           3,
           6,
           5,
           6,
           6,
           6,
           5,
           6,
           5,
           6,
           5,
           8,
           7,
           5,
           6,
           6,
           2,
           5,
           5,
           8,
           8,
           7,
           8,
           5,
           9,
           6,
           5,
           6,
           6,
           4,
           7,
           4,
           7,
           6,
           8,
           6,
           5,
           7,
           6,
           5,
           7,
           8,
           6,
           4,
           8,
           8,
           6,
           6,
           5,
           4,
           6,
           6,
           6,
           6,
           6,
           6,
           4,
           5,
           8,
           5,
           6,
           5,
           6,
           9,
           7,
           7,
           7,
           7,
           8,
           6,
           6,
           10,
           7,
           5,
           5,
           6,
           5,
           5,
           5,
           7,
           8,
           7,
           8,
           5,
           7,
           4,
           7,
           8,
           7,
           5,
           3,
           4,
           8,
           4,
           6,
           6,
           7,
           5,
           7,
           5,
           8,
           6,
           4,
           4,
           9,
           4,
           6,
           7,
           5,
           4,
           8,
           7,
           7,
           5,
           5,
           7,
           3,
           8,
           5,
           7,
           5,
           6,
           7,
           5,
           8,
           8,
           7,
           7,
           7,
           4,
           4,
           7,
           6,
           8,
           6,
           6,
           8,
           6,
           7,
           8,
           6,
           5,
           7,
           8,
           8,
           9,
           7,
           6,
           7,
           8,
           5,
           4,
           6,
           5,
           8,
           6,
           7,
           5,
           5,
           6,
           7,
           6,
           7,
           5,
           6,
           6,
           5,
           7,
           4,
           6,
           7,
           6,
           7,
           8,
           7,
           6,
           6,
           5,
           9,
           5,
           6,
           4,
           7,
           9,
           5,
           7,
           5,
           5,
           5,
           5,
           6,
           6,
           5,
           6,
           5,
           7,
           5,
           8,
           6,
           7,
           7,
           4,
           7,
           6,
           8,
           10,
           5,
           7,
           5,
           7,
           6,
           7,
           7,
           6,
           5,
           4,
           5,
           6,
           5,
           5,
           6,
           5,
           6,
           5,
           5,
           5,
           7,
           5,
           6,
           6,
           6,
           8,
           7,
           6,
           5,
           5,
           6,
           6,
           7,
           6,
           7,
           5,
           6,
           5,
           7,
           5,
           8,
           4,
           5,
           7,
           5,
           6,
           5,
           5,
           5,
           8,
           4,
           9,
           5,
           5,
           5,
           7,
           6,
           4,
           5,
           9,
           5,
           5,
           8,
           6,
           5,
           6,
           6,
           5,
           5,
           6,
           4,
           5,
           9,
           5,
           4,
           5,
           7,
           7,
           5,
           5,
           8,
           7,
           5,
           6,
           5,
           5,
           5,
           5,
           6,
           4,
           2,
           4,
           7,
           6,
           6,
           5,
           6,
           6,
           6,
           5,
           8,
           7,
           8,
           7,
           8,
           5,
           9,
           7,
           7,
           4,
           7,
           7,
           7,
           7,
           6,
           7,
           4,
           5,
           6,
           5,
           5,
           8,
           7,
           6,
           5,
           5,
           5,
           5,
           6,
           6,
           6,
           5,
           7,
           7,
           5,
           6,
           6,
           9,
           7,
           6,
           5,
           5,
           3,
           6,
           4,
           7,
           6,
           7,
           7,
           7,
           4,
           7,
           4,
           5,
           7,
           8,
           7,
           8,
           5,
           5,
           6,
           9,
           6,
           7,
           8,
           8,
           6,
           6,
           10,
           4,
           5,
           6,
           3,
           7,
           3,
           5,
           8,
           5,
           7,
           5,
           6,
           4,
           7,
           5,
           5,
           5,
           6,
           5,
           6,
           8,
           7,
           8,
           7,
           7,
           4,
           7,
           5,
           7,
           8,
           5,
           5,
           8,
           5,
           6,
           5,
           7,
           8,
           7,
           5,
           4,
           9,
           8,
           4,
           4,
           5,
           6,
           6,
           7,
           8,
           3,
           9,
           5,
           5,
           4,
           7,
           7,
           6,
           5,
           8,
           6,
           7,
           7,
           9,
           6,
           8,
           3,
           5,
           6,
           5,
           7,
           6,
           6,
           6,
           5,
           5,
           6,
           5,
           6,
           7,
           7,
           5,
           5,
           6,
           5,
           6,
           5,
           7,
           6,
           6,
           6,
           4,
           8,
           7,
           8,
           3,
           7,
           6,
           5,
           5,
           6,
           6,
           8,
           4,
           7,
           2,
           5,
           5,
           6,
           5,
           8,
           7,
           7,
           6,
           8,
           6,
           7,
           5,
           5,
           5,
           8,
           8,
           5,
           5,
           5,
           6,
           7,
           4,
           5,
           7,
           4,
           7,
           7,
           7,
           5,
           4,
           5,
           6,
           8,
           6,
           6,
           6,
           5,
           6,
           5,
           5,
           5,
           8,
           5,
           4,
           5,
           6,
           7,
           7,
           7,
           6,
           5,
           6,
           6,
           7,
           5,
           5,
           7,
           8,
           6,
           6,
           6,
           5,
           4,
           5,
           7,
           8,
           6,
           6,
           10,
           6,
           6,
           7,
           5,
           6,
           8,
           5,
           6,
           5,
           5,
           7,
           8,
           10,
           5,
           5,
           5,
           3,
           8,
           7,
           7,
           4,
           8,
           5,
           6,
           6,
           6,
           7,
           7,
           7,
           4,
           4,
           7,
           5,
           7,
           5,
           7,
           4,
           6,
           5,
           8,
           6,
           8,
           4,
           4,
           5,
           5,
           6,
           8,
           4,
           6,
           5,
           5,
           6,
           5,
           7,
           6,
           6,
           5,
           9,
           5,
           5,
           5,
           4,
           5,
           5,
           5,
           7,
           7,
           6,
           8,
           7,
           7,
           7,
           10,
           8,
           6,
           7,
           6,
           6,
           5,
           7,
           7,
           5,
           7,
           7,
           6,
           8,
           5,
           7,
           6,
           6,
           5,
           4,
           6,
           6,
           7,
           7,
           9,
           8,
           5,
           7,
           6,
           5,
           6,
           5,
           5,
           6,
           6,
           8,
           4,
           7,
           7,
           5,
           6,
           6,
           6,
           6,
           5,
           8,
           8,
           5,
           5,
           5,
           7,
           5,
           5,
           5,
           6,
           10,
           5,
           7,
           6,
           8,
           7,
           7,
           9,
           7,
           5,
           5,
           6,
           7,
           7,
           8,
           9,
           4,
           6,
           8,
           7,
           8,
           4,
           6,
           3,
           7,
           4,
           8,
           4,
           3,
           5,
           6,
           7,
           8,
           5,
           4,
           5,
           5,
           6,
           5,
           4,
           7,
           5,
           4,
           6,
           8,
           6,
           7,
           4,
           7,
           8,
           7,
           8,
           5,
           6,
           6,
           8,
           7,
           7,
           5,
           5,
           6,
           9,
           5,
           7,
           4,
           6,
           7,
           7,
           7,
           5,
           6,
           8,
           4,
           6,
           7,
           10,
           7,
           8,
           6,
           5,
           6,
           5,
           3,
           6,
           7,
           5,
           6,
           4,
           7,
           6,
           9,
           6,
           7,
           5,
           5,
           6,
           7,
           8,
           5,
           5,
           5,
           6,
           6,
           6,
           7,
           8,
           3,
           8,
           5,
           5,
           4,
           7,
           7,
           6,
           4,
           8,
           6,
           7,
           4,
           8,
           5,
           6,
           6,
           6,
           6,
           6,
           5,
           6,
           7,
           5,
           5,
           6,
           5,
           6,
           4,
           6,
           5,
           6,
           4,
           8,
           6,
           7,
           6,
           6,
           10,
           6,
           7,
           6,
           5,
           8,
           4,
           5,
           5,
           8,
           5,
           5,
           7,
           6,
           6,
           7,
           5,
           5
          ],
          "coloraxis": "coloraxis",
          "symbol": "circle"
         },
         "mode": "markers",
         "name": "",
         "showlegend": false,
         "type": "scattergl",
         "x": [
          8450,
          9600,
          11250,
          9550,
          14260,
          14115,
          10084,
          10382,
          6120,
          7420,
          11200,
          11924,
          12968,
          10652,
          10920,
          6120,
          11241,
          10791,
          13695,
          7560,
          14215,
          7449,
          9742,
          4224,
          8246,
          14230,
          7200,
          11478,
          16321,
          6324,
          8500,
          8544,
          11049,
          10552,
          7313,
          13418,
          10859,
          8532,
          7922,
          6040,
          8658,
          16905,
          9180,
          9200,
          7945,
          7658,
          12822,
          11096,
          4456,
          7742,
          13869,
          6240,
          8472,
          50271,
          7134,
          10175,
          2645,
          11645,
          13682,
          7200,
          13072,
          7200,
          6442,
          10300,
          9375,
          9591,
          19900,
          10665,
          4608,
          15593,
          13651,
          7599,
          10141,
          10200,
          5790,
          1596,
          8475,
          8635,
          10778,
          10440,
          13000,
          4500,
          10206,
          8892,
          8530,
          16059,
          11911,
          3951,
          8470,
          8070,
          7200,
          8500,
          13360,
          7200,
          9337,
          9765,
          10264,
          10921,
          10625,
          9320,
          10603,
          9206,
          7018,
          10402,
          7758,
          9375,
          10800,
          6000,
          8500,
          11751,
          9525,
          7750,
          9965,
          21000,
          7259,
          3230,
          11616,
          8536,
          12376,
          8461,
          21453,
          6060,
          9464,
          7892,
          17043,
          6780,
          4928,
          4388,
          7590,
          8973,
          14200,
          12224,
          7388,
          6853,
          10335,
          10400,
          10355,
          11070,
          9066,
          15426,
          10500,
          11645,
          8520,
          10335,
          9100,
          2522,
          6120,
          9505,
          7500,
          6240,
          10356,
          13891,
          14803,
          13500,
          11340,
          9600,
          7200,
          12003,
          12552,
          19378,
          11120,
          13688,
          12182,
          5500,
          5400,
          10106,
          10708,
          10562,
          8244,
          16669,
          12358,
          31770,
          5306,
          10197,
          12416,
          12615,
          10029,
          13650,
          17423,
          8520,
          2117,
          7588,
          9060,
          11426,
          7438,
          22950,
          9947,
          10410,
          7018,
          4923,
          10570,
          7472,
          9017,
          2522,
          7180,
          2280,
          9416,
          25419,
          5520,
          9591,
          8546,
          10125,
          7000,
          4438,
          3500,
          11851,
          13673,
          12493,
          14364,
          8250,
          5604,
          10420,
          8640,
          13568,
          10900,
          10011,
          8450,
          9906,
          15660,
          3010,
          8990,
          8068,
          11475,
          10500,
          13472,
          1680,
          9950,
          1869,
          8521,
          3182,
          8760,
          15138,
          1680,
          10650,
          7851,
          1680,
          8773,
          9453,
          12030,
          8741,
          9000,
          3880,
          5000,
          10762,
          8880,
          10400,
          9142,
          11310,
          11317,
          159000,
          5350,
          4750,
          8366,
          9350,
          8400,
          8738,
          8791,
          8814,
          12435,
          12702,
          19296,
          9588,
          8471,
          5500,
          5232,
          12090,
          11207,
          8400,
          6900,
          7917,
          10728,
          39104,
          11764,
          9600,
          8314,
          7264,
          9196,
          19138,
          14450,
          10005,
          11287,
          7200,
          5063,
          9612,
          8012,
          4251,
          9786,
          8125,
          9819,
          8730,
          15611,
          5687,
          11409,
          16659,
          9600,
          7937,
          13710,
          7399,
          11700,
          14000,
          15750,
          16226,
          13704,
          9800,
          18386,
          10386,
          13474,
          7920,
          12342,
          12378,
          7685,
          8000,
          7800,
          215245,
          9600,
          7795,
          13005,
          9000,
          9900,
          14115,
          16259,
          12099,
          10380,
          5820,
          11275,
          5000,
          10846,
          11600,
          11888,
          6402,
          10624,
          8176,
          10655,
          8198,
          9042,
          164660,
          14157,
          9135,
          14145,
          12400,
          14191,
          8400,
          8544,
          8849,
          2592,
          6435,
          12772,
          17600,
          2448,
          20431,
          7820,
          5271,
          9084,
          8520,
          8400,
          11249,
          9248,
          4224,
          6930,
          12011,
          7540,
          9144,
          7301,
          1680,
          18800,
          10690,
          9500,
          9150,
          7800,
          9830,
          8121,
          17120,
          7175,
          10634,
          8200,
          10020,
          8846,
          11143,
          11394,
          8123,
          5000,
          7200,
          9245,
          9000,
          53107,
          3182,
          8410,
          7200,
          9382,
          12474,
          8405,
          12209,
          8339,
          7446,
          10134,
          9571,
          7200,
          7590,
          8967,
          8125,
          14963,
          8767,
          10200,
          12090,
          10364,
          9991,
          10480,
          15576,
          14154,
          10800,
          9571,
          34650,
          4403,
          8960,
          11228,
          8899,
          7844,
          22420,
          8160,
          8450,
          7060,
          16635,
          21750,
          9200,
          9000,
          3378,
          12800,
          8593,
          6762,
          11457,
          1680,
          5586,
          1920,
          10839,
          1890,
          10667,
          4400,
          6000,
          4280,
          12354,
          15431,
          12108,
          6240,
          3922,
          8750,
          9855,
          16492,
          11214,
          8600,
          6000,
          5684,
          70761,
          9303,
          9000,
          9297,
          9600,
          4571,
          53227,
          5100,
          7015,
          8004,
          7200,
          8281,
          11988,
          8430,
          3072,
          10628,
          9480,
          11428,
          9291,
          6820,
          11952,
          3675,
          14977,
          5330,
          8480,
          13125,
          13693,
          10637,
          5925,
          16033,
          11846,
          2500,
          4500,
          7758,
          9600,
          10289,
          12243,
          10800,
          1526,
          2665,
          9490,
          15578,
          7931,
          5784,
          7879,
          12692,
          9120,
          7800,
          7535,
          1890,
          9803,
          9170,
          15602,
          2308,
          7596,
          9554,
          7862,
          9600,
          9600,
          14559,
          6792,
          9100,
          9187,
          10594,
          12220,
          10448,
          10208,
          9531,
          10918,
          10800,
          11988,
          5000,
          40094,
          11787,
          7500,
          13300,
          14948,
          9098,
          32668,
          10200,
          6155,
          7200,
          5000,
          9056,
          7000,
          8924,
          12735,
          11553,
          11423,
          14601,
          11000,
          10140,
          4058,
          17104,
          13837,
          8737,
          7244,
          8235,
          9375,
          4043,
          6000,
          11146,
          8777,
          10625,
          6380,
          14850,
          11040,
          21872,
          3196,
          11341,
          10010,
          13907,
          21780,
          13346,
          6858,
          11198,
          10171,
          12327,
          7032,
          13101,
          7332,
          13159,
          9967,
          10500,
          8480,
          6292,
          11777,
          3604,
          12150,
          14585,
          12704,
          11841,
          13500,
          6120,
          11443,
          10267,
          8740,
          25095,
          9100,
          8320,
          13478,
          6600,
          4435,
          7990,
          11302,
          3600,
          3922,
          12984,
          1950,
          10927,
          9000,
          10041,
          3182,
          12803,
          13600,
          12464,
          7800,
          12168,
          7943,
          11050,
          10395,
          11885,
          8402,
          1491,
          8800,
          7861,
          7227,
          11694,
          12244,
          8248,
          10800,
          7064,
          2117,
          10400,
          10000,
          12342,
          9600,
          11606,
          9020,
          9000,
          4590,
          11900,
          9250,
          6979,
          10896,
          6120,
          6000,
          8777,
          3982,
          12677,
          7050,
          13860,
          10793,
          9187,
          10530,
          7200,
          10452,
          7700,
          1936,
          8125,
          9084,
          8750,
          10320,
          10437,
          1680,
          10007,
          7200,
          17503,
          9937,
          12384,
          46589,
          13560,
          10012,
          20896,
          11194,
          18450,
          8125,
          14175,
          11600,
          8633,
          6629,
          11250,
          14442,
          9200,
          2289,
          9600,
          9022,
          11844,
          9945,
          8012,
          4500,
          2887,
          11248,
          16770,
          5062,
          10207,
          5105,
          8089,
          7577,
          4426,
          21535,
          26178,
          5400,
          6120,
          13811,
          6000,
          6420,
          8450,
          4282,
          14331,
          9600,
          12438,
          7630,
          8400,
          5600,
          115149,
          6240,
          9018,
          7162,
          4130,
          8712,
          4671,
          9873,
          13517,
          10140,
          10800,
          10000,
          10542,
          9920,
          6563,
          4426,
          8120,
          8172,
          13286,
          6960,
          21695,
          7314,
          11475,
          6240,
          5389,
          9590,
          11404,
          10000,
          8978,
          10800,
          8544,
          10463,
          10800,
          9313,
          9600,
          6768,
          8450,
          12886,
          5395,
          8963,
          8795,
          11700,
          10593,
          8405,
          8800,
          7750,
          9236,
          10240,
          7930,
          3230,
          10769,
          11616,
          2280,
          12257,
          9100,
          6911,
          8640,
          9430,
          9549,
          14587,
          10421,
          12508,
          9100,
          53504,
          7252,
          8877,
          7819,
          10150,
          14226,
          4500,
          11210,
          13350,
          8400,
          10530,
          7875,
          7153,
          16285,
          9101,
          6300,
          9790,
          10800,
          10142,
          6000,
          12205,
          3182,
          11333,
          9920,
          9158,
          10832,
          8400,
          8197,
          7677,
          13518,
          7200,
          12798,
          4800,
          8199,
          13891,
          9000,
          12274,
          9750,
          21384,
          13400,
          8100,
          10140,
          4438,
          8712,
          9750,
          8248,
          12137,
          11425,
          13265,
          8816,
          6371,
          7226,
          6000,
          12394,
          9900,
          11216,
          14803,
          6130,
          8529,
          28698,
          2544,
          11900,
          3180,
          9548,
          10004,
          7875,
          9600,
          8100,
          1680,
          9525,
          11767,
          12155,
          10440,
          9020,
          8000,
          12665,
          16647,
          9317,
          15523,
          45600,
          9600,
          4435,
          3196,
          7128,
          12095,
          17920,
          6897,
          10970,
          8125,
          10400,
          11029,
          7642,
          11625,
          9672,
          7931,
          8640,
          8750,
          10656,
          6970,
          14762,
          9938,
          6600,
          8750,
          8892,
          12144,
          5720,
          9000,
          25286,
          8834,
          11782,
          7000,
          7024,
          13758,
          9636,
          6204,
          7150,
          5119,
          8393,
          16466,
          15865,
          12160,
          8064,
          11184,
          8414,
          13284,
          7018,
          7056,
          8765,
          7018,
          12919,
          6993,
          7340,
          8712,
          7875,
          14859,
          6173,
          9920,
          13501,
          11500,
          8885,
          12589,
          11600,
          9286,
          6120,
          6270,
          3000,
          2001,
          9000,
          17140,
          13125,
          11029,
          8462,
          8777,
          10237,
          8012,
          10240,
          15611,
          11999,
          9900,
          11838,
          13006,
          8925,
          9100,
          11670,
          8487,
          27650,
          5825,
          10083,
          9675,
          8760,
          24090,
          12640,
          8755,
          7711,
          25000,
          14375,
          8820,
          8163,
          14536,
          14006,
          9360,
          7200,
          7800,
          7200,
          11075,
          9400,
          7136,
          1300,
          7420,
          8450,
          2572,
          7207,
          12227,
          2308,
          11923,
          11316,
          10237,
          9600,
          7390,
          5925,
          10382,
          10800,
          2268,
          7892,
          11639,
          11414,
          2651,
          5900,
          4274,
          9450,
          8816,
          12122,
          12203,
          3182,
          11250,
          10125,
          10880,
          5310,
          10159,
          12046,
          8125,
          9452,
          17671,
          9760,
          8846,
          12456,
          4712,
          10659,
          11717,
          9786,
          6762,
          10206,
          5400,
          11957,
          11500,
          3182,
          8385,
          12155,
          2217,
          12118,
          6000,
          21286,
          9825,
          10592,
          7200,
          11664,
          8400,
          11883,
          5814,
          10784,
          3013,
          7024,
          7406,
          9439,
          3182,
          15498,
          7700,
          9300,
          9520,
          9492,
          1680,
          7082,
          15863,
          14541,
          8125,
          6305,
          11500,
          12898,
          9240,
          1533,
          1477,
          13125,
          9130,
          5381,
          11839,
          9600,
          13680,
          16056,
          9245,
          21750,
          11100,
          8993,
          11175,
          9500,
          8562,
          11367,
          11361,
          7052,
          29959,
          11308,
          11275,
          4920,
          18000,
          13600,
          6000,
          11000,
          14000,
          7837,
          9760,
          3964,
          9600,
          10152,
          11700,
          7585,
          7950,
          8556,
          13125,
          10800,
          15870,
          4435,
          8775,
          11040,
          7500,
          8749,
          8800,
          13031,
          9069,
          1974,
          10574,
          2522,
          3316,
          8544,
          2160,
          8400,
          9230,
          5868,
          9317,
          6882,
          3696,
          6000,
          11880,
          8400,
          9758,
          7000,
          8910,
          2016,
          12256,
          10357,
          23257,
          8063,
          11362,
          8000,
          10480,
          7100,
          8923,
          5400,
          12085,
          7750,
          9764,
          13825,
          7560,
          8263,
          10084,
          8926,
          9405,
          9125,
          10434,
          3684,
          14572,
          11796,
          7200,
          7804,
          10712,
          9900,
          9828,
          8773,
          6180,
          9600,
          6342,
          9819,
          8731,
          7350,
          10304,
          9965,
          9000,
          12180,
          6240,
          11200,
          12000,
          5700,
          9000,
          8280,
          17755,
          14115,
          5890,
          13700,
          10768,
          9350,
          5001,
          11932,
          9120,
          2280,
          14778,
          8724,
          12900,
          16157,
          9541,
          10475,
          10852,
          13728,
          35760,
          9880,
          9120,
          4017,
          18030,
          16560,
          10678,
          6951,
          3950,
          7681,
          8335,
          11170,
          5587,
          15623,
          10800,
          35133,
          9738,
          10615,
          12461,
          8935,
          7500,
          32463,
          2645,
          9600,
          4500,
          9364,
          8029,
          14054,
          8850,
          9100,
          11235,
          9353,
          10400,
          6000,
          9750,
          10140,
          14684,
          8900,
          9135,
          7763,
          10182,
          11218,
          12134,
          9340,
          10246,
          10205,
          7094,
          8930,
          8640,
          6240,
          1680,
          7800,
          8250,
          10496,
          10680,
          15384,
          10482,
          14598,
          8872,
          8769,
          7910,
          18890,
          7728,
          9842,
          12160,
          8525,
          13132,
          2628,
          12393,
          13072,
          9037,
          8158,
          9849,
          10625,
          13891,
          11435,
          12090,
          8125,
          12328,
          9600,
          7200,
          11160,
          3136,
          9858,
          17542,
          6931,
          6240,
          14303,
          4060,
          9587,
          9750,
          24682,
          9600,
          11250,
          13515,
          4060,
          3735,
          10120,
          13214,
          14100,
          11344,
          23595,
          9156,
          13526,
          11512,
          5362,
          11345,
          12936,
          17871,
          9473,
          7500,
          9808,
          8049,
          8800,
          9400,
          9638,
          6000,
          9790,
          36500,
          5664,
          11065,
          14112,
          1680,
          6600,
          10140,
          8172,
          8400,
          8700,
          3675,
          63887,
          7500,
          10762,
          7500,
          10120,
          8688,
          3363,
          13173,
          6955,
          8072,
          12000,
          7153,
          17500,
          8814,
          9572,
          14774,
          8190,
          11075,
          10226,
          4230,
          14781,
          10215,
          8400,
          6627,
          10186,
          5330,
          9986,
          3636,
          4270,
          6600,
          10440,
          9084,
          10000,
          10780,
          8877,
          7200,
          2368,
          9650,
          9246,
          4118,
          13450,
          9560,
          8294,
          13695,
          9375,
          7558,
          11103,
          6000,
          20781,
          15306,
          16196,
          5250,
          11643,
          9247,
          6000,
          14720,
          10316,
          10192,
          9477,
          12537,
          2117,
          16737,
          9842,
          16158,
          12513,
          8499,
          3180,
          7500,
          9179,
          2665,
          4435,
          10635,
          5400,
          9600,
          9750,
          11400,
          10625,
          10991,
          6292,
          10998,
          1953,
          9735,
          8212,
          12925,
          7200,
          25339,
          9060,
          5436,
          16692,
          8520,
          14892,
          6000,
          9100,
          8944,
          7838,
          10800,
          4045,
          12665,
          57200,
          6120,
          7200,
          6171,
          6000,
          7415,
          6762,
          15256,
          10410,
          3842,
          8445,
          8780,
          7740,
          20544,
          12420,
          9600,
          7200,
          10994,
          13053,
          3635,
          11340,
          16545,
          9204,
          16381,
          11700,
          4043,
          4435,
          19690,
          9503,
          10721,
          10944,
          10930,
          7200,
          12546,
          21930,
          4928,
          10800,
          10261,
          17400,
          8400,
          9000,
          12444,
          7407,
          11584,
          11526,
          4426,
          11003,
          8854,
          8500,
          8400,
          26142,
          10000,
          11767,
          1533,
          9000,
          9262,
          3675,
          17217,
          7500,
          7917,
          13175,
          9042,
          9717,
          9937
         ],
         "xaxis": "x",
         "y": [
          208500,
          181500,
          223500,
          140000,
          250000,
          143000,
          307000,
          200000,
          129900,
          118000,
          129500,
          345000,
          144000,
          279500,
          157000,
          132000,
          149000,
          90000,
          159000,
          139000,
          325300,
          139400,
          230000,
          129900,
          154000,
          256300,
          134800,
          306000,
          207500,
          68500,
          40000,
          149350,
          179900,
          165500,
          277500,
          309000,
          145000,
          153000,
          109000,
          82000,
          160000,
          170000,
          144000,
          130250,
          141000,
          319900,
          239686,
          249700,
          113000,
          127000,
          177000,
          114500,
          110000,
          385000,
          130000,
          180500,
          172500,
          196500,
          438780,
          124900,
          158000,
          101000,
          202500,
          140000,
          219500,
          317000,
          180000,
          226000,
          80000,
          225000,
          244000,
          129500,
          185000,
          144900,
          107400,
          91000,
          135750,
          127000,
          136500,
          110000,
          193500,
          153500,
          245000,
          126500,
          168500,
          260000,
          174000,
          164500,
          85000,
          123600,
          109900,
          98600,
          163500,
          133900,
          204750,
          185000,
          214000,
          94750,
          83000,
          128950,
          205000,
          178000,
          118964,
          198900,
          169500,
          250000,
          100000,
          115000,
          115000,
          190000,
          136900,
          180000,
          383970,
          217000,
          259500,
          176000,
          139000,
          155000,
          320000,
          163990,
          180000,
          100000,
          136000,
          153900,
          181000,
          84500,
          128000,
          87000,
          155000,
          150000,
          226000,
          244000,
          150750,
          220000,
          180000,
          174000,
          143000,
          171000,
          230000,
          231500,
          115000,
          260000,
          166000,
          204000,
          125000,
          130000,
          105000,
          222500,
          141000,
          115000,
          122000,
          372402,
          190000,
          235000,
          125000,
          79000,
          109500,
          269500,
          254900,
          320000,
          162500,
          412500,
          220000,
          103200,
          152000,
          127500,
          190000,
          325624,
          183500,
          228000,
          128500,
          215000,
          239000,
          163000,
          184000,
          243000,
          211000,
          172500,
          501837,
          100000,
          177000,
          200100,
          120000,
          200000,
          127000,
          475000,
          173000,
          135000,
          153337,
          286000,
          315000,
          184000,
          192000,
          130000,
          127000,
          148500,
          311872,
          235000,
          104000,
          274900,
          140000,
          171500,
          112000,
          149000,
          110000,
          180500,
          143900,
          141000,
          277000,
          145000,
          98000,
          186000,
          252678,
          156000,
          161750,
          134450,
          210000,
          107000,
          311500,
          167240,
          204900,
          200000,
          179900,
          97000,
          386250,
          112000,
          290000,
          106000,
          125000,
          192500,
          148000,
          403000,
          94500,
          128200,
          216500,
          89500,
          185500,
          194500,
          318000,
          113000,
          262500,
          110500,
          79000,
          120000,
          205000,
          241500,
          137000,
          140000,
          180000,
          277000,
          76500,
          235000,
          173000,
          158000,
          145000,
          230000,
          207500,
          220000,
          231500,
          97000,
          176000,
          276000,
          151000,
          130000,
          73000,
          175500,
          185000,
          179500,
          120500,
          148000,
          266000,
          241500,
          290000,
          139000,
          124500,
          205000,
          201000,
          141000,
          415298,
          192000,
          228500,
          185000,
          207500,
          244600,
          179200,
          164700,
          159000,
          88000,
          122000,
          153575,
          233230,
          135900,
          131000,
          235000,
          167000,
          142500,
          152000,
          239000,
          175000,
          158500,
          157000,
          267000,
          205000,
          149900,
          295000,
          305900,
          225000,
          89500,
          82500,
          360000,
          165600,
          132000,
          119900,
          375000,
          178000,
          188500,
          260000,
          270000,
          260000,
          187500,
          342643,
          354000,
          301000,
          126175,
          242000,
          87000,
          324000,
          145250,
          214500,
          78000,
          119000,
          139000,
          284000,
          207000,
          192000,
          228950,
          377426,
          214000,
          202500,
          155000,
          202900,
          82000,
          87500,
          266000,
          85000,
          140200,
          151500,
          157500,
          154000,
          437154,
          318061,
          190000,
          95000,
          105900,
          140000,
          177500,
          173000,
          134000,
          130000,
          280000,
          156000,
          145000,
          198500,
          118000,
          190000,
          147000,
          159000,
          165000,
          132000,
          162000,
          172400,
          134432,
          125000,
          123000,
          219500,
          61000,
          148000,
          340000,
          394432,
          179000,
          127000,
          187750,
          213500,
          76000,
          240000,
          192000,
          81000,
          125000,
          191000,
          426000,
          119000,
          215000,
          106500,
          100000,
          109000,
          129000,
          123000,
          169500,
          67000,
          241000,
          245500,
          164990,
          108000,
          258000,
          168000,
          150000,
          115000,
          177000,
          280000,
          339750,
          60000,
          145000,
          222000,
          115000,
          228000,
          181134,
          149500,
          239000,
          126000,
          142000,
          206300,
          215000,
          113000,
          315000,
          139000,
          135000,
          275000,
          109008,
          195400,
          175000,
          85400,
          79900,
          122500,
          181000,
          81000,
          212000,
          116000,
          119000,
          90350,
          110000,
          555000,
          118000,
          162900,
          172500,
          210000,
          127500,
          190000,
          199900,
          119500,
          120000,
          110000,
          280000,
          204000,
          210000,
          188000,
          175500,
          98000,
          256000,
          161000,
          110000,
          263435,
          155000,
          62383,
          188700,
          124000,
          178740,
          167000,
          146500,
          250000,
          187000,
          212000,
          190000,
          148000,
          440000,
          251000,
          132500,
          208900,
          380000,
          297000,
          89471,
          326000,
          374000,
          155000,
          164000,
          132500,
          147000,
          156000,
          175000,
          160000,
          86000,
          115000,
          133000,
          172785,
          155000,
          91300,
          34900,
          430000,
          184000,
          130000,
          120000,
          113000,
          226700,
          140000,
          289000,
          147000,
          124500,
          215000,
          208300,
          161000,
          124500,
          164900,
          202665,
          129900,
          134000,
          96500,
          402861,
          158000,
          265000,
          211000,
          234000,
          106250,
          150000,
          159000,
          184750,
          315750,
          176000,
          132000,
          446261,
          86000,
          200624,
          175000,
          128000,
          107500,
          39300,
          178000,
          107500,
          188000,
          111250,
          158000,
          272000,
          315000,
          248000,
          213250,
          133000,
          179665,
          229000,
          210000,
          129500,
          125000,
          263000,
          140000,
          112500,
          255500,
          108000,
          284000,
          113000,
          141000,
          108000,
          175000,
          234000,
          121500,
          170000,
          108000,
          185000,
          268000,
          128000,
          325000,
          214000,
          316600,
          135960,
          142600,
          120000,
          224500,
          170000,
          139000,
          118500,
          145000,
          164500,
          146000,
          131500,
          181900,
          253293,
          118500,
          325000,
          133000,
          369900,
          130000,
          137000,
          143000,
          79500,
          185900,
          451950,
          138000,
          140000,
          110000,
          319000,
          114504,
          194201,
          217500,
          151000,
          275000,
          141000,
          220000,
          151000,
          221000,
          205000,
          152000,
          225000,
          359100,
          118500,
          313000,
          148000,
          261500,
          147000,
          75500,
          137500,
          183200,
          105500,
          314813,
          305000,
          67000,
          240000,
          135000,
          168500,
          165150,
          160000,
          139900,
          153000,
          135000,
          168500,
          124000,
          209500,
          82500,
          139400,
          144000,
          200000,
          60000,
          93000,
          85000,
          264561,
          274000,
          226000,
          345000,
          152000,
          370878,
          143250,
          98300,
          155000,
          155000,
          84500,
          205950,
          108000,
          191000,
          135000,
          350000,
          88000,
          145500,
          149000,
          97500,
          167000,
          197900,
          402000,
          110000,
          137500,
          423000,
          230500,
          129000,
          193500,
          168000,
          137500,
          173500,
          103600,
          165000,
          257500,
          140000,
          148500,
          87000,
          109500,
          372500,
          128500,
          143000,
          159434,
          173000,
          285000,
          221000,
          207500,
          227875,
          148800,
          392000,
          194700,
          141000,
          755000,
          335000,
          108480,
          141500,
          176000,
          89000,
          123500,
          138500,
          196000,
          312500,
          140000,
          361919,
          140000,
          213000,
          55000,
          302000,
          254000,
          179540,
          109900,
          52000,
          102776,
          189000,
          129000,
          130500,
          165000,
          159500,
          157000,
          341000,
          128500,
          275000,
          143000,
          124500,
          135000,
          320000,
          120500,
          222000,
          194500,
          110000,
          103000,
          236500,
          187500,
          222500,
          131400,
          108000,
          163000,
          93500,
          239900,
          179000,
          190000,
          132000,
          142000,
          179000,
          175000,
          180000,
          299800,
          236000,
          265979,
          260400,
          98000,
          96500,
          162000,
          217000,
          275500,
          156000,
          172500,
          212000,
          158900,
          179400,
          290000,
          127500,
          100000,
          215200,
          337000,
          270000,
          264132,
          196500,
          160000,
          216837,
          538000,
          134900,
          102000,
          107000,
          114500,
          395000,
          162000,
          221500,
          142500,
          144000,
          135000,
          176000,
          175900,
          187100,
          165500,
          128000,
          161500,
          139000,
          233000,
          107900,
          187500,
          160200,
          146800,
          269790,
          225000,
          194500,
          171000,
          143500,
          110000,
          485000,
          175000,
          200000,
          109900,
          189000,
          582933,
          118000,
          227680,
          135500,
          223500,
          159950,
          106000,
          181000,
          144500,
          55993,
          157900,
          116000,
          224900,
          137000,
          271000,
          155000,
          224000,
          183000,
          93000,
          225000,
          139500,
          232600,
          385000,
          109500,
          189000,
          185000,
          147400,
          166000,
          151000,
          237000,
          167000,
          139950,
          128000,
          153500,
          100000,
          144000,
          130500,
          140000,
          157500,
          174900,
          141000,
          153900,
          171000,
          213000,
          133500,
          240000,
          187000,
          131500,
          215000,
          164000,
          158000,
          170000,
          127000,
          147000,
          174000,
          152000,
          250000,
          189950,
          131500,
          152000,
          132500,
          250580,
          148500,
          248900,
          129000,
          169000,
          236000,
          109500,
          200500,
          116000,
          133000,
          66500,
          303477,
          132250,
          350000,
          148000,
          136500,
          157000,
          187500,
          178000,
          118500,
          100000,
          328900,
          145000,
          135500,
          268000,
          149500,
          122900,
          172500,
          154500,
          165000,
          118858,
          140000,
          106500,
          142953,
          611657,
          135000,
          110000,
          153000,
          180000,
          240000,
          125500,
          128000,
          255000,
          250000,
          131000,
          174000,
          154300,
          143500,
          88000,
          145000,
          173733,
          75000,
          35311,
          135000,
          238000,
          176500,
          201000,
          145900,
          169990,
          193000,
          207500,
          175000,
          285000,
          176000,
          236500,
          222000,
          201000,
          117500,
          320000,
          190000,
          242000,
          79900,
          184900,
          253000,
          239799,
          244400,
          150900,
          214000,
          150000,
          143000,
          137500,
          124900,
          143000,
          270000,
          192500,
          197500,
          129000,
          119900,
          133900,
          172000,
          127500,
          145000,
          124000,
          132000,
          185000,
          155000,
          116500,
          272000,
          155000,
          239000,
          214900,
          178900,
          160000,
          135000,
          37900,
          140000,
          135000,
          173000,
          99500,
          182000,
          167500,
          165000,
          85500,
          199900,
          110000,
          139000,
          178400,
          336000,
          159895,
          255900,
          126000,
          125000,
          117000,
          395192,
          195000,
          197000,
          348000,
          168000,
          187000,
          173900,
          337500,
          121600,
          136500,
          185000,
          91000,
          206000,
          82000,
          86000,
          232000,
          136905,
          181000,
          149900,
          163500,
          88000,
          240000,
          102000,
          135000,
          100000,
          165000,
          85000,
          119200,
          227000,
          203000,
          187500,
          160000,
          213490,
          176000,
          194000,
          87000,
          191000,
          287000,
          112500,
          167500,
          293077,
          105000,
          118000,
          160000,
          197000,
          310000,
          230000,
          119750,
          84000,
          315500,
          287000,
          97000,
          80000,
          155000,
          173000,
          196000,
          262280,
          278000,
          139600,
          556581,
          145000,
          115000,
          84900,
          176485,
          200141,
          165000,
          144500,
          255000,
          180000,
          185850,
          248000,
          335000,
          220000,
          213500,
          81000,
          90000,
          110500,
          154000,
          328000,
          178000,
          167900,
          151400,
          135000,
          135000,
          154000,
          91500,
          159500,
          194000,
          219500,
          170000,
          138800,
          155900,
          126000,
          145000,
          133000,
          192000,
          160000,
          187500,
          147000,
          83500,
          252000,
          137500,
          197000,
          92900,
          160000,
          136500,
          146000,
          129000,
          176432,
          127000,
          170000,
          128000,
          157000,
          60000,
          119500,
          135000,
          159500,
          106000,
          325000,
          179900,
          274725,
          181000,
          280000,
          188000,
          205000,
          129900,
          134500,
          117000,
          318000,
          184100,
          130000,
          140000,
          133700,
          118400,
          212900,
          112000,
          118000,
          163900,
          115000,
          174000,
          259000,
          215000,
          140000,
          135000,
          93500,
          117500,
          239500,
          169000,
          102000,
          119000,
          94000,
          196000,
          144000,
          139000,
          197500,
          424870,
          80000,
          80000,
          149000,
          180000,
          174500,
          116900,
          143000,
          124000,
          149900,
          230000,
          120500,
          201800,
          218000,
          179900,
          230000,
          235128,
          185000,
          146000,
          224000,
          129000,
          108959,
          194000,
          233170,
          245350,
          173000,
          235000,
          625000,
          171000,
          163000,
          171900,
          200500,
          239000,
          285000,
          119500,
          115000,
          154900,
          93000,
          250000,
          392500,
          745000,
          120000,
          186700,
          104900,
          95000,
          262000,
          195000,
          189000,
          168000,
          174000,
          125000,
          165000,
          158000,
          176000,
          219210,
          144000,
          178000,
          148000,
          116050,
          197900,
          117000,
          213000,
          153500,
          271900,
          107000,
          200000,
          140000,
          290000,
          189000,
          164000,
          113000,
          145000,
          134500,
          125000,
          112000,
          229456,
          80500,
          91500,
          115000,
          134000,
          143000,
          137900,
          184000,
          145000,
          214000,
          147000,
          367294,
          127000,
          190000,
          132500,
          101800,
          142000,
          130000,
          138887,
          175500,
          195000,
          142500,
          265900,
          224900,
          248328,
          170000,
          465000,
          230000,
          178000,
          186500,
          169900,
          129500,
          119000,
          244000,
          171750,
          130000,
          294000,
          165400,
          127500,
          301500,
          99900,
          190000,
          151000,
          181000,
          128900,
          161500,
          180500,
          181000,
          183900,
          122000,
          378500,
          381000,
          144000,
          260000,
          185750,
          137000,
          177000,
          139000,
          137000,
          162000,
          197900,
          237000,
          68400,
          227000,
          180000,
          150500,
          139000,
          169000,
          132500,
          143000,
          190000,
          278000,
          281000,
          180500,
          119500,
          107500,
          162900,
          115000,
          138500,
          155000,
          140000,
          160000,
          154000,
          225000,
          177500,
          290000,
          232000,
          130000,
          325000,
          202500,
          138000,
          147000,
          179200,
          335000,
          203000,
          302000,
          333168,
          119000,
          206900,
          295493,
          208900,
          275000,
          111000,
          156500,
          72500,
          190000,
          82500,
          147000,
          55000,
          79000,
          130500,
          256000,
          176500,
          227000,
          132500,
          100000,
          125500,
          125000,
          167900,
          135000,
          52500,
          200000,
          128500,
          123000,
          155000,
          228500,
          177000,
          155835,
          108500,
          262500,
          283463,
          215000,
          122000,
          200000,
          171000,
          134900,
          410000,
          235000,
          170000,
          110000,
          149900,
          177500,
          315000,
          189000,
          260000,
          104900,
          156932,
          144152,
          216000,
          193000,
          127000,
          144000,
          232000,
          105000,
          165500,
          274300,
          466500,
          250000,
          239000,
          91000,
          117000,
          83000,
          167500,
          58500,
          237500,
          157000,
          112000,
          105000,
          125500,
          250000,
          136000,
          377500,
          131000,
          235000,
          124000,
          123000,
          163000,
          246578,
          281213,
          160000,
          137500,
          138000,
          137450,
          120000,
          193000,
          193879,
          282922,
          105000,
          275000,
          133000,
          112000,
          125500,
          215000,
          230000,
          140000,
          90000,
          257000,
          207000,
          175900,
          122500,
          340000,
          124000,
          223000,
          179900,
          127500,
          136500,
          274970,
          144000,
          142000,
          271000,
          140000,
          119000,
          182900,
          192140,
          143750,
          64500,
          186500,
          160000,
          174000,
          120500,
          394617,
          149700,
          197000,
          191000,
          149300,
          310000,
          121000,
          179600,
          129000,
          157900,
          240000,
          112000,
          92000,
          136000,
          287090,
          145000,
          84500,
          185000,
          175000,
          210000,
          266500,
          142125,
          147500
         ],
         "yaxis": "y"
        }
       ],
       "layout": {
        "autosize": true,
        "coloraxis": {
         "colorbar": {
          "title": {
           "text": "OverallQual"
          }
         },
         "colorscale": [
          [
           0,
           "#0d0887"
          ],
          [
           0.1111111111111111,
           "#46039f"
          ],
          [
           0.2222222222222222,
           "#7201a8"
          ],
          [
           0.3333333333333333,
           "#9c179e"
          ],
          [
           0.4444444444444444,
           "#bd3786"
          ],
          [
           0.5555555555555556,
           "#d8576b"
          ],
          [
           0.6666666666666666,
           "#ed7953"
          ],
          [
           0.7777777777777778,
           "#fb9f3a"
          ],
          [
           0.8888888888888888,
           "#fdca26"
          ],
          [
           1,
           "#f0f921"
          ]
         ]
        },
        "legend": {
         "tracegroupgap": 0
        },
        "template": {
         "data": {
          "bar": [
           {
            "error_x": {
             "color": "#2a3f5f"
            },
            "error_y": {
             "color": "#2a3f5f"
            },
            "marker": {
             "line": {
              "color": "#E5ECF6",
              "width": 0.5
             },
             "pattern": {
              "fillmode": "overlay",
              "size": 10,
              "solidity": 0.2
             }
            },
            "type": "bar"
           }
          ],
          "barpolar": [
           {
            "marker": {
             "line": {
              "color": "#E5ECF6",
              "width": 0.5
             },
             "pattern": {
              "fillmode": "overlay",
              "size": 10,
              "solidity": 0.2
             }
            },
            "type": "barpolar"
           }
          ],
          "carpet": [
           {
            "aaxis": {
             "endlinecolor": "#2a3f5f",
             "gridcolor": "white",
             "linecolor": "white",
             "minorgridcolor": "white",
             "startlinecolor": "#2a3f5f"
            },
            "baxis": {
             "endlinecolor": "#2a3f5f",
             "gridcolor": "white",
             "linecolor": "white",
             "minorgridcolor": "white",
             "startlinecolor": "#2a3f5f"
            },
            "type": "carpet"
           }
          ],
          "choropleth": [
           {
            "colorbar": {
             "outlinewidth": 0,
             "ticks": ""
            },
            "type": "choropleth"
           }
          ],
          "contour": [
           {
            "colorbar": {
             "outlinewidth": 0,
             "ticks": ""
            },
            "colorscale": [
             [
              0,
              "#0d0887"
             ],
             [
              0.1111111111111111,
              "#46039f"
             ],
             [
              0.2222222222222222,
              "#7201a8"
             ],
             [
              0.3333333333333333,
              "#9c179e"
             ],
             [
              0.4444444444444444,
              "#bd3786"
             ],
             [
              0.5555555555555556,
              "#d8576b"
             ],
             [
              0.6666666666666666,
              "#ed7953"
             ],
             [
              0.7777777777777778,
              "#fb9f3a"
             ],
             [
              0.8888888888888888,
              "#fdca26"
             ],
             [
              1,
              "#f0f921"
             ]
            ],
            "type": "contour"
           }
          ],
          "contourcarpet": [
           {
            "colorbar": {
             "outlinewidth": 0,
             "ticks": ""
            },
            "type": "contourcarpet"
           }
          ],
          "heatmap": [
           {
            "colorbar": {
             "outlinewidth": 0,
             "ticks": ""
            },
            "colorscale": [
             [
              0,
              "#0d0887"
             ],
             [
              0.1111111111111111,
              "#46039f"
             ],
             [
              0.2222222222222222,
              "#7201a8"
             ],
             [
              0.3333333333333333,
              "#9c179e"
             ],
             [
              0.4444444444444444,
              "#bd3786"
             ],
             [
              0.5555555555555556,
              "#d8576b"
             ],
             [
              0.6666666666666666,
              "#ed7953"
             ],
             [
              0.7777777777777778,
              "#fb9f3a"
             ],
             [
              0.8888888888888888,
              "#fdca26"
             ],
             [
              1,
              "#f0f921"
             ]
            ],
            "type": "heatmap"
           }
          ],
          "heatmapgl": [
           {
            "colorbar": {
             "outlinewidth": 0,
             "ticks": ""
            },
            "colorscale": [
             [
              0,
              "#0d0887"
             ],
             [
              0.1111111111111111,
              "#46039f"
             ],
             [
              0.2222222222222222,
              "#7201a8"
             ],
             [
              0.3333333333333333,
              "#9c179e"
             ],
             [
              0.4444444444444444,
              "#bd3786"
             ],
             [
              0.5555555555555556,
              "#d8576b"
             ],
             [
              0.6666666666666666,
              "#ed7953"
             ],
             [
              0.7777777777777778,
              "#fb9f3a"
             ],
             [
              0.8888888888888888,
              "#fdca26"
             ],
             [
              1,
              "#f0f921"
             ]
            ],
            "type": "heatmapgl"
           }
          ],
          "histogram": [
           {
            "marker": {
             "pattern": {
              "fillmode": "overlay",
              "size": 10,
              "solidity": 0.2
             }
            },
            "type": "histogram"
           }
          ],
          "histogram2d": [
           {
            "colorbar": {
             "outlinewidth": 0,
             "ticks": ""
            },
            "colorscale": [
             [
              0,
              "#0d0887"
             ],
             [
              0.1111111111111111,
              "#46039f"
             ],
             [
              0.2222222222222222,
              "#7201a8"
             ],
             [
              0.3333333333333333,
              "#9c179e"
             ],
             [
              0.4444444444444444,
              "#bd3786"
             ],
             [
              0.5555555555555556,
              "#d8576b"
             ],
             [
              0.6666666666666666,
              "#ed7953"
             ],
             [
              0.7777777777777778,
              "#fb9f3a"
             ],
             [
              0.8888888888888888,
              "#fdca26"
             ],
             [
              1,
              "#f0f921"
             ]
            ],
            "type": "histogram2d"
           }
          ],
          "histogram2dcontour": [
           {
            "colorbar": {
             "outlinewidth": 0,
             "ticks": ""
            },
            "colorscale": [
             [
              0,
              "#0d0887"
             ],
             [
              0.1111111111111111,
              "#46039f"
             ],
             [
              0.2222222222222222,
              "#7201a8"
             ],
             [
              0.3333333333333333,
              "#9c179e"
             ],
             [
              0.4444444444444444,
              "#bd3786"
             ],
             [
              0.5555555555555556,
              "#d8576b"
             ],
             [
              0.6666666666666666,
              "#ed7953"
             ],
             [
              0.7777777777777778,
              "#fb9f3a"
             ],
             [
              0.8888888888888888,
              "#fdca26"
             ],
             [
              1,
              "#f0f921"
             ]
            ],
            "type": "histogram2dcontour"
           }
          ],
          "mesh3d": [
           {
            "colorbar": {
             "outlinewidth": 0,
             "ticks": ""
            },
            "type": "mesh3d"
           }
          ],
          "parcoords": [
           {
            "line": {
             "colorbar": {
              "outlinewidth": 0,
              "ticks": ""
             }
            },
            "type": "parcoords"
           }
          ],
          "pie": [
           {
            "automargin": true,
            "type": "pie"
           }
          ],
          "scatter": [
           {
            "fillpattern": {
             "fillmode": "overlay",
             "size": 10,
             "solidity": 0.2
            },
            "type": "scatter"
           }
          ],
          "scatter3d": [
           {
            "line": {
             "colorbar": {
              "outlinewidth": 0,
              "ticks": ""
             }
            },
            "marker": {
             "colorbar": {
              "outlinewidth": 0,
              "ticks": ""
             }
            },
            "type": "scatter3d"
           }
          ],
          "scattercarpet": [
           {
            "marker": {
             "colorbar": {
              "outlinewidth": 0,
              "ticks": ""
             }
            },
            "type": "scattercarpet"
           }
          ],
          "scattergeo": [
           {
            "marker": {
             "colorbar": {
              "outlinewidth": 0,
              "ticks": ""
             }
            },
            "type": "scattergeo"
           }
          ],
          "scattergl": [
           {
            "marker": {
             "colorbar": {
              "outlinewidth": 0,
              "ticks": ""
             }
            },
            "type": "scattergl"
           }
          ],
          "scattermapbox": [
           {
            "marker": {
             "colorbar": {
              "outlinewidth": 0,
              "ticks": ""
             }
            },
            "type": "scattermapbox"
           }
          ],
          "scatterpolar": [
           {
            "marker": {
             "colorbar": {
              "outlinewidth": 0,
              "ticks": ""
             }
            },
            "type": "scatterpolar"
           }
          ],
          "scatterpolargl": [
           {
            "marker": {
             "colorbar": {
              "outlinewidth": 0,
              "ticks": ""
             }
            },
            "type": "scatterpolargl"
           }
          ],
          "scatterternary": [
           {
            "marker": {
             "colorbar": {
              "outlinewidth": 0,
              "ticks": ""
             }
            },
            "type": "scatterternary"
           }
          ],
          "surface": [
           {
            "colorbar": {
             "outlinewidth": 0,
             "ticks": ""
            },
            "colorscale": [
             [
              0,
              "#0d0887"
             ],
             [
              0.1111111111111111,
              "#46039f"
             ],
             [
              0.2222222222222222,
              "#7201a8"
             ],
             [
              0.3333333333333333,
              "#9c179e"
             ],
             [
              0.4444444444444444,
              "#bd3786"
             ],
             [
              0.5555555555555556,
              "#d8576b"
             ],
             [
              0.6666666666666666,
              "#ed7953"
             ],
             [
              0.7777777777777778,
              "#fb9f3a"
             ],
             [
              0.8888888888888888,
              "#fdca26"
             ],
             [
              1,
              "#f0f921"
             ]
            ],
            "type": "surface"
           }
          ],
          "table": [
           {
            "cells": {
             "fill": {
              "color": "#EBF0F8"
             },
             "line": {
              "color": "white"
             }
            },
            "header": {
             "fill": {
              "color": "#C8D4E3"
             },
             "line": {
              "color": "white"
             }
            },
            "type": "table"
           }
          ]
         },
         "layout": {
          "annotationdefaults": {
           "arrowcolor": "#2a3f5f",
           "arrowhead": 0,
           "arrowwidth": 1
          },
          "autotypenumbers": "strict",
          "coloraxis": {
           "colorbar": {
            "outlinewidth": 0,
            "ticks": ""
           }
          },
          "colorscale": {
           "diverging": [
            [
             0,
             "#8e0152"
            ],
            [
             0.1,
             "#c51b7d"
            ],
            [
             0.2,
             "#de77ae"
            ],
            [
             0.3,
             "#f1b6da"
            ],
            [
             0.4,
             "#fde0ef"
            ],
            [
             0.5,
             "#f7f7f7"
            ],
            [
             0.6,
             "#e6f5d0"
            ],
            [
             0.7,
             "#b8e186"
            ],
            [
             0.8,
             "#7fbc41"
            ],
            [
             0.9,
             "#4d9221"
            ],
            [
             1,
             "#276419"
            ]
           ],
           "sequential": [
            [
             0,
             "#0d0887"
            ],
            [
             0.1111111111111111,
             "#46039f"
            ],
            [
             0.2222222222222222,
             "#7201a8"
            ],
            [
             0.3333333333333333,
             "#9c179e"
            ],
            [
             0.4444444444444444,
             "#bd3786"
            ],
            [
             0.5555555555555556,
             "#d8576b"
            ],
            [
             0.6666666666666666,
             "#ed7953"
            ],
            [
             0.7777777777777778,
             "#fb9f3a"
            ],
            [
             0.8888888888888888,
             "#fdca26"
            ],
            [
             1,
             "#f0f921"
            ]
           ],
           "sequentialminus": [
            [
             0,
             "#0d0887"
            ],
            [
             0.1111111111111111,
             "#46039f"
            ],
            [
             0.2222222222222222,
             "#7201a8"
            ],
            [
             0.3333333333333333,
             "#9c179e"
            ],
            [
             0.4444444444444444,
             "#bd3786"
            ],
            [
             0.5555555555555556,
             "#d8576b"
            ],
            [
             0.6666666666666666,
             "#ed7953"
            ],
            [
             0.7777777777777778,
             "#fb9f3a"
            ],
            [
             0.8888888888888888,
             "#fdca26"
            ],
            [
             1,
             "#f0f921"
            ]
           ]
          },
          "colorway": [
           "#636efa",
           "#EF553B",
           "#00cc96",
           "#ab63fa",
           "#FFA15A",
           "#19d3f3",
           "#FF6692",
           "#B6E880",
           "#FF97FF",
           "#FECB52"
          ],
          "font": {
           "color": "#2a3f5f"
          },
          "geo": {
           "bgcolor": "white",
           "lakecolor": "white",
           "landcolor": "#E5ECF6",
           "showlakes": true,
           "showland": true,
           "subunitcolor": "white"
          },
          "hoverlabel": {
           "align": "left"
          },
          "hovermode": "closest",
          "mapbox": {
           "style": "light"
          },
          "paper_bgcolor": "white",
          "plot_bgcolor": "#E5ECF6",
          "polar": {
           "angularaxis": {
            "gridcolor": "white",
            "linecolor": "white",
            "ticks": ""
           },
           "bgcolor": "#E5ECF6",
           "radialaxis": {
            "gridcolor": "white",
            "linecolor": "white",
            "ticks": ""
           }
          },
          "scene": {
           "xaxis": {
            "backgroundcolor": "#E5ECF6",
            "gridcolor": "white",
            "gridwidth": 2,
            "linecolor": "white",
            "showbackground": true,
            "ticks": "",
            "zerolinecolor": "white"
           },
           "yaxis": {
            "backgroundcolor": "#E5ECF6",
            "gridcolor": "white",
            "gridwidth": 2,
            "linecolor": "white",
            "showbackground": true,
            "ticks": "",
            "zerolinecolor": "white"
           },
           "zaxis": {
            "backgroundcolor": "#E5ECF6",
            "gridcolor": "white",
            "gridwidth": 2,
            "linecolor": "white",
            "showbackground": true,
            "ticks": "",
            "zerolinecolor": "white"
           }
          },
          "shapedefaults": {
           "line": {
            "color": "#2a3f5f"
           }
          },
          "ternary": {
           "aaxis": {
            "gridcolor": "white",
            "linecolor": "white",
            "ticks": ""
           },
           "baxis": {
            "gridcolor": "white",
            "linecolor": "white",
            "ticks": ""
           },
           "bgcolor": "#E5ECF6",
           "caxis": {
            "gridcolor": "white",
            "linecolor": "white",
            "ticks": ""
           }
          },
          "title": {
           "x": 0.05
          },
          "xaxis": {
           "automargin": true,
           "gridcolor": "white",
           "linecolor": "white",
           "ticks": "",
           "title": {
            "standoff": 15
           },
           "zerolinecolor": "white",
           "zerolinewidth": 2
          },
          "yaxis": {
           "automargin": true,
           "gridcolor": "white",
           "linecolor": "white",
           "ticks": "",
           "title": {
            "standoff": 15
           },
           "zerolinecolor": "white",
           "zerolinewidth": 2
          }
         }
        },
        "title": {
         "text": "Lot Area vs. Sale Price"
        },
        "xaxis": {
         "anchor": "y",
         "autorange": true,
         "domain": [
          0,
          1
         ],
         "range": [
          -11689.234125510582,
          228234.2341255106
         ],
         "title": {
          "text": "Lot Area (sq ft)"
         },
         "type": "linear"
        },
        "yaxis": {
         "anchor": "x",
         "autorange": true,
         "domain": [
          0,
          1
         ],
         "range": [
          -24525.728155339806,
          814425.7281553398
         ],
         "title": {
          "text": "Sale Price"
         },
         "type": "linear"
        }
       }
      },
      "image/png": "[encoded data removed]",
      "text/html": [
       "<div>                            <div id=\"29eedfa3-4c35-4ca5-8360-a208bf385458\" class=\"plotly-graph-div\" style=\"height:525px; width:100%;\"></div>            <script type=\"text/javascript\">                require([\"plotly\"], function(Plotly) {                    window.PLOTLYENV=window.PLOTLYENV || {};                                    if (document.getElementById(\"29eedfa3-4c35-4ca5-8360-a208bf385458\")) {                    Plotly.newPlot(                        \"29eedfa3-4c35-4ca5-8360-a208bf385458\",                        [{\"customdata\":[[2003],[1976],[2001],[1915],[2000],[1993],[2004],[1973],[1931],[1939],[1965],[2005],[1962],[2006],[1960],[1929],[1970],[1967],[2004],[1958],[2005],[1930],[2002],[1976],[1968],[2007],[1951],[2007],[1957],[1927],[1920],[1966],[2007],[1959],[2005],[2004],[1994],[1954],[1953],[1955],[1965],[1959],[1983],[1975],[1959],[2005],[2003],[2006],[1920],[1966],[1997],[1934],[1963],[1981],[1955],[1964],[1999],[2004],[2006],[1972],[2004],[1920],[2006],[1921],[1997],[2004],[1970],[2003],[1945],[1953],[1973],[1982],[1998],[1954],[1915],[1973],[1956],[1948],[1968],[1910],[1968],[1998],[2007],[1960],[1995],[1991],[2005],[2009],[1915],[1994],[1950],[1961],[1921],[1910],[1997],[1993],[1999],[1965],[1920],[1959],[1977],[1985],[1979],[2009],[1931],[2003],[1885],[1948],[1919],[1977],[1954],[2000],[2007],[1953],[1945],[1999],[1962],[2006],[1990],[2005],[1969],[1939],[1958],[1993],[1979],[1935],[1976],[1930],[1966],[1958],[1966],[2000],[1959],[2001],[1968],[1970],[1967],[1988],[1999],[1997],[1971],[2005],[1952],[1999],[1963],[2004],[1931],[2001],[2004],[1936],[1975],[2007],[1971],[1960],[1923],[1924],[1950],[2009],[2004],[2005],[1984],[2003],[2005],[1956],[1926],[1940],[1955],[2007],[2004],[1981],[1941],[1960],[1987],[1961],[1986],[1950],[1988],[1958],[2008],[1923],[2000],[1920],[1957],[2003],[1908],[1892],[1990],[1916],[1979],[2001],[1932],[1972],[1999],[2004],[1972],[1976],[2007],[1918],[1912],[2004],[2003],[1977],[1924],[2004],[1947],[1990],[1962],[1960],[1988],[1964],[1925],[2009],[2009],[1995],[1977],[1957],[2004],[1925],[1939],[2005],[2006],[2002],[1975],[1971],[2003],[1971],[1995],[1970],[1967],[2005],[1959],[1995],[1972],[1976],[2002],[1971],[2004],[1993],[2007],[1945],[2008],[1945],[1900],[1980],[1994],[1988],[1910],[1954],[2003],[1958],[1940],[2006],[2004],[1964],[1957],[1999],[2003],[2006],[2001],[1956],[1962],[2007],[1977],[1929],[1925],[1981],[1997],[1939],[1940],[1976],[2006],[1954],[1999],[1958],[1982],[1925],[2003],[1951],[2006],[1977],[1989],[2006],[2007],[2008],[1992],[2006],[1962],[1971],[1967],[1915],[2006],[1912],[1949],[1977],[1953],[1984],[1950],[1997],[1968],[1950],[1953],[1998],[2001],[1972],[1880],[2004],[1990],[1920],[1940],[2003],[1993],[1948],[1939],[1965],[1925],[2004],[1980],[2006],[1993],[1980],[2006],[2004],[1986],[1955],[1967],[1941],[1993],[1960],[1916],[1920],[1964],[1958],[2003],[2004],[1998],[1965],[2005],[2002],[1984],[1958],[2002],[1950],[1949],[2005],[1976],[1939],[1960],[1960],[2003],[2005],[2007],[1986],[1941],[1928],[1940],[1995],[1992],[1976],[1958],[1998],[1978],[1940],[2003],[1972],[1976],[1920],[1963],[1962],[1954],[1959],[2000],[1959],[1984],[1953],[2003],[1922],[1996],[2004],[2010],[2000],[1924],[2006],[2006],[1928],[1992],[2004],[1910],[1976],[1999],[2007],[1900],[2001],[1959],[1941],[1940],[1956],[1972],[1962],[1920],[2006],[1996],[2005],[1940],[1998],[1995],[1976],[1936],[1915],[2006],[2007],[1958],[1955],[2009],[1927],[1993],[2007],[1978],[1918],[1940],[1968],[1997],[1977],[1954],[1998],[1956],[1946],[1989],[1957],[2007],[1988],[1971],[1920],[1971],[1997],[1972],[1996],[1920],[1926],[1913],[1920],[2008],[1955],[1930],[2006],[1994],[1956],[1966],[1998],[1937],[1948],[1930],[1975],[1996],[2008],[1976],[1973],[1916],[1954],[1925],[1950],[2009],[1936],[1965],[1934],[1978],[2004],[1970],[1942],[2006],[1993],[1985],[1977],[2005],[2006],[2000],[1963],[1997],[2006],[2007],[1937],[2004],[2003],[1915],[1998],[1962],[1950],[1965],[1971],[1900],[1970],[1976],[1941],[2006],[1960],[1938],[1920],[1992],[1925],[1967],[1958],[1973],[2005],[1965],[1959],[1974],[1952],[1993],[2009],[1928],[1959],[1951],[2005],[1958],[1983],[1926],[2009],[1972],[1996],[1998],[1926],[1900],[1957],[1947],[2007],[1996],[2005],[1956],[2008],[1920],[1957],[1988],[1920],[1955],[1946],[2004],[1910],[1998],[1972],[1968],[2001],[2006],[2000],[1998],[1998],[2006],[1988],[1923],[1970],[1955],[2003],[1977],[1957],[2006],[1949],[2003],[1922],[1957],[1920],[1996],[2003],[1957],[1974],[1940],[1918],[1992],[1915],[2005],[2004],[1983],[1979],[1965],[1959],[2009],[2000],[1971],[1947],[1928],[1966],[2007],[1954],[1960],[2008],[1990],[1893],[1935],[2005],[1918],[1982],[1968],[1930],[2004],[2008],[1982],[2003],[1975],[2005],[1910],[2006],[1977],[1980],[2005],[1937],[1992],[2004],[2002],[1965],[1996],[1948],[1934],[1961],[2000],[1978],[2001],[2007],[1972],[1963],[2002],[1954],[2007],[2003],[1914],[1974],[1977],[2000],[1972],[1962],[1960],[1955],[1969],[1964],[1880],[2006],[1977],[1954],[1980],[1914],[1936],[1954],[1910],[2006],[2003],[2001],[1972],[1969],[2009],[1971],[1950],[1953],[1966],[1970],[2007],[1940],[1996],[1906],[1995],[1971],[1959],[1931],[1948],[1964],[1976],[1994],[1968],[1972],[2005],[2000],[1965],[1994],[1956],[1922],[2005],[1925],[1977],[1957],[1965],[1978],[1900],[1924],[2008],[1961],[1980],[1932],[1996],[2002],[1998],[1984],[2007],[2004],[2007],[2005],[2004],[1994],[1989],[1921],[1936],[1987],[1921],[1952],[1965],[2004],[2002],[1969],[2006],[1900],[2004],[1930],[1971],[2006],[2007],[1966],[1935],[1900],[1988],[1970],[1976],[1974],[1890],[1973],[1993],[1969],[1985],[2004],[1970],[1954],[2007],[1970],[1988],[2007],[1958],[1925],[1995],[2003],[1998],[1961],[1968],[1914],[1950],[2005],[1987],[2004],[1910],[1961],[2000],[1963],[1993],[1976],[2000],[1880],[1996],[1945],[1910],[2003],[1997],[2005],[1969],[1999],[2007],[1978],[1999],[1995],[1959],[1924],[2009],[1999],[1995],[2008],[1988],[1940],[2004],[2003],[1982],[1951],[1976],[1958],[2006],[1998],[2005],[1974],[1977],[1977],[1995],[1992],[2001],[1978],[1914],[1967],[1915],[2004],[1954],[1966],[2005],[1976],[1996],[2007],[1994],[1980],[1977],[1953],[2008],[1937],[1997],[1916],[2005],[2008],[1954],[2008],[1967],[1923],[1966],[1898],[1974],[2004],[1952],[1958],[1918],[1998],[1954],[2002],[1971],[2009],[2003],[1953],[2003],[1940],[2006],[2007],[1924],[2001],[1967],[2005],[1957],[2005],[2003],[1964],[1961],[1950],[1948],[1973],[1995],[1946],[1925],[1904],[1966],[1961],[1915],[1975],[1993],[1972],[1908],[1976],[2003],[2003],[1941],[1964],[1955],[1962],[1978],[1994],[1976],[1968],[1918],[1965],[1984],[1959],[2007],[1970],[2006],[1961],[1948],[1993],[1962],[1998],[1953],[1949],[1941],[2007],[1963],[2004],[1961],[1978],[2005],[1990],[1992],[1912],[1967],[1999],[1959],[1955],[1970],[1953],[1949],[1978],[1963],[1954],[1979],[1963],[1936],[1979],[2009],[1961],[1971],[1957],[2003],[2006],[1967],[1954],[2006],[1936],[1983],[2005],[1960],[1977],[1925],[1949],[2009],[1970],[1949],[1956],[1991],[1958],[1994],[1900],[2005],[1993],[1980],[1977],[2003],[1968],[2001],[1997],[2007],[1965],[2006],[2004],[1960],[1926],[2003],[2005],[2006],[1940],[1976],[1999],[1977],[1967],[1958],[1890],[1959],[2002],[2002],[1972],[1950],[1965],[1972],[1969],[1975],[1946],[1980],[1962],[2003],[1999],[1958],[1977],[1976],[2007],[2002],[2005],[1940],[1955],[1910],[1958],[1949],[2003],[1979],[2007],[1910],[2000],[1923],[2006],[1954],[1963],[1961],[1998],[2007],[2002],[1977],[1950],[1910],[2009],[1976],[2006],[1997],[1882],[1964],[2005],[2006],[1946],[1961],[1970],[1922],[2006],[1952],[1920],[2006],[1976],[2005],[1977],[1970],[1970],[2004],[1926],[1948],[1965],[1923],[1910],[1948],[2001],[1996],[1984],[1991],[2005],[2005],[2006],[1930],[2005],[1976],[1972],[1960],[2007],[1941],[1972],[1916],[1920],[1993],[2002],[1938],[1957],[2007],[2001],[1970],[1970],[1957],[1966],[2005],[1990],[1981],[1955],[2005],[1994],[1960],[1946],[2007],[2007],[1964],[1957],[2002],[1976],[2005],[1994],[2008],[1932],[2001],[1935],[1900],[1925],[1966],[1996],[1993],[1964],[1973],[1949],[1956],[1968],[1948],[1977],[2006],[1940],[1936],[1969],[2004],[1994],[1971],[1963],[2002],[1964],[1995],[1992],[1973],[2005],[2004],[2005],[1950],[1999],[1925],[1965],[1956],[2006],[1914],[1986],[1936],[1978],[1920],[1971],[1960],[1959],[1970],[1994],[1990],[2006],[2000],[2004],[1995],[1976],[1957],[1953],[1954],[2007],[2002],[1967],[1958],[1959],[1920],[2005],[1956],[1947],[1992],[1955],[2007],[2004],[2004],[1980],[1928],[1991],[1880],[1995],[1997],[1926],[1950],[1875],[1977],[1920],[1951],[1976],[2006],[1959],[1941],[1928],[1985],[1941],[1926],[1920],[1950],[1959],[1956],[1930],[1965],[1976],[1965],[2007],[2007],[1974],[1978],[1954],[1968],[1969],[1978],[2009],[2008],[2000],[1935],[1995],[1977],[1958],[2006],[1946],[1932],[1992],[1984],[1926],[1921],[1954],[1990],[2008],[1996],[1920],[1963],[1924],[1900],[1994],[2002],[1999],[1961],[1999],[1925],[1999],[1969],[2005],[2006],[1916],[2001],[1963],[1970],[1998],[1925],[2000],[1975],[1990],[1966],[2003],[1962],[2006],[1992],[1988],[1941],[1965],[1962],[1966],[1978],[2009],[1947],[1971],[1964],[1968],[1949],[1951],[2004],[1958],[2007],[1965],[2008],[1960],[1977],[1962],[1962],[1959],[1911],[1914],[2003],[2004],[2005],[2006],[2003],[2007],[1974],[2006],[1929],[1984],[2005],[1976],[1917],[1950],[1968],[2003],[1968],[1974],[2003],[1931],[1994],[1922],[2005],[1969],[1999],[1956],[1957],[1919],[1998],[1999],[1910],[2008],[1935],[1958],[1979],[1968],[1965],[1959],[1910],[1948],[1972],[1967],[2002],[1920],[2002],[1990],[1977],[1971],[1919],[1939],[1963],[1964],[2000],[2006],[1964],[1972],[1892],[1976],[1955],[1968],[1963],[2005],[2008],[1959],[1999],[1942],[1994],[2005],[2004],[2006],[2005],[1994],[1948],[1991],[1959],[2005],[1990],[1999],[1954],[1969],[2008],[2006],[2001],[1954],[1957],[1949],[1992],[1940],[2006],[1922],[1931],[1982],[1920],[1998],[2006],[1976],[1938],[1938],[1970],[1977],[1973],[1941],[2002],[1972],[1971],[2003],[2002],[1928],[2006],[1920],[1968],[2006],[1998],[1872],[1969],[1962],[1937],[1995],[2000],[1968],[1966],[1971],[2000],[2004],[1921],[2005],[1920],[2006],[2005],[2000],[1999],[1977],[2003],[2003],[1920],[1955],[1998],[2001],[2005],[2007],[1930],[1941],[1973],[2006],[1914],[1970],[1920],[1918],[1939],[1922],[1978],[1916],[2006],[1941],[2000],[1967],[1967],[1905],[2006],[2005],[1948],[1920],[1950],[1925],[1929],[2004],[2006],[2007],[1915],[2004],[1972],[1985],[1910],[1986],[2001],[1950],[1949],[2005],[1923],[2007],[1885],[1998],[1963],[1969],[1968],[1977],[2003],[1966],[1958],[1959],[1994],[1945],[1940],[1981],[2005],[1976],[1927],[2000],[1977],[1962],[1971],[2008],[1957],[1979],[1922],[2004],[2008],[1916],[2004],[1966],[1962],[1995],[1910],[1970],[1974],[2008],[2005],[2006],[2004],[1999],[1978],[1941],[1950],[1965]],\"hovertemplate\":\"Lot Area (sq ft)=%{x}<br>Sale Price=%{y}<br>YearBuilt=%{customdata[0]}<br>OverallQual=%{marker.color}<extra></extra>\",\"legendgroup\":\"\",\"marker\":{\"color\":[7,6,7,7,8,5,8,7,7,5,5,9,5,7,6,7,6,4,5,5,8,7,8,5,5,8,5,8,5,4,4,5,8,5,9,8,5,5,5,4,6,5,5,5,5,9,7,8,4,5,6,6,5,9,5,6,8,7,10,5,6,5,8,7,7,8,7,7,4,7,7,4,7,5,3,4,4,5,4,5,6,6,8,5,7,8,6,6,3,4,4,5,5,6,6,6,7,4,5,4,6,6,5,7,7,8,4,5,5,6,6,7,7,6,6,6,5,5,7,6,6,4,6,6,6,6,6,5,6,5,7,6,5,8,5,7,5,7,8,6,4,7,5,7,5,6,5,7,7,5,5,8,6,6,6,6,5,8,7,7,6,9,7,4,6,5,5,8,7,8,5,6,7,6,6,6,6,5,9,5,6,7,5,7,5,10,7,5,5,8,8,7,7,7,5,6,7,8,6,8,4,6,6,6,5,7,5,4,7,6,5,6,7,5,6,5,7,4,7,7,7,6,6,4,10,5,7,6,5,7,6,8,6,5,6,6,7,7,8,6,8,5,5,6,7,7,6,6,7,6,3,8,6,6,5,7,6,7,7,5,6,8,6,5,5,6,6,5,5,6,8,7,8,6,5,7,7,4,9,7,7,6,7,8,6,7,6,4,5,6,8,5,5,7,6,6,5,7,6,6,5,8,7,5,7,8,7,6,4,9,6,6,5,7,7,7,7,8,7,7,9,8,7,3,7,5,8,6,6,5,5,5,8,7,6,5,9,7,7,6,8,4,3,9,5,6,6,6,7,9,9,7,5,6,6,6,6,5,5,8,6,5,7,6,6,5,6,6,5,5,6,4,6,5,7,1,5,8,9,6,5,7,7,6,6,8,5,6,7,10,5,6,5,4,5,5,5,5,5,7,8,7,5,8,6,4,6,6,7,8,5,5,7,5,7,7,6,6,5,5,7,6,5,8,6,7,7,4,7,6,6,6,5,6,4,7,6,6,5,6,10,4,5,7,7,6,6,7,6,3,6,7,6,8,5,7,5,4,8,5,8,7,5,6,5,7,7,5,8,6,8,7,6,8,8,5,6,9,8,4,9,9,7,6,5,5,5,5,5,4,5,6,6,5,5,4,8,7,5,5,6,7,5,7,6,5,8,6,7,5,5,7,5,6,5,10,6,7,6,7,4,6,6,10,7,7,5,9,4,6,6,6,5,1,8,5,7,4,5,8,9,8,7,7,7,7,6,5,5,7,6,5,8,4,7,5,5,4,7,7,5,5,5,6,7,6,9,7,8,5,5,6,7,7,5,5,7,5,7,5,6,8,6,10,4,8,6,5,5,5,7,10,5,6,5,8,6,7,5,6,8,6,8,7,7,7,5,5,8,4,9,6,8,5,4,6,6,6,9,8,3,6,5,6,6,6,5,6,5,6,5,8,7,5,6,6,2,5,5,8,8,7,8,5,9,6,5,6,6,4,7,4,7,6,8,6,5,7,6,5,7,8,6,4,8,8,6,6,5,4,6,6,6,6,6,6,4,5,8,5,6,5,6,9,7,7,7,7,8,6,6,10,7,5,5,6,5,5,5,7,8,7,8,5,7,4,7,8,7,5,3,4,8,4,6,6,7,5,7,5,8,6,4,4,9,4,6,7,5,4,8,7,7,5,5,7,3,8,5,7,5,6,7,5,8,8,7,7,7,4,4,7,6,8,6,6,8,6,7,8,6,5,7,8,8,9,7,6,7,8,5,4,6,5,8,6,7,5,5,6,7,6,7,5,6,6,5,7,4,6,7,6,7,8,7,6,6,5,9,5,6,4,7,9,5,7,5,5,5,5,6,6,5,6,5,7,5,8,6,7,7,4,7,6,8,10,5,7,5,7,6,7,7,6,5,4,5,6,5,5,6,5,6,5,5,5,7,5,6,6,6,8,7,6,5,5,6,6,7,6,7,5,6,5,7,5,8,4,5,7,5,6,5,5,5,8,4,9,5,5,5,7,6,4,5,9,5,5,8,6,5,6,6,5,5,6,4,5,9,5,4,5,7,7,5,5,8,7,5,6,5,5,5,5,6,4,2,4,7,6,6,5,6,6,6,5,8,7,8,7,8,5,9,7,7,4,7,7,7,7,6,7,4,5,6,5,5,8,7,6,5,5,5,5,6,6,6,5,7,7,5,6,6,9,7,6,5,5,3,6,4,7,6,7,7,7,4,7,4,5,7,8,7,8,5,5,6,9,6,7,8,8,6,6,10,4,5,6,3,7,3,5,8,5,7,5,6,4,7,5,5,5,6,5,6,8,7,8,7,7,4,7,5,7,8,5,5,8,5,6,5,7,8,7,5,4,9,8,4,4,5,6,6,7,8,3,9,5,5,4,7,7,6,5,8,6,7,7,9,6,8,3,5,6,5,7,6,6,6,5,5,6,5,6,7,7,5,5,6,5,6,5,7,6,6,6,4,8,7,8,3,7,6,5,5,6,6,8,4,7,2,5,5,6,5,8,7,7,6,8,6,7,5,5,5,8,8,5,5,5,6,7,4,5,7,4,7,7,7,5,4,5,6,8,6,6,6,5,6,5,5,5,8,5,4,5,6,7,7,7,6,5,6,6,7,5,5,7,8,6,6,6,5,4,5,7,8,6,6,10,6,6,7,5,6,8,5,6,5,5,7,8,10,5,5,5,3,8,7,7,4,8,5,6,6,6,7,7,7,4,4,7,5,7,5,7,4,6,5,8,6,8,4,4,5,5,6,8,4,6,5,5,6,5,7,6,6,5,9,5,5,5,4,5,5,5,7,7,6,8,7,7,7,10,8,6,7,6,6,5,7,7,5,7,7,6,8,5,7,6,6,5,4,6,6,7,7,9,8,5,7,6,5,6,5,5,6,6,8,4,7,7,5,6,6,6,6,5,8,8,5,5,5,7,5,5,5,6,10,5,7,6,8,7,7,9,7,5,5,6,7,7,8,9,4,6,8,7,8,4,6,3,7,4,8,4,3,5,6,7,8,5,4,5,5,6,5,4,7,5,4,6,8,6,7,4,7,8,7,8,5,6,6,8,7,7,5,5,6,9,5,7,4,6,7,7,7,5,6,8,4,6,7,10,7,8,6,5,6,5,3,6,7,5,6,4,7,6,9,6,7,5,5,6,7,8,5,5,5,6,6,6,7,8,3,8,5,5,4,7,7,6,4,8,6,7,4,8,5,6,6,6,6,6,5,6,7,5,5,6,5,6,4,6,5,6,4,8,6,7,6,6,10,6,7,6,5,8,4,5,5,8,5,5,7,6,6,7,5,5],\"coloraxis\":\"coloraxis\",\"symbol\":\"circle\"},\"mode\":\"markers\",\"name\":\"\",\"showlegend\":false,\"x\":[8450,9600,11250,9550,14260,14115,10084,10382,6120,7420,11200,11924,12968,10652,10920,6120,11241,10791,13695,7560,14215,7449,9742,4224,8246,14230,7200,11478,16321,6324,8500,8544,11049,10552,7313,13418,10859,8532,7922,6040,8658,16905,9180,9200,7945,7658,12822,11096,4456,7742,13869,6240,8472,50271,7134,10175,2645,11645,13682,7200,13072,7200,6442,10300,9375,9591,19900,10665,4608,15593,13651,7599,10141,10200,5790,1596,8475,8635,10778,10440,13000,4500,10206,8892,8530,16059,11911,3951,8470,8070,7200,8500,13360,7200,9337,9765,10264,10921,10625,9320,10603,9206,7018,10402,7758,9375,10800,6000,8500,11751,9525,7750,9965,21000,7259,3230,11616,8536,12376,8461,21453,6060,9464,7892,17043,6780,4928,4388,7590,8973,14200,12224,7388,6853,10335,10400,10355,11070,9066,15426,10500,11645,8520,10335,9100,2522,6120,9505,7500,6240,10356,13891,14803,13500,11340,9600,7200,12003,12552,19378,11120,13688,12182,5500,5400,10106,10708,10562,8244,16669,12358,31770,5306,10197,12416,12615,10029,13650,17423,8520,2117,7588,9060,11426,7438,22950,9947,10410,7018,4923,10570,7472,9017,2522,7180,2280,9416,25419,5520,9591,8546,10125,7000,4438,3500,11851,13673,12493,14364,8250,5604,10420,8640,13568,10900,10011,8450,9906,15660,3010,8990,8068,11475,10500,13472,1680,9950,1869,8521,3182,8760,15138,1680,10650,7851,1680,8773,9453,12030,8741,9000,3880,5000,10762,8880,10400,9142,11310,11317,159000,5350,4750,8366,9350,8400,8738,8791,8814,12435,12702,19296,9588,8471,5500,5232,12090,11207,8400,6900,7917,10728,39104,11764,9600,8314,7264,9196,19138,14450,10005,11287,7200,5063,9612,8012,4251,9786,8125,9819,8730,15611,5687,11409,16659,9600,7937,13710,7399,11700,14000,15750,16226,13704,9800,18386,10386,13474,7920,12342,12378,7685,8000,7800,215245,9600,7795,13005,9000,9900,14115,16259,12099,10380,5820,11275,5000,10846,11600,11888,6402,10624,8176,10655,8198,9042,164660,14157,9135,14145,12400,14191,8400,8544,8849,2592,6435,12772,17600,2448,20431,7820,5271,9084,8520,8400,11249,9248,4224,6930,12011,7540,9144,7301,1680,18800,10690,9500,9150,7800,9830,8121,17120,7175,10634,8200,10020,8846,11143,11394,8123,5000,7200,9245,9000,53107,3182,8410,7200,9382,12474,8405,12209,8339,7446,10134,9571,7200,7590,8967,8125,14963,8767,10200,12090,10364,9991,10480,15576,14154,10800,9571,34650,4403,8960,11228,8899,7844,22420,8160,8450,7060,16635,21750,9200,9000,3378,12800,8593,6762,11457,1680,5586,1920,10839,1890,10667,4400,6000,4280,12354,15431,12108,6240,3922,8750,9855,16492,11214,8600,6000,5684,70761,9303,9000,9297,9600,4571,53227,5100,7015,8004,7200,8281,11988,8430,3072,10628,9480,11428,9291,6820,11952,3675,14977,5330,8480,13125,13693,10637,5925,16033,11846,2500,4500,7758,9600,10289,12243,10800,1526,2665,9490,15578,7931,5784,7879,12692,9120,7800,7535,1890,9803,9170,15602,2308,7596,9554,7862,9600,9600,14559,6792,9100,9187,10594,12220,10448,10208,9531,10918,10800,11988,5000,40094,11787,7500,13300,14948,9098,32668,10200,6155,7200,5000,9056,7000,8924,12735,11553,11423,14601,11000,10140,4058,17104,13837,8737,7244,8235,9375,4043,6000,11146,8777,10625,6380,14850,11040,21872,3196,11341,10010,13907,21780,13346,6858,11198,10171,12327,7032,13101,7332,13159,9967,10500,8480,6292,11777,3604,12150,14585,12704,11841,13500,6120,11443,10267,8740,25095,9100,8320,13478,6600,4435,7990,11302,3600,3922,12984,1950,10927,9000,10041,3182,12803,13600,12464,7800,12168,7943,11050,10395,11885,8402,1491,8800,7861,7227,11694,12244,8248,10800,7064,2117,10400,10000,12342,9600,11606,9020,9000,4590,11900,9250,6979,10896,6120,6000,8777,3982,12677,7050,13860,10793,9187,10530,7200,10452,7700,1936,8125,9084,8750,10320,10437,1680,10007,7200,17503,9937,12384,46589,13560,10012,20896,11194,18450,8125,14175,11600,8633,6629,11250,14442,9200,2289,9600,9022,11844,9945,8012,4500,2887,11248,16770,5062,10207,5105,8089,7577,4426,21535,26178,5400,6120,13811,6000,6420,8450,4282,14331,9600,12438,7630,8400,5600,115149,6240,9018,7162,4130,8712,4671,9873,13517,10140,10800,10000,10542,9920,6563,4426,8120,8172,13286,6960,21695,7314,11475,6240,5389,9590,11404,10000,8978,10800,8544,10463,10800,9313,9600,6768,8450,12886,5395,8963,8795,11700,10593,8405,8800,7750,9236,10240,7930,3230,10769,11616,2280,12257,9100,6911,8640,9430,9549,14587,10421,12508,9100,53504,7252,8877,7819,10150,14226,4500,11210,13350,8400,10530,7875,7153,16285,9101,6300,9790,10800,10142,6000,12205,3182,11333,9920,9158,10832,8400,8197,7677,13518,7200,12798,4800,8199,13891,9000,12274,9750,21384,13400,8100,10140,4438,8712,9750,8248,12137,11425,13265,8816,6371,7226,6000,12394,9900,11216,14803,6130,8529,28698,2544,11900,3180,9548,10004,7875,9600,8100,1680,9525,11767,12155,10440,9020,8000,12665,16647,9317,15523,45600,9600,4435,3196,7128,12095,17920,6897,10970,8125,10400,11029,7642,11625,9672,7931,8640,8750,10656,6970,14762,9938,6600,8750,8892,12144,5720,9000,25286,8834,11782,7000,7024,13758,9636,6204,7150,5119,8393,16466,15865,12160,8064,11184,8414,13284,7018,7056,8765,7018,12919,6993,7340,8712,7875,14859,6173,9920,13501,11500,8885,12589,11600,9286,6120,6270,3000,2001,9000,17140,13125,11029,8462,8777,10237,8012,10240,15611,11999,9900,11838,13006,8925,9100,11670,8487,27650,5825,10083,9675,8760,24090,12640,8755,7711,25000,14375,8820,8163,14536,14006,9360,7200,7800,7200,11075,9400,7136,1300,7420,8450,2572,7207,12227,2308,11923,11316,10237,9600,7390,5925,10382,10800,2268,7892,11639,11414,2651,5900,4274,9450,8816,12122,12203,3182,11250,10125,10880,5310,10159,12046,8125,9452,17671,9760,8846,12456,4712,10659,11717,9786,6762,10206,5400,11957,11500,3182,8385,12155,2217,12118,6000,21286,9825,10592,7200,11664,8400,11883,5814,10784,3013,7024,7406,9439,3182,15498,7700,9300,9520,9492,1680,7082,15863,14541,8125,6305,11500,12898,9240,1533,1477,13125,9130,5381,11839,9600,13680,16056,9245,21750,11100,8993,11175,9500,8562,11367,11361,7052,29959,11308,11275,4920,18000,13600,6000,11000,14000,7837,9760,3964,9600,10152,11700,7585,7950,8556,13125,10800,15870,4435,8775,11040,7500,8749,8800,13031,9069,1974,10574,2522,3316,8544,2160,8400,9230,5868,9317,6882,3696,6000,11880,8400,9758,7000,8910,2016,12256,10357,23257,8063,11362,8000,10480,7100,8923,5400,12085,7750,9764,13825,7560,8263,10084,8926,9405,9125,10434,3684,14572,11796,7200,7804,10712,9900,9828,8773,6180,9600,6342,9819,8731,7350,10304,9965,9000,12180,6240,11200,12000,5700,9000,8280,17755,14115,5890,13700,10768,9350,5001,11932,9120,2280,14778,8724,12900,16157,9541,10475,10852,13728,35760,9880,9120,4017,18030,16560,10678,6951,3950,7681,8335,11170,5587,15623,10800,35133,9738,10615,12461,8935,7500,32463,2645,9600,4500,9364,8029,14054,8850,9100,11235,9353,10400,6000,9750,10140,14684,8900,9135,7763,10182,11218,12134,9340,10246,10205,7094,8930,8640,6240,1680,7800,8250,10496,10680,15384,10482,14598,8872,8769,7910,18890,7728,9842,12160,8525,13132,2628,12393,13072,9037,8158,9849,10625,13891,11435,12090,8125,12328,9600,7200,11160,3136,9858,17542,6931,6240,14303,4060,9587,9750,24682,9600,11250,13515,4060,3735,10120,13214,14100,11344,23595,9156,13526,11512,5362,11345,12936,17871,9473,7500,9808,8049,8800,9400,9638,6000,9790,36500,5664,11065,14112,1680,6600,10140,8172,8400,8700,3675,63887,7500,10762,7500,10120,8688,3363,13173,6955,8072,12000,7153,17500,8814,9572,14774,8190,11075,10226,4230,14781,10215,8400,6627,10186,5330,9986,3636,4270,6600,10440,9084,10000,10780,8877,7200,2368,9650,9246,4118,13450,9560,8294,13695,9375,7558,11103,6000,20781,15306,16196,5250,11643,9247,6000,14720,10316,10192,9477,12537,2117,16737,9842,16158,12513,8499,3180,7500,9179,2665,4435,10635,5400,9600,9750,11400,10625,10991,6292,10998,1953,9735,8212,12925,7200,25339,9060,5436,16692,8520,14892,6000,9100,8944,7838,10800,4045,12665,57200,6120,7200,6171,6000,7415,6762,15256,10410,3842,8445,8780,7740,20544,12420,9600,7200,10994,13053,3635,11340,16545,9204,16381,11700,4043,4435,19690,9503,10721,10944,10930,7200,12546,21930,4928,10800,10261,17400,8400,9000,12444,7407,11584,11526,4426,11003,8854,8500,8400,26142,10000,11767,1533,9000,9262,3675,17217,7500,7917,13175,9042,9717,9937],\"xaxis\":\"x\",\"y\":[208500,181500,223500,140000,250000,143000,307000,200000,129900,118000,129500,345000,144000,279500,157000,132000,149000,90000,159000,139000,325300,139400,230000,129900,154000,256300,134800,306000,207500,68500,40000,149350,179900,165500,277500,309000,145000,153000,109000,82000,160000,170000,144000,130250,141000,319900,239686,249700,113000,127000,177000,114500,110000,385000,130000,180500,172500,196500,438780,124900,158000,101000,202500,140000,219500,317000,180000,226000,80000,225000,244000,129500,185000,144900,107400,91000,135750,127000,136500,110000,193500,153500,245000,126500,168500,260000,174000,164500,85000,123600,109900,98600,163500,133900,204750,185000,214000,94750,83000,128950,205000,178000,118964,198900,169500,250000,100000,115000,115000,190000,136900,180000,383970,217000,259500,176000,139000,155000,320000,163990,180000,100000,136000,153900,181000,84500,128000,87000,155000,150000,226000,244000,150750,220000,180000,174000,143000,171000,230000,231500,115000,260000,166000,204000,125000,130000,105000,222500,141000,115000,122000,372402,190000,235000,125000,79000,109500,269500,254900,320000,162500,412500,220000,103200,152000,127500,190000,325624,183500,228000,128500,215000,239000,163000,184000,243000,211000,172500,501837,100000,177000,200100,120000,200000,127000,475000,173000,135000,153337,286000,315000,184000,192000,130000,127000,148500,311872,235000,104000,274900,140000,171500,112000,149000,110000,180500,143900,141000,277000,145000,98000,186000,252678,156000,161750,134450,210000,107000,311500,167240,204900,200000,179900,97000,386250,112000,290000,106000,125000,192500,148000,403000,94500,128200,216500,89500,185500,194500,318000,113000,262500,110500,79000,120000,205000,241500,137000,140000,180000,277000,76500,235000,173000,158000,145000,230000,207500,220000,231500,97000,176000,276000,151000,130000,73000,175500,185000,179500,120500,148000,266000,241500,290000,139000,124500,205000,201000,141000,415298,192000,228500,185000,207500,244600,179200,164700,159000,88000,122000,153575,233230,135900,131000,235000,167000,142500,152000,239000,175000,158500,157000,267000,205000,149900,295000,305900,225000,89500,82500,360000,165600,132000,119900,375000,178000,188500,260000,270000,260000,187500,342643,354000,301000,126175,242000,87000,324000,145250,214500,78000,119000,139000,284000,207000,192000,228950,377426,214000,202500,155000,202900,82000,87500,266000,85000,140200,151500,157500,154000,437154,318061,190000,95000,105900,140000,177500,173000,134000,130000,280000,156000,145000,198500,118000,190000,147000,159000,165000,132000,162000,172400,134432,125000,123000,219500,61000,148000,340000,394432,179000,127000,187750,213500,76000,240000,192000,81000,125000,191000,426000,119000,215000,106500,100000,109000,129000,123000,169500,67000,241000,245500,164990,108000,258000,168000,150000,115000,177000,280000,339750,60000,145000,222000,115000,228000,181134,149500,239000,126000,142000,206300,215000,113000,315000,139000,135000,275000,109008,195400,175000,85400,79900,122500,181000,81000,212000,116000,119000,90350,110000,555000,118000,162900,172500,210000,127500,190000,199900,119500,120000,110000,280000,204000,210000,188000,175500,98000,256000,161000,110000,263435,155000,62383,188700,124000,178740,167000,146500,250000,187000,212000,190000,148000,440000,251000,132500,208900,380000,297000,89471,326000,374000,155000,164000,132500,147000,156000,175000,160000,86000,115000,133000,172785,155000,91300,34900,430000,184000,130000,120000,113000,226700,140000,289000,147000,124500,215000,208300,161000,124500,164900,202665,129900,134000,96500,402861,158000,265000,211000,234000,106250,150000,159000,184750,315750,176000,132000,446261,86000,200624,175000,128000,107500,39300,178000,107500,188000,111250,158000,272000,315000,248000,213250,133000,179665,229000,210000,129500,125000,263000,140000,112500,255500,108000,284000,113000,141000,108000,175000,234000,121500,170000,108000,185000,268000,128000,325000,214000,316600,135960,142600,120000,224500,170000,139000,118500,145000,164500,146000,131500,181900,253293,118500,325000,133000,369900,130000,137000,143000,79500,185900,451950,138000,140000,110000,319000,114504,194201,217500,151000,275000,141000,220000,151000,221000,205000,152000,225000,359100,118500,313000,148000,261500,147000,75500,137500,183200,105500,314813,305000,67000,240000,135000,168500,165150,160000,139900,153000,135000,168500,124000,209500,82500,139400,144000,200000,60000,93000,85000,264561,274000,226000,345000,152000,370878,143250,98300,155000,155000,84500,205950,108000,191000,135000,350000,88000,145500,149000,97500,167000,197900,402000,110000,137500,423000,230500,129000,193500,168000,137500,173500,103600,165000,257500,140000,148500,87000,109500,372500,128500,143000,159434,173000,285000,221000,207500,227875,148800,392000,194700,141000,755000,335000,108480,141500,176000,89000,123500,138500,196000,312500,140000,361919,140000,213000,55000,302000,254000,179540,109900,52000,102776,189000,129000,130500,165000,159500,157000,341000,128500,275000,143000,124500,135000,320000,120500,222000,194500,110000,103000,236500,187500,222500,131400,108000,163000,93500,239900,179000,190000,132000,142000,179000,175000,180000,299800,236000,265979,260400,98000,96500,162000,217000,275500,156000,172500,212000,158900,179400,290000,127500,100000,215200,337000,270000,264132,196500,160000,216837,538000,134900,102000,107000,114500,395000,162000,221500,142500,144000,135000,176000,175900,187100,165500,128000,161500,139000,233000,107900,187500,160200,146800,269790,225000,194500,171000,143500,110000,485000,175000,200000,109900,189000,582933,118000,227680,135500,223500,159950,106000,181000,144500,55993,157900,116000,224900,137000,271000,155000,224000,183000,93000,225000,139500,232600,385000,109500,189000,185000,147400,166000,151000,237000,167000,139950,128000,153500,100000,144000,130500,140000,157500,174900,141000,153900,171000,213000,133500,240000,187000,131500,215000,164000,158000,170000,127000,147000,174000,152000,250000,189950,131500,152000,132500,250580,148500,248900,129000,169000,236000,109500,200500,116000,133000,66500,303477,132250,350000,148000,136500,157000,187500,178000,118500,100000,328900,145000,135500,268000,149500,122900,172500,154500,165000,118858,140000,106500,142953,611657,135000,110000,153000,180000,240000,125500,128000,255000,250000,131000,174000,154300,143500,88000,145000,173733,75000,35311,135000,238000,176500,201000,145900,169990,193000,207500,175000,285000,176000,236500,222000,201000,117500,320000,190000,242000,79900,184900,253000,239799,244400,150900,214000,150000,143000,137500,124900,143000,270000,192500,197500,129000,119900,133900,172000,127500,145000,124000,132000,185000,155000,116500,272000,155000,239000,214900,178900,160000,135000,37900,140000,135000,173000,99500,182000,167500,165000,85500,199900,110000,139000,178400,336000,159895,255900,126000,125000,117000,395192,195000,197000,348000,168000,187000,173900,337500,121600,136500,185000,91000,206000,82000,86000,232000,136905,181000,149900,163500,88000,240000,102000,135000,100000,165000,85000,119200,227000,203000,187500,160000,213490,176000,194000,87000,191000,287000,112500,167500,293077,105000,118000,160000,197000,310000,230000,119750,84000,315500,287000,97000,80000,155000,173000,196000,262280,278000,139600,556581,145000,115000,84900,176485,200141,165000,144500,255000,180000,185850,248000,335000,220000,213500,81000,90000,110500,154000,328000,178000,167900,151400,135000,135000,154000,91500,159500,194000,219500,170000,138800,155900,126000,145000,133000,192000,160000,187500,147000,83500,252000,137500,197000,92900,160000,136500,146000,129000,176432,127000,170000,128000,157000,60000,119500,135000,159500,106000,325000,179900,274725,181000,280000,188000,205000,129900,134500,117000,318000,184100,130000,140000,133700,118400,212900,112000,118000,163900,115000,174000,259000,215000,140000,135000,93500,117500,239500,169000,102000,119000,94000,196000,144000,139000,197500,424870,80000,80000,149000,180000,174500,116900,143000,124000,149900,230000,120500,201800,218000,179900,230000,235128,185000,146000,224000,129000,108959,194000,233170,245350,173000,235000,625000,171000,163000,171900,200500,239000,285000,119500,115000,154900,93000,250000,392500,745000,120000,186700,104900,95000,262000,195000,189000,168000,174000,125000,165000,158000,176000,219210,144000,178000,148000,116050,197900,117000,213000,153500,271900,107000,200000,140000,290000,189000,164000,113000,145000,134500,125000,112000,229456,80500,91500,115000,134000,143000,137900,184000,145000,214000,147000,367294,127000,190000,132500,101800,142000,130000,138887,175500,195000,142500,265900,224900,248328,170000,465000,230000,178000,186500,169900,129500,119000,244000,171750,130000,294000,165400,127500,301500,99900,190000,151000,181000,128900,161500,180500,181000,183900,122000,378500,381000,144000,260000,185750,137000,177000,139000,137000,162000,197900,237000,68400,227000,180000,150500,139000,169000,132500,143000,190000,278000,281000,180500,119500,107500,162900,115000,138500,155000,140000,160000,154000,225000,177500,290000,232000,130000,325000,202500,138000,147000,179200,335000,203000,302000,333168,119000,206900,295493,208900,275000,111000,156500,72500,190000,82500,147000,55000,79000,130500,256000,176500,227000,132500,100000,125500,125000,167900,135000,52500,200000,128500,123000,155000,228500,177000,155835,108500,262500,283463,215000,122000,200000,171000,134900,410000,235000,170000,110000,149900,177500,315000,189000,260000,104900,156932,144152,216000,193000,127000,144000,232000,105000,165500,274300,466500,250000,239000,91000,117000,83000,167500,58500,237500,157000,112000,105000,125500,250000,136000,377500,131000,235000,124000,123000,163000,246578,281213,160000,137500,138000,137450,120000,193000,193879,282922,105000,275000,133000,112000,125500,215000,230000,140000,90000,257000,207000,175900,122500,340000,124000,223000,179900,127500,136500,274970,144000,142000,271000,140000,119000,182900,192140,143750,64500,186500,160000,174000,120500,394617,149700,197000,191000,149300,310000,121000,179600,129000,157900,240000,112000,92000,136000,287090,145000,84500,185000,175000,210000,266500,142125,147500],\"yaxis\":\"y\",\"type\":\"scattergl\"}],                        {\"template\":{\"data\":{\"histogram2dcontour\":[{\"type\":\"histogram2dcontour\",\"colorbar\":{\"outlinewidth\":0,\"ticks\":\"\"},\"colorscale\":[[0.0,\"#0d0887\"],[0.1111111111111111,\"#46039f\"],[0.2222222222222222,\"#7201a8\"],[0.3333333333333333,\"#9c179e\"],[0.4444444444444444,\"#bd3786\"],[0.5555555555555556,\"#d8576b\"],[0.6666666666666666,\"#ed7953\"],[0.7777777777777778,\"#fb9f3a\"],[0.8888888888888888,\"#fdca26\"],[1.0,\"#f0f921\"]]}],\"choropleth\":[{\"type\":\"choropleth\",\"colorbar\":{\"outlinewidth\":0,\"ticks\":\"\"}}],\"histogram2d\":[{\"type\":\"histogram2d\",\"colorbar\":{\"outlinewidth\":0,\"ticks\":\"\"},\"colorscale\":[[0.0,\"#0d0887\"],[0.1111111111111111,\"#46039f\"],[0.2222222222222222,\"#7201a8\"],[0.3333333333333333,\"#9c179e\"],[0.4444444444444444,\"#bd3786\"],[0.5555555555555556,\"#d8576b\"],[0.6666666666666666,\"#ed7953\"],[0.7777777777777778,\"#fb9f3a\"],[0.8888888888888888,\"#fdca26\"],[1.0,\"#f0f921\"]]}],\"heatmap\":[{\"type\":\"heatmap\",\"colorbar\":{\"outlinewidth\":0,\"ticks\":\"\"},\"colorscale\":[[0.0,\"#0d0887\"],[0.1111111111111111,\"#46039f\"],[0.2222222222222222,\"#7201a8\"],[0.3333333333333333,\"#9c179e\"],[0.4444444444444444,\"#bd3786\"],[0.5555555555555556,\"#d8576b\"],[0.6666666666666666,\"#ed7953\"],[0.7777777777777778,\"#fb9f3a\"],[0.8888888888888888,\"#fdca26\"],[1.0,\"#f0f921\"]]}],\"heatmapgl\":[{\"type\":\"heatmapgl\",\"colorbar\":{\"outlinewidth\":0,\"ticks\":\"\"},\"colorscale\":[[0.0,\"#0d0887\"],[0.1111111111111111,\"#46039f\"],[0.2222222222222222,\"#7201a8\"],[0.3333333333333333,\"#9c179e\"],[0.4444444444444444,\"#bd3786\"],[0.5555555555555556,\"#d8576b\"],[0.6666666666666666,\"#ed7953\"],[0.7777777777777778,\"#fb9f3a\"],[0.8888888888888888,\"#fdca26\"],[1.0,\"#f0f921\"]]}],\"contourcarpet\":[{\"type\":\"contourcarpet\",\"colorbar\":{\"outlinewidth\":0,\"ticks\":\"\"}}],\"contour\":[{\"type\":\"contour\",\"colorbar\":{\"outlinewidth\":0,\"ticks\":\"\"},\"colorscale\":[[0.0,\"#0d0887\"],[0.1111111111111111,\"#46039f\"],[0.2222222222222222,\"#7201a8\"],[0.3333333333333333,\"#9c179e\"],[0.4444444444444444,\"#bd3786\"],[0.5555555555555556,\"#d8576b\"],[0.6666666666666666,\"#ed7953\"],[0.7777777777777778,\"#fb9f3a\"],[0.8888888888888888,\"#fdca26\"],[1.0,\"#f0f921\"]]}],\"surface\":[{\"type\":\"surface\",\"colorbar\":{\"outlinewidth\":0,\"ticks\":\"\"},\"colorscale\":[[0.0,\"#0d0887\"],[0.1111111111111111,\"#46039f\"],[0.2222222222222222,\"#7201a8\"],[0.3333333333333333,\"#9c179e\"],[0.4444444444444444,\"#bd3786\"],[0.5555555555555556,\"#d8576b\"],[0.6666666666666666,\"#ed7953\"],[0.7777777777777778,\"#fb9f3a\"],[0.8888888888888888,\"#fdca26\"],[1.0,\"#f0f921\"]]}],\"mesh3d\":[{\"type\":\"mesh3d\",\"colorbar\":{\"outlinewidth\":0,\"ticks\":\"\"}}],\"scatter\":[{\"fillpattern\":{\"fillmode\":\"overlay\",\"size\":10,\"solidity\":0.2},\"type\":\"scatter\"}],\"parcoords\":[{\"type\":\"parcoords\",\"line\":{\"colorbar\":{\"outlinewidth\":0,\"ticks\":\"\"}}}],\"scatterpolargl\":[{\"type\":\"scatterpolargl\",\"marker\":{\"colorbar\":{\"outlinewidth\":0,\"ticks\":\"\"}}}],\"bar\":[{\"error_x\":{\"color\":\"#2a3f5f\"},\"error_y\":{\"color\":\"#2a3f5f\"},\"marker\":{\"line\":{\"color\":\"#E5ECF6\",\"width\":0.5},\"pattern\":{\"fillmode\":\"overlay\",\"size\":10,\"solidity\":0.2}},\"type\":\"bar\"}],\"scattergeo\":[{\"type\":\"scattergeo\",\"marker\":{\"colorbar\":{\"outlinewidth\":0,\"ticks\":\"\"}}}],\"scatterpolar\":[{\"type\":\"scatterpolar\",\"marker\":{\"colorbar\":{\"outlinewidth\":0,\"ticks\":\"\"}}}],\"histogram\":[{\"marker\":{\"pattern\":{\"fillmode\":\"overlay\",\"size\":10,\"solidity\":0.2}},\"type\":\"histogram\"}],\"scattergl\":[{\"type\":\"scattergl\",\"marker\":{\"colorbar\":{\"outlinewidth\":0,\"ticks\":\"\"}}}],\"scatter3d\":[{\"type\":\"scatter3d\",\"line\":{\"colorbar\":{\"outlinewidth\":0,\"ticks\":\"\"}},\"marker\":{\"colorbar\":{\"outlinewidth\":0,\"ticks\":\"\"}}}],\"scattermapbox\":[{\"type\":\"scattermapbox\",\"marker\":{\"colorbar\":{\"outlinewidth\":0,\"ticks\":\"\"}}}],\"scatterternary\":[{\"type\":\"scatterternary\",\"marker\":{\"colorbar\":{\"outlinewidth\":0,\"ticks\":\"\"}}}],\"scattercarpet\":[{\"type\":\"scattercarpet\",\"marker\":{\"colorbar\":{\"outlinewidth\":0,\"ticks\":\"\"}}}],\"carpet\":[{\"aaxis\":{\"endlinecolor\":\"#2a3f5f\",\"gridcolor\":\"white\",\"linecolor\":\"white\",\"minorgridcolor\":\"white\",\"startlinecolor\":\"#2a3f5f\"},\"baxis\":{\"endlinecolor\":\"#2a3f5f\",\"gridcolor\":\"white\",\"linecolor\":\"white\",\"minorgridcolor\":\"white\",\"startlinecolor\":\"#2a3f5f\"},\"type\":\"carpet\"}],\"table\":[{\"cells\":{\"fill\":{\"color\":\"#EBF0F8\"},\"line\":{\"color\":\"white\"}},\"header\":{\"fill\":{\"color\":\"#C8D4E3\"},\"line\":{\"color\":\"white\"}},\"type\":\"table\"}],\"barpolar\":[{\"marker\":{\"line\":{\"color\":\"#E5ECF6\",\"width\":0.5},\"pattern\":{\"fillmode\":\"overlay\",\"size\":10,\"solidity\":0.2}},\"type\":\"barpolar\"}],\"pie\":[{\"automargin\":true,\"type\":\"pie\"}]},\"layout\":{\"autotypenumbers\":\"strict\",\"colorway\":[\"#636efa\",\"#EF553B\",\"#00cc96\",\"#ab63fa\",\"#FFA15A\",\"#19d3f3\",\"#FF6692\",\"#B6E880\",\"#FF97FF\",\"#FECB52\"],\"font\":{\"color\":\"#2a3f5f\"},\"hovermode\":\"closest\",\"hoverlabel\":{\"align\":\"left\"},\"paper_bgcolor\":\"white\",\"plot_bgcolor\":\"#E5ECF6\",\"polar\":{\"bgcolor\":\"#E5ECF6\",\"angularaxis\":{\"gridcolor\":\"white\",\"linecolor\":\"white\",\"ticks\":\"\"},\"radialaxis\":{\"gridcolor\":\"white\",\"linecolor\":\"white\",\"ticks\":\"\"}},\"ternary\":{\"bgcolor\":\"#E5ECF6\",\"aaxis\":{\"gridcolor\":\"white\",\"linecolor\":\"white\",\"ticks\":\"\"},\"baxis\":{\"gridcolor\":\"white\",\"linecolor\":\"white\",\"ticks\":\"\"},\"caxis\":{\"gridcolor\":\"white\",\"linecolor\":\"white\",\"ticks\":\"\"}},\"coloraxis\":{\"colorbar\":{\"outlinewidth\":0,\"ticks\":\"\"}},\"colorscale\":{\"sequential\":[[0.0,\"#0d0887\"],[0.1111111111111111,\"#46039f\"],[0.2222222222222222,\"#7201a8\"],[0.3333333333333333,\"#9c179e\"],[0.4444444444444444,\"#bd3786\"],[0.5555555555555556,\"#d8576b\"],[0.6666666666666666,\"#ed7953\"],[0.7777777777777778,\"#fb9f3a\"],[0.8888888888888888,\"#fdca26\"],[1.0,\"#f0f921\"]],\"sequentialminus\":[[0.0,\"#0d0887\"],[0.1111111111111111,\"#46039f\"],[0.2222222222222222,\"#7201a8\"],[0.3333333333333333,\"#9c179e\"],[0.4444444444444444,\"#bd3786\"],[0.5555555555555556,\"#d8576b\"],[0.6666666666666666,\"#ed7953\"],[0.7777777777777778,\"#fb9f3a\"],[0.8888888888888888,\"#fdca26\"],[1.0,\"#f0f921\"]],\"diverging\":[[0,\"#8e0152\"],[0.1,\"#c51b7d\"],[0.2,\"#de77ae\"],[0.3,\"#f1b6da\"],[0.4,\"#fde0ef\"],[0.5,\"#f7f7f7\"],[0.6,\"#e6f5d0\"],[0.7,\"#b8e186\"],[0.8,\"#7fbc41\"],[0.9,\"#4d9221\"],[1,\"#276419\"]]},\"xaxis\":{\"gridcolor\":\"white\",\"linecolor\":\"white\",\"ticks\":\"\",\"title\":{\"standoff\":15},\"zerolinecolor\":\"white\",\"automargin\":true,\"zerolinewidth\":2},\"yaxis\":{\"gridcolor\":\"white\",\"linecolor\":\"white\",\"ticks\":\"\",\"title\":{\"standoff\":15},\"zerolinecolor\":\"white\",\"automargin\":true,\"zerolinewidth\":2},\"scene\":{\"xaxis\":{\"backgroundcolor\":\"#E5ECF6\",\"gridcolor\":\"white\",\"linecolor\":\"white\",\"showbackground\":true,\"ticks\":\"\",\"zerolinecolor\":\"white\",\"gridwidth\":2},\"yaxis\":{\"backgroundcolor\":\"#E5ECF6\",\"gridcolor\":\"white\",\"linecolor\":\"white\",\"showbackground\":true,\"ticks\":\"\",\"zerolinecolor\":\"white\",\"gridwidth\":2},\"zaxis\":{\"backgroundcolor\":\"#E5ECF6\",\"gridcolor\":\"white\",\"linecolor\":\"white\",\"showbackground\":true,\"ticks\":\"\",\"zerolinecolor\":\"white\",\"gridwidth\":2}},\"shapedefaults\":{\"line\":{\"color\":\"#2a3f5f\"}},\"annotationdefaults\":{\"arrowcolor\":\"#2a3f5f\",\"arrowhead\":0,\"arrowwidth\":1},\"geo\":{\"bgcolor\":\"white\",\"landcolor\":\"#E5ECF6\",\"subunitcolor\":\"white\",\"showland\":true,\"showlakes\":true,\"lakecolor\":\"white\"},\"title\":{\"x\":0.05},\"mapbox\":{\"style\":\"light\"}}},\"xaxis\":{\"anchor\":\"y\",\"domain\":[0.0,1.0],\"title\":{\"text\":\"Lot Area (sq ft)\"}},\"yaxis\":{\"anchor\":\"x\",\"domain\":[0.0,1.0],\"title\":{\"text\":\"Sale Price\"}},\"coloraxis\":{\"colorbar\":{\"title\":{\"text\":\"OverallQual\"}},\"colorscale\":[[0.0,\"#0d0887\"],[0.1111111111111111,\"#46039f\"],[0.2222222222222222,\"#7201a8\"],[0.3333333333333333,\"#9c179e\"],[0.4444444444444444,\"#bd3786\"],[0.5555555555555556,\"#d8576b\"],[0.6666666666666666,\"#ed7953\"],[0.7777777777777778,\"#fb9f3a\"],[0.8888888888888888,\"#fdca26\"],[1.0,\"#f0f921\"]]},\"legend\":{\"tracegroupgap\":0},\"title\":{\"text\":\"Lot Area vs. Sale Price\"}},                        {\"responsive\": true}                    ).then(function(){\n",
       "                            \n",
       "var gd = document.getElementById('29eedfa3-4c35-4ca5-8360-a208bf385458');\n",
       "var x = new MutationObserver(function (mutations, observer) {{\n",
       "        var display = window.getComputedStyle(gd).display;\n",
       "        if (!display || display === 'none') {{\n",
       "            console.log([gd, 'removed!']);\n",
       "            Plotly.purge(gd);\n",
       "            observer.disconnect();\n",
       "        }}\n",
       "}});\n",
       "\n",
       "// Listen for the removal of the full notebook cells\n",
       "var notebookContainer = gd.closest('#notebook-container');\n",
       "if (notebookContainer) {{\n",
       "    x.observe(notebookContainer, {childList: true});\n",
       "}}\n",
       "\n",
       "// Listen for the clearing of the current output cell\n",
       "var outputEl = gd.closest('.output');\n",
       "if (outputEl) {{\n",
       "    x.observe(outputEl, {childList: true});\n",
       "}}\n",
       "\n",
       "                        })                };                });            </script>        </div>"
      ]
     },
     "metadata": {},
     "output_type": "display_data"
    },
    {
     "name": "stdout",
     "output_type": "stream",
     "text": [
      "Top correlated features with SalePrice:\n",
      " Index(['SalePrice', 'OverallQual', 'GrLivArea', 'GarageCars', 'GarageArea',\n",
      "       'TotalBsmtSF', '1stFlrSF', 'FullBath', 'TotRmsAbvGrd', 'YearBuilt',\n",
      "       'YearRemodAdd'],\n",
      "      dtype='object')\n"
     ]
    },
    {
     "data": {
      "image/png": "[encoded data removed]",
      "text/plain": [
       "<Figure size 1100x800 with 2 Axes>"
      ]
     },
     "metadata": {},
     "output_type": "display_data"
    }
   ],
   "source": [
    "# Visualizations\n",
    "\n",
    "# Sale Price Distribution\n",
    "plt.figure(figsize=(10, 6))\n",
    "plt.hist(df['SalePrice'], bins=50, color='skyblue', edgecolor='black')\n",
    "plt.title('Distribution of Sale Prices')\n",
    "plt.xlabel('Sale Price')\n",
    "plt.ylabel('Frequency')\n",
    "plt.savefig('matplotlib_sale_price_distribution.png')\n",
    "plt.show()\n",
    "\n",
    "# Sale Price vs. Overall Quality\n",
    "plt.figure(figsize=(10, 6))\n",
    "sns.boxplot(x='OverallQual', y='SalePrice', data=df, palette='muted')\n",
    "plt.title('Sale Price vs. Overall Quality')\n",
    "plt.xlabel('Overall Quality')\n",
    "plt.ylabel('Sale Price')\n",
    "plt.savefig('seaborn_sale_price_vs_quality.png')\n",
    "plt.show()\n",
    "\n",
    "# Create a scatter plot using Plotly\n",
    "fig = px.scatter(df, x='LotArea', y='SalePrice', color='OverallQual',\n",
    "                 title='Lot Area vs. Sale Price',\n",
    "                 labels={'LotArea': 'Lot Area (sq ft)', 'SalePrice': 'Sale Price'},\n",
    "                 hover_data=['YearBuilt'])\n",
    "# Display the plot\n",
    "fig.show()\n",
    "# Save the plot as a PNG image\n",
    "fig.write_image('plotly_lot_area_vs_sale_price.png')\n",
    "\n",
    "# Compute the correlation matrix\n",
    "corr_matrix = df.corr()\n",
    "# Select the top features that correlate with 'SalePrice'\n",
    "top_corr_features = corr_matrix['SalePrice'].abs().sort_values(ascending=False).head(11).index\n",
    "print(\"Top correlated features with SalePrice:\\n\", top_corr_features)\n",
    "# Create a new correlation matrix with the top features\n",
    "top_corr_matrix = df[top_corr_features].corr()\n",
    "# Create the heatmap\n",
    "plt.figure(figsize=(11, 8))\n",
    "sns.heatmap(top_corr_matrix, annot=True, cmap='coolwarm', vmin=-1, vmax=1, cbar=True, square=True, \n",
    "            linewidths=0.5, cbar_kws={\"shrink\": .5})\n",
    "plt.title('Top Correlated Features with Sale Price', fontsize=16, pad=20)\n",
    "plt.tight_layout()\n",
    "# Save the plot\n",
    "plt.savefig('seaborn_top_corr_heatmap.png')\n",
    "# Display the plot\n",
    "plt.show()"
   ]
  },
  {
   "cell_type": "code",
   "execution_count": 185,
   "id": "aae95cf5-4980-4db3-b69e-99f9e277b0b9",
   "metadata": {},
   "outputs": [
    {
     "name": "stdout",
     "output_type": "stream",
     "text": [
      "\n",
      "Top 10 features selected by univariate feature selection (using f_regression):\n",
      "['OverallQual', 'TotalBsmtSF', 'GrLivArea', 'GarageCars', 'TotalSF', 'TotalBathrooms', 'TotalSF_OverallQual', 'GrLivArea_TotRmsAbvGrd', 'GarageArea_GarageCars', 'TotalSF_OverallCond']\n"
     ]
    }
   ],
   "source": [
    "# univariate feature selection\n",
    "\n",
    "from sklearn.feature_selection import SelectKBest, f_regression\n",
    "\n",
    "# This uses f_regression, which is appropriate for regression problems\n",
    "selector = SelectKBest(score_func=f_regression, k=10)\n",
    "X_selected = selector.fit_transform(X_processed, y)\n",
    "\n",
    "selected_feature_indices = selector.get_support(indices=True)\n",
    "selected_features = [feature_names[i] for i in selected_feature_indices]\n",
    "\n",
    "print(\"\\nTop 10 features selected by univariate feature selection (using f_regression):\")\n",
    "print(selected_features)"
   ]
  },
  {
   "cell_type": "code",
   "execution_count": 186,
   "id": "fe37d9ea-bf81-4e73-85bf-ad99643ce9d0",
   "metadata": {},
   "outputs": [
    {
     "name": "stdout",
     "output_type": "stream",
     "text": [
      "Top 10 features selected by RFE:\n",
      "['Condition2_PosN', 'RoofMatl_CompShg', 'RoofMatl_Membran', 'RoofMatl_Metal', 'RoofMatl_Roll', 'RoofMatl_Tar&Grv', 'RoofMatl_WdShake', 'RoofMatl_WdShngl', 'PoolQC_Fa', 'PoolQC_missing']\n"
     ]
    }
   ],
   "source": [
    "# Top features selected by RFE\n",
    "\n",
    "from sklearn.feature_selection import RFE\n",
    "from sklearn.linear_model import LinearRegression\n",
    "\n",
    "# Use X_processed instead of X\n",
    "estimator = LinearRegression()\n",
    "selector = RFE(estimator, n_features_to_select=10, step=1)\n",
    "selector = selector.fit(X_processed, y)\n",
    "\n",
    "# Get the mask of selected features\n",
    "feature_mask = selector.support_\n",
    "\n",
    "# Get the names of the selected features\n",
    "selected_features = [feature_names[i] for i in range(len(feature_mask)) if feature_mask[i]]\n",
    "\n",
    "print(\"Top 10 features selected by RFE:\")\n",
    "print(selected_features)"
   ]
  },
  {
   "cell_type": "code",
   "execution_count": 187,
   "id": "20672304-46d6-4d46-9e42-31cedea62d98",
   "metadata": {},
   "outputs": [
    {
     "name": "stdout",
     "output_type": "stream",
     "text": [
      "Top 10 features by Random Forest importance:\n",
      "                  feature  importance\n",
      "0     TotalSF_OverallQual    0.807735\n",
      "1     TotalSF_OverallCond    0.016542\n",
      "2  YearBuilt_YearRemodAdd    0.010114\n",
      "3                 LotArea    0.008518\n",
      "4              BsmtFinSF1    0.008383\n",
      "5               BsmtUnfSF    0.007986\n",
      "6             OpenPorchSF    0.007166\n",
      "7   GarageArea_GarageCars    0.006161\n",
      "8    HouseAge_OverallQual    0.005684\n",
      "9          TotalBathrooms    0.005231\n"
     ]
    }
   ],
   "source": [
    "# Top features selected by Random Forest\n",
    "\n",
    "from sklearn.ensemble import RandomForestRegressor\n",
    "import pandas as pd\n",
    "\n",
    "# Use X_processed instead of X\n",
    "rf_model = RandomForestRegressor(n_estimators=100, random_state=42)\n",
    "rf_model.fit(X_processed, y)\n",
    "\n",
    "# Get feature importances\n",
    "importances = rf_model.feature_importances_\n",
    "\n",
    "# Sort features by importance\n",
    "feature_importance_df = pd.DataFrame({'feature': feature_names, 'importance': importances})\n",
    "feature_importance_df = feature_importance_df.sort_values('importance', ascending=False).reset_index(drop=True)\n",
    "\n",
    "print(\"Top 10 features by Random Forest importance:\")\n",
    "print(feature_importance_df.head(10))"
   ]
  },
  {
   "cell_type": "code",
   "execution_count": 188,
   "id": "272211e0-995a-40a7-b385-4f2f7a48d992",
   "metadata": {},
   "outputs": [
    {
     "name": "stdout",
     "output_type": "stream",
     "text": [
      "Top 10 features by XGBoost importance:\n",
      "                feature  importance\n",
      "0   TotalSF_OverallQual    0.432219\n",
      "1        KitchenQual_TA    0.071039\n",
      "2         Alley_missing    0.054369\n",
      "3  Neighborhood_Blueste    0.029859\n",
      "4         GarageQual_TA    0.028146\n",
      "5         LandSlope_Mod    0.027403\n",
      "6           MSZoning_RM    0.018765\n",
      "7            GarageCars    0.018041\n",
      "8          KitchenAbvGr    0.015699\n",
      "9          SaleType_New    0.014757\n"
     ]
    }
   ],
   "source": [
    "# Top features selected by XGBoost\n",
    "\n",
    "import xgboost as xgb\n",
    "import pandas as pd\n",
    "import numpy as np\n",
    "\n",
    "# Convert X_processed to a DataFrame if it's not already\n",
    "X_processed_df = pd.DataFrame(X_processed, columns=feature_names)\n",
    "\n",
    "# Ensure all data is numeric\n",
    "for col in X_processed_df.columns:\n",
    "    if X_processed_df[col].dtype == 'object':\n",
    "        X_processed_df[col] = pd.factorize(X_processed_df[col])[0]\n",
    "\n",
    "# Now fit the XGBoost model\n",
    "xgb_model = xgb.XGBRegressor(n_estimators=100, random_state=42)\n",
    "xgb_model.fit(X_processed_df, y)\n",
    "\n",
    "# Get feature importances\n",
    "importances = xgb_model.feature_importances_\n",
    "\n",
    "# Sort features by importance\n",
    "feature_importance_df = pd.DataFrame({'feature': feature_names, 'importance': importances})\n",
    "feature_importance_df = feature_importance_df.sort_values('importance', ascending=False).reset_index(drop=True)\n",
    "\n",
    "print(\"Top 10 features by XGBoost importance:\")\n",
    "print(feature_importance_df.head(10))"
   ]
  },
  {
   "cell_type": "code",
   "execution_count": 189,
   "id": "586b14b1-a164-45a6-88bd-2638f1d2938d",
   "metadata": {},
   "outputs": [
    {
     "name": "stdout",
     "output_type": "stream",
     "text": [
      "MAE: 18646.6195 (+/- 2643.2246)\n",
      "MSE: 1377330606.2392 (+/- 982155553.6464)\n",
      "MSLE: 0.3547 (+/- 0.8479)\n",
      "MAPE: 11.0355 (+/- 0.9765)\n",
      "MedAE: 11607.1190 (+/- 1154.3101)\n",
      "R2: 0.7796 (+/- 0.1777)\n",
      "RMSE: 36411.4621 (+/- 14357.7204)\n",
      "RMSE (calculated from MSE): 37112.4050\n",
      "\n",
      "Top 5 positive and negative OLS coefficients:\n",
      "              feature    coefficient\n",
      "36   TimeSinceRemodel  644439.021331\n",
      "117  RoofMatl_WdShngl  498064.307619\n",
      "112  RoofMatl_Membran  482169.174248\n",
      "114     RoofMatl_Roll  448296.095184\n",
      "113    RoofMatl_Metal  446629.449096\n",
      "              feature    coefficient\n",
      "91    Condition2_PosN -232583.424004\n",
      "228    PoolQC_missing -126523.231523\n",
      "216     GarageQual_Po -102573.124543\n",
      "92    Condition2_RRAe  -97157.170423\n",
      "235  MiscFeature_TenC  -96740.736155\n"
     ]
    }
   ],
   "source": [
    "# OLS regression\n",
    "\n",
    "from sklearn.model_selection import cross_validate\n",
    "from sklearn.metrics import make_scorer, mean_absolute_error, mean_squared_error, median_absolute_error, r2_score\n",
    "import numpy as np\n",
    "\n",
    "# Fit OLS model\n",
    "ols = LinearRegression()\n",
    "ols.fit(X_processed, y)\n",
    "\n",
    "def mean_squared_log_error(y_true, y_pred):\n",
    "    # Add a small constant to avoid log(0)\n",
    "    y_true = np.maximum(y_true, 0) + 1\n",
    "    y_pred = np.maximum(y_pred, 0) + 1\n",
    "    return np.mean(np.square(np.log(y_true) - np.log(y_pred)))\n",
    "\n",
    "def mean_absolute_percentage_error(y_true, y_pred):\n",
    "    return np.mean(np.abs((y_true - y_pred) / y_true)) * 100\n",
    "\n",
    "# Define the scoring metrics\n",
    "scoring = {\n",
    "    'MAE': 'neg_mean_absolute_error',\n",
    "    'MSE': 'neg_mean_squared_error',\n",
    "    'MSLE': make_scorer(mean_squared_log_error, greater_is_better=False),\n",
    "    'MAPE': make_scorer(mean_absolute_percentage_error, greater_is_better=False),\n",
    "    'MedAE': 'neg_median_absolute_error',\n",
    "    'R2': 'r2',\n",
    "    'RMSE': make_scorer(lambda y, y_pred: np.sqrt(mean_squared_error(y, y_pred)), greater_is_better=False)\n",
    "}\n",
    "\n",
    "# Perform cross-validation with multiple metrics\n",
    "cv_results = cross_validate(ols, X_processed, y, cv=5, scoring=scoring)\n",
    "\n",
    "# Print results\n",
    "for metric, scores in cv_results.items():\n",
    "    if metric.startswith('test_'):\n",
    "        metric_name = metric[5:]  # Remove 'test_' prefix\n",
    "        if metric_name in ['MAE', 'MSE', 'MSLE', 'MAPE', 'MedAE', 'RMSE']:\n",
    "            print(f\"{metric_name}: {-scores.mean():.4f} (+/- {scores.std() * 2:.4f})\")\n",
    "        else:  # R2 score\n",
    "            print(f\"{metric_name}: {scores.mean():.4f} (+/- {scores.std() * 2:.4f})\")\n",
    "\n",
    "# Calculate RMSE from MSE for comparison\n",
    "mse = -cv_results['test_MSE'].mean()\n",
    "rmse = np.sqrt(mse)\n",
    "print(f\"RMSE (calculated from MSE): {rmse:.4f}\")\n",
    "\n",
    "# Get coefficients\n",
    "ols_coef = pd.DataFrame({'feature': feature_names, 'coefficient': ols.coef_})\n",
    "print(\"\\nTop 5 positive and negative OLS coefficients:\")\n",
    "print(ols_coef.sort_values('coefficient', ascending=False).head())\n",
    "print(ols_coef.sort_values('coefficient', ascending=True).head())"
   ]
  },
  {
   "cell_type": "code",
   "execution_count": 190,
   "id": "2e94f1c6-235b-479e-98f9-295ba8f6bbfa",
   "metadata": {},
   "outputs": [
    {
     "name": "stderr",
     "output_type": "stream",
     "text": [
      "/Users/ttanaka/opt/anaconda3/lib/python3.9/site-packages/sklearn/linear_model/_coordinate_descent.py:678: ConvergenceWarning: Objective did not converge. You might want to increase the number of iterations, check the scale of the features or consider increasing regularisation. Duality gap: 1.066e+11, tolerance: 7.288e+08\n",
      "  model = cd_fast.enet_coordinate_descent(\n",
      "/Users/ttanaka/opt/anaconda3/lib/python3.9/site-packages/sklearn/linear_model/_coordinate_descent.py:678: ConvergenceWarning: Objective did not converge. You might want to increase the number of iterations, check the scale of the features or consider increasing regularisation. Duality gap: 1.104e+11, tolerance: 7.592e+08\n",
      "  model = cd_fast.enet_coordinate_descent(\n",
      "/Users/ttanaka/opt/anaconda3/lib/python3.9/site-packages/sklearn/linear_model/_coordinate_descent.py:678: ConvergenceWarning: Objective did not converge. You might want to increase the number of iterations, check the scale of the features or consider increasing regularisation. Duality gap: 1.237e+11, tolerance: 6.990e+08\n",
      "  model = cd_fast.enet_coordinate_descent(\n",
      "/Users/ttanaka/opt/anaconda3/lib/python3.9/site-packages/sklearn/linear_model/_coordinate_descent.py:678: ConvergenceWarning: Objective did not converge. You might want to increase the number of iterations, check the scale of the features or consider increasing regularisation. Duality gap: 1.224e+10, tolerance: 7.706e+08\n",
      "  model = cd_fast.enet_coordinate_descent(\n",
      "/Users/ttanaka/opt/anaconda3/lib/python3.9/site-packages/sklearn/linear_model/_coordinate_descent.py:678: ConvergenceWarning: Objective did not converge. You might want to increase the number of iterations, check the scale of the features or consider increasing regularisation. Duality gap: 2.776e+10, tolerance: 7.249e+08\n",
      "  model = cd_fast.enet_coordinate_descent(\n"
     ]
    },
    {
     "name": "stdout",
     "output_type": "stream",
     "text": [
      "Best Ridge alpha: 100\n",
      "\n",
      "Ridge Regression Results:\n",
      "MAE: 16753.4792 (+/- 2553.6605)\n",
      "MSE: 853323764.8468 (+/- 614762731.3334)\n",
      "MAPE: 9.7988 (+/- 1.0885)\n",
      "MedAE: 11458.4936 (+/- 1769.9026)\n",
      "R2: 0.8674 (+/- 0.0732)\n",
      "RMSE: 28730.0706 (+/- 10565.3788)\n",
      "RMSE (calculated from MSE): 29211.7060\n",
      "\n",
      "Best Elastic Net parameters: {'alpha': 0.1, 'l1_ratio': 0.7, 'max_iter': 100000, 'tol': 0.0001}\n",
      "\n",
      "Elastic Net Regression Results:\n",
      "MAE: 16613.2646 (+/- 2387.4626)\n",
      "MSE: 834494733.3858 (+/- 611226241.5075)\n",
      "MAPE: 9.8595 (+/- 1.1270)\n",
      "MedAE: 11317.8728 (+/- 1634.2167)\n",
      "R2: 0.8704 (+/- 0.0738)\n",
      "RMSE: 28387.6376 (+/- 10702.6656)\n",
      "RMSE (calculated from MSE): 28887.6225\n",
      "\n",
      "Top 10 features by Ridge importance:\n",
      "                  feature    importance\n",
      "0     TotalSF_OverallQual  16828.300381\n",
      "1  GrLivArea_TotRmsAbvGrd   9394.655219\n",
      "2        TotalSF_HouseAge   9210.474421\n",
      "3             BsmtQual_Gd   8871.898723\n",
      "4    Neighborhood_CollgCr   7410.761514\n",
      "5          KitchenQual_Gd   7102.852626\n",
      "6             OverallQual   6879.308218\n",
      "7         Condition1_Norm   6779.732174\n",
      "8         BsmtExposure_Gd   6303.988979\n",
      "9   GarageArea_GarageCars   6182.446383\n",
      "\n",
      "Top 10 features by Elastic Net importance:\n",
      "                  feature    importance\n",
      "0     TotalSF_OverallQual  21457.381015\n",
      "1        TotalSF_HouseAge  12609.509913\n",
      "2  GrLivArea_TotRmsAbvGrd  12447.607815\n",
      "3             BsmtQual_Gd  10700.373663\n",
      "4    Neighborhood_CollgCr  10620.539494\n",
      "5          KitchenQual_Gd   9626.433863\n",
      "6        RoofMatl_WdShngl   8956.274416\n",
      "7         Condition1_Norm   8414.909899\n",
      "8         BsmtExposure_Gd   8107.015779\n",
      "9          Functional_Typ   7767.511571\n"
     ]
    },
    {
     "data": {
      "image/png": "[encoded data removed]",
      "text/plain": [
       "<Figure size 1200x600 with 1 Axes>"
      ]
     },
     "metadata": {},
     "output_type": "display_data"
    },
    {
     "data": {
      "image/png": "[encoded data removed]",
      "text/plain": [
       "<Figure size 1200x600 with 1 Axes>"
      ]
     },
     "metadata": {},
     "output_type": "display_data"
    },
    {
     "name": "stdout",
     "output_type": "stream",
     "text": [
      "\n",
      "Top 10 features with the largest difference in importance between Ridge and Elastic Net:\n",
      "                   feature  importance_ridge  importance_elastic_net  \\\n",
      "0      TotalSF_OverallQual      16828.300381            21457.381015   \n",
      "21        RoofMatl_WdShngl       4383.189683             8956.274416   \n",
      "38         Condition2_PosN       2994.396693             6492.686731   \n",
      "2         TotalSF_HouseAge       9210.474421            12609.509913   \n",
      "4     Neighborhood_CollgCr       7410.761514            10620.539494   \n",
      "1   GrLivArea_TotRmsAbvGrd       9394.655219            12447.607815   \n",
      "30         LandContour_HLS       3723.297056             6412.159405   \n",
      "41         Condition2_Norm       2790.629673             5337.904785   \n",
      "5           KitchenQual_Gd       7102.852626             9626.433863   \n",
      "89          KitchenQual_Fa       1395.687334             3816.403041   \n",
      "\n",
      "    importance_difference  \n",
      "0            -4629.080634  \n",
      "21           -4573.084732  \n",
      "38           -3498.290038  \n",
      "2            -3399.035492  \n",
      "4            -3209.777980  \n",
      "1            -3052.952596  \n",
      "30           -2688.862349  \n",
      "41           -2547.275113  \n",
      "5            -2523.581237  \n",
      "89           -2420.715707  \n"
     ]
    }
   ],
   "source": [
    "# Ridge and Elastic Net\n",
    "\n",
    "from sklearn.linear_model import Ridge, ElasticNet\n",
    "from sklearn.model_selection import cross_validate, GridSearchCV\n",
    "from sklearn.metrics import make_scorer, mean_absolute_error, mean_squared_error, r2_score, median_absolute_error\n",
    "import numpy as np\n",
    "import pandas as pd\n",
    "import matplotlib.pyplot as plt\n",
    "\n",
    "def custom_mape(y_true, y_pred):\n",
    "    return np.mean(np.abs((y_true - y_pred) / y_true)) * 100\n",
    "\n",
    "def custom_scoring():\n",
    "    return {\n",
    "        'MAE': 'neg_mean_absolute_error',\n",
    "        'MSE': 'neg_mean_squared_error',\n",
    "        'MAPE': make_scorer(custom_mape, greater_is_better=False),\n",
    "        'MedAE': 'neg_median_absolute_error',\n",
    "        'R2': 'r2',\n",
    "        'RMSE': make_scorer(lambda y, y_pred: np.sqrt(mean_squared_error(y, y_pred)), greater_is_better=False)\n",
    "    }\n",
    "\n",
    "# Ridge Regression\n",
    "ridge_params = {'alpha': [0.1, 1, 10, 100, 1000]}\n",
    "ridge = GridSearchCV(Ridge(random_state=42), ridge_params, cv=5, scoring='neg_mean_squared_error')\n",
    "ridge.fit(X_processed, y)\n",
    "best_ridge = ridge.best_estimator_\n",
    "ridge_scores = cross_validate(best_ridge, X_processed, y, cv=5, scoring=custom_scoring())\n",
    "\n",
    "# Elastic Net\n",
    "elastic_net_params = {\n",
    "    'alpha': [0.001, 0.01, 0.1, 1, 10, 100],\n",
    "    'l1_ratio': [0.1, 0.3, 0.5, 0.7, 0.9],\n",
    "    'max_iter': [100000],\n",
    "    'tol': [1e-4]\n",
    "}\n",
    "elastic_net = GridSearchCV(ElasticNet(random_state=42), elastic_net_params, cv=5, scoring='neg_mean_squared_error', n_jobs=-1)\n",
    "elastic_net.fit(X_processed, y)\n",
    "best_elastic_net = elastic_net.best_estimator_\n",
    "elastic_net_scores = cross_validate(best_elastic_net, X_processed, y, cv=5, scoring=custom_scoring())\n",
    "\n",
    "def print_scores(model_name, scores):\n",
    "    print(f\"\\n{model_name} Results:\")\n",
    "    for metric, values in scores.items():\n",
    "        if metric.startswith('test_'):\n",
    "            metric_name = metric[5:]\n",
    "            mean = np.mean(values)\n",
    "            std = np.std(values)\n",
    "            if metric_name in ['MAE', 'MSE', 'MedAE', 'RMSE', 'MAPE']:\n",
    "                print(f\"{metric_name}: {-mean:.4f} (+/- {std * 2:.4f})\")\n",
    "            else:\n",
    "                print(f\"{metric_name}: {mean:.4f} (+/- {std * 2:.4f})\")\n",
    "    \n",
    "    mse = -np.mean(scores['test_MSE'])\n",
    "    print(f\"RMSE (calculated from MSE): {np.sqrt(mse):.4f}\")\n",
    "\n",
    "print(f\"Best Ridge alpha: {ridge.best_params_['alpha']}\")\n",
    "print_scores(\"Ridge Regression\", ridge_scores)\n",
    "print(f\"\\nBest Elastic Net parameters: {elastic_net.best_params_}\")\n",
    "print_scores(\"Elastic Net Regression\", elastic_net_scores)\n",
    "\n",
    "# Feature Importance for Ridge Regression\n",
    "ridge_importances = pd.DataFrame({'feature': feature_names, 'importance': np.abs(best_ridge.coef_)})\n",
    "ridge_importances = ridge_importances.sort_values('importance', ascending=False).reset_index(drop=True)\n",
    "\n",
    "print(\"\\nTop 10 features by Ridge importance:\")\n",
    "print(ridge_importances.head(10))\n",
    "\n",
    "# Feature Importance for Elastic Net\n",
    "elastic_net_importances = pd.DataFrame({'feature': feature_names, 'importance': np.abs(best_elastic_net.coef_)})\n",
    "elastic_net_importances = elastic_net_importances.sort_values('importance', ascending=False).reset_index(drop=True)\n",
    "\n",
    "print(\"\\nTop 10 features by Elastic Net importance:\")\n",
    "print(elastic_net_importances.head(10))\n",
    "\n",
    "# Visualize feature importance\n",
    "def plot_feature_importance(importances, title):\n",
    "    plt.figure(figsize=(12, 6))\n",
    "    plt.bar(importances['feature'][:20], importances['importance'][:20])\n",
    "    plt.title(title)\n",
    "    plt.xlabel('Features')\n",
    "    plt.ylabel('Importance')\n",
    "    plt.xticks(rotation=90)\n",
    "    plt.tight_layout()\n",
    "    plt.show()\n",
    "\n",
    "plot_feature_importance(ridge_importances, 'Top 20 Features by Ridge Regression Importance')\n",
    "plot_feature_importance(elastic_net_importances, 'Top 20 Features by Elastic Net Regression Importance')\n",
    "\n",
    "# Compare feature importance\n",
    "combined_importances = pd.merge(ridge_importances, elastic_net_importances, on='feature', suffixes=('_ridge', '_elastic_net'))\n",
    "combined_importances['importance_difference'] = combined_importances['importance_ridge'] - combined_importances['importance_elastic_net']\n",
    "combined_importances = combined_importances.sort_values('importance_difference', key=abs, ascending=False)\n",
    "\n",
    "print(\"\\nTop 10 features with the largest difference in importance between Ridge and Elastic Net:\")\n",
    "print(combined_importances.head(10))"
   ]
  },
  {
   "cell_type": "code",
   "execution_count": 191,
   "id": "74ccaf04-b8ed-4a27-aeb9-b35eafb8e97c",
   "metadata": {},
   "outputs": [
    {
     "name": "stdout",
     "output_type": "stream",
     "text": [
      "Cross-validation results:\n",
      "Mean Absolute Error: 17508.05 (+/- 2041.90)\n",
      "Mean Squared Error: 927232894.06 (+/- 506114186.23)\n",
      "Root Mean Squared Error: 30176.95 (+/- 8144.78)\n",
      "Mean Absolute Percentage Error: 0.10% (+/- 0.01%)\n",
      "Median Absolute Error: 11101.34 (+/- 2006.31)\n",
      "R-squared: 0.853 (+/- 0.065)\n",
      "\n",
      "Test set results:\n",
      "Test Mean Absolute Error: 17107.39\n",
      "Test Mean Squared Error: 887917562.16\n",
      "Test Root Mean Squared Error: 29797.95\n",
      "Test Mean Absolute Percentage Error: 10.08%\n",
      "Test Median Absolute Error: 9078.64\n",
      "Test R-squared: 0.8842\n"
     ]
    }
   ],
   "source": [
    "from sklearn.model_selection import train_test_split, cross_val_score\n",
    "from sklearn.ensemble import RandomForestRegressor\n",
    "import numpy as np\n",
    "\n",
    "# Split the processed data into training and testing sets\n",
    "X_train, X_test, y_train, y_test = train_test_split(X_processed, y, test_size=0.2, random_state=42)\n",
    "\n",
    "# Initialize the model\n",
    "rf_model = RandomForestRegressor(n_estimators=100, random_state=42)\n",
    "\n",
    "# Fit the model\n",
    "rf_model.fit(X_train, y_train)\n",
    "\n",
    "# Calculate performance metrics\n",
    "mae = -cross_val_score(rf_model, X_processed, y, cv=5, scoring='neg_mean_absolute_error')\n",
    "mse = -cross_val_score(rf_model, X_processed, y, cv=5, scoring='neg_mean_squared_error')\n",
    "rmse = np.sqrt(mse)\n",
    "mape = -cross_val_score(rf_model, X_processed, y, cv=5, scoring='neg_mean_absolute_percentage_error')\n",
    "medae = -cross_val_score(rf_model, X_processed, y, cv=5, scoring='neg_median_absolute_error')\n",
    "r2 = cross_val_score(rf_model, X_processed, y, cv=5, scoring='r2')\n",
    "\n",
    "# Print the results\n",
    "print(\"Cross-validation results:\")\n",
    "print(f\"Mean Absolute Error: {mae.mean():.2f} (+/- {mae.std() * 2:.2f})\")\n",
    "print(f\"Mean Squared Error: {mse.mean():.2f} (+/- {mse.std() * 2:.2f})\")\n",
    "print(f\"Root Mean Squared Error: {rmse.mean():.2f} (+/- {rmse.std() * 2:.2f})\")\n",
    "print(f\"Mean Absolute Percentage Error: {mape.mean():.2f}% (+/- {mape.std() * 2:.2f}%)\")\n",
    "print(f\"Median Absolute Error: {medae.mean():.2f} (+/- {medae.std() * 2:.2f})\")\n",
    "print(f\"R-squared: {r2.mean():.3f} (+/- {r2.std() * 2:.3f})\")\n",
    "\n",
    "# If you want to calculate metrics on the test set as well:\n",
    "from sklearn.metrics import mean_absolute_error, mean_squared_error, r2_score\n",
    "\n",
    "y_pred = rf_model.predict(X_test)\n",
    "test_mae = mean_absolute_error(y_test, y_pred)\n",
    "test_mse = mean_squared_error(y_test, y_pred)\n",
    "test_rmse = np.sqrt(test_mse)\n",
    "test_mape = np.mean(np.abs((y_test - y_pred) / y_test)) * 100  # Calculate MAPE\n",
    "test_medae = median_absolute_error(y_test, y_pred)\n",
    "test_r2 = r2_score(y_test, y_pred)\n",
    "\n",
    "print(\"\\nTest set results:\")\n",
    "print(f\"Test Mean Absolute Error: {test_mae:.2f}\")\n",
    "print(f\"Test Mean Squared Error: {test_mse:.2f}\")\n",
    "print(f\"Test Root Mean Squared Error: {test_rmse:.2f}\")\n",
    "print(f\"Test Mean Absolute Percentage Error: {test_mape:.2f}%\")\n",
    "print(f\"Test Median Absolute Error: {test_medae:.2f}\")\n",
    "print(f\"Test R-squared: {test_r2:.4f}\")"
   ]
  },
  {
   "cell_type": "code",
   "execution_count": 192,
   "id": "e2da1437-9467-446a-b999-967e59523276",
   "metadata": {},
   "outputs": [
    {
     "name": "stdout",
     "output_type": "stream",
     "text": [
      "Number of features before preprocessing:\n",
      "Numeric: 51\n",
      "Categorical: 43\n",
      "Year: 3\n",
      "\n",
      "Categorical feature encoding details:\n",
      "MSZoning: 5 categories, 4 encoded features\n",
      "Street: 2 categories, 1 encoded features\n",
      "Alley: 3 categories, 2 encoded features\n",
      "LotShape: 4 categories, 3 encoded features\n",
      "LandContour: 4 categories, 3 encoded features\n",
      "Utilities: 2 categories, 1 encoded features\n",
      "LotConfig: 5 categories, 4 encoded features\n",
      "LandSlope: 3 categories, 2 encoded features\n",
      "Neighborhood: 10 categories, 9 encoded features\n",
      "Condition1: 9 categories, 8 encoded features\n",
      "Condition2: 8 categories, 7 encoded features\n",
      "BldgType: 5 categories, 4 encoded features\n",
      "HouseStyle: 8 categories, 7 encoded features\n",
      "RoofStyle: 6 categories, 5 encoded features\n",
      "RoofMatl: 8 categories, 7 encoded features\n",
      "Exterior1st: 10 categories, 9 encoded features\n",
      "Exterior2nd: 10 categories, 9 encoded features\n",
      "MasVnrType: 5 categories, 4 encoded features\n",
      "ExterQual: 4 categories, 3 encoded features\n",
      "ExterCond: 5 categories, 4 encoded features\n",
      "Foundation: 6 categories, 5 encoded features\n",
      "BsmtQual: 5 categories, 4 encoded features\n",
      "BsmtCond: 5 categories, 4 encoded features\n",
      "BsmtExposure: 5 categories, 4 encoded features\n",
      "BsmtFinType1: 7 categories, 6 encoded features\n",
      "BsmtFinType2: 7 categories, 6 encoded features\n",
      "Heating: 6 categories, 5 encoded features\n",
      "HeatingQC: 5 categories, 4 encoded features\n",
      "CentralAir: 2 categories, 1 encoded features\n",
      "Electrical: 6 categories, 5 encoded features\n",
      "KitchenQual: 4 categories, 3 encoded features\n",
      "Functional: 7 categories, 6 encoded features\n",
      "FireplaceQu: 6 categories, 5 encoded features\n",
      "GarageType: 7 categories, 6 encoded features\n",
      "GarageFinish: 4 categories, 3 encoded features\n",
      "GarageQual: 6 categories, 5 encoded features\n",
      "GarageCond: 6 categories, 5 encoded features\n",
      "PavedDrive: 3 categories, 2 encoded features\n",
      "PoolQC: 4 categories, 3 encoded features\n",
      "Fence: 5 categories, 4 encoded features\n",
      "MiscFeature: 5 categories, 4 encoded features\n",
      "SaleType: 9 categories, 8 encoded features\n",
      "SaleCondition: 6 categories, 5 encoded features\n",
      "\n",
      "Number of features after preprocessing:\n",
      "Numeric: 51\n",
      "Categorical (one-hot encoded): 199\n",
      "Year: 3\n",
      "\n",
      "Total number of features: 253\n",
      "Number of columns in preprocessed data: 253\n",
      "                   feature  importance\n",
      "42     TotalSF_OverallQual    0.799311\n",
      "49     TotalSF_OverallCond    0.017143\n",
      "46  YearBuilt_YearRemodAdd    0.012370\n",
      "2              LotFrontage    0.010258\n",
      "7               BsmtFinSF1    0.008453\n",
      "3                  LotArea    0.008411\n",
      "45   GarageArea_GarageCars    0.007828\n",
      "9                BsmtUnfSF    0.007784\n",
      "37          TotalBathrooms    0.005367\n",
      "34                 TotalSF    0.005305\n",
      "Number of feature names: 253\n",
      "Number of feature importances: 253\n",
      "    importance      feature\n",
      "42    0.799311           Id\n",
      "49    0.017143   MSSubClass\n",
      "46    0.012370  LotFrontage\n",
      "2     0.010258      LotArea\n",
      "7     0.008453  OverallQual\n",
      "3     0.008411  OverallCond\n",
      "45    0.007828   MasVnrArea\n",
      "9     0.007784   BsmtFinSF1\n",
      "37    0.005367   BsmtFinSF2\n",
      "34    0.005305    BsmtUnfSF\n"
     ]
    }
   ],
   "source": [
    "# Feature Importance in Random Forest\n",
    "# Get the feature names from the preprocessed data\n",
    "feature_names = full_pipeline.named_steps['preprocess_and_engineer'].transform(X).attrs['feature_names']\n",
    "\n",
    "# Feature Importance in Random Forest\n",
    "feature_importance = pd.DataFrame({\n",
    "    'feature': feature_names,\n",
    "    'importance': rf_model.feature_importances_\n",
    "}).sort_values('importance', ascending=False)\n",
    "\n",
    "print(feature_importance.head(10))\n",
    "\n",
    "print(f\"Number of feature names: {len(feature_names)}\")\n",
    "print(f\"Number of feature importances: {len(rf_model.feature_importances_)}\")\n",
    "\n",
    "feature_importance = pd.DataFrame({\n",
    "    'importance': rf_model.feature_importances_\n",
    "}).sort_values('importance', ascending=False)\n",
    "\n",
    "feature_importance['feature'] = feature_names if len(feature_names) == len(rf_model.feature_importances_) else [f\"Feature_{i}\" for i in range(len(rf_model.feature_importances_))]\n",
    "\n",
    "print(feature_importance.head(10))\n"
   ]
  },
  {
   "cell_type": "code",
   "execution_count": 193,
   "id": "13b67bd1-26d4-42be-a15b-c8b4abe6a15b",
   "metadata": {},
   "outputs": [
    {
     "name": "stdout",
     "output_type": "stream",
     "text": [
      "Cross-validation results (on training data):\n",
      "Mean Absolute Error: 16781.62 (+/- 2367.53)\n",
      "Mean Squared Error: 952736192.96 (+/- 595446171.84)\n",
      "Root Mean Squared Error: 30463.69 (+/- 9939.74)\n",
      "Mean Absolute Percentage Error: 0.09% (+/- 0.02%)\n",
      "Median Absolute Error: 10261.96 (+/- 1766.09)\n",
      "R-squared: 0.839 (+/- 0.094)\n",
      "\n",
      "Test set results:\n",
      "Test Mean Absolute Error: 17235.39\n",
      "Test Mean Squared Error: 894802001.38\n",
      "Test Root Mean Squared Error: 29913.24\n",
      "Test Mean Absolute Percentage Error: 9.99%\n",
      "Test Median Absolute Error: 10783.95\n",
      "Test R-squared: 0.8833\n"
     ]
    }
   ],
   "source": [
    "from sklearn.ensemble import GradientBoostingRegressor\n",
    "from sklearn.model_selection import cross_val_score\n",
    "from sklearn.metrics import mean_absolute_error, mean_squared_error, r2_score, median_absolute_error\n",
    "import numpy as np\n",
    "\n",
    "# Initialize the model\n",
    "gbdt_model = GradientBoostingRegressor(n_estimators=100, learning_rate=0.1, max_depth=3, random_state=42)\n",
    "\n",
    "# Fit the model\n",
    "gbdt_model.fit(X_train, y_train)\n",
    "\n",
    "# Calculate performance metrics using cross-validation on the training data\n",
    "mae = -cross_val_score(gbdt_model, X_train, y_train, cv=5, scoring='neg_mean_absolute_error')\n",
    "mse = -cross_val_score(gbdt_model, X_train, y_train, cv=5, scoring='neg_mean_squared_error')\n",
    "rmse = np.sqrt(mse)\n",
    "mape = -cross_val_score(gbdt_model, X_train, y_train, cv=5, scoring='neg_mean_absolute_percentage_error')\n",
    "medae = -cross_val_score(gbdt_model, X_train, y_train, cv=5, scoring='neg_median_absolute_error')\n",
    "r2 = cross_val_score(gbdt_model, X_train, y_train, cv=5, scoring='r2')\n",
    "\n",
    "# Calculate performance on the test set\n",
    "y_pred = gbdt_model.predict(X_test)\n",
    "test_mae = mean_absolute_error(y_test, y_pred)\n",
    "test_mse = mean_squared_error(y_test, y_pred)\n",
    "test_rmse = np.sqrt(test_mse)\n",
    "test_mape = np.mean(np.abs((y_test - y_pred) / y_test)) * 100\n",
    "test_medae = median_absolute_error(y_test, y_pred)\n",
    "test_r2 = r2_score(y_test, y_pred)\n",
    "\n",
    "print(\"Cross-validation results (on training data):\")\n",
    "print(f\"Mean Absolute Error: {mae.mean():.2f} (+/- {mae.std() * 2:.2f})\")\n",
    "print(f\"Mean Squared Error: {mse.mean():.2f} (+/- {mse.std() * 2:.2f})\")\n",
    "print(f\"Root Mean Squared Error: {rmse.mean():.2f} (+/- {rmse.std() * 2:.2f})\")\n",
    "print(f\"Mean Absolute Percentage Error: {mape.mean():.2f}% (+/- {mape.std() * 2:.2f}%)\")\n",
    "print(f\"Median Absolute Error: {medae.mean():.2f} (+/- {medae.std() * 2:.2f})\")\n",
    "print(f\"R-squared: {r2.mean():.3f} (+/- {r2.std() * 2:.3f})\")\n",
    "\n",
    "print(\"\\nTest set results:\")\n",
    "print(f\"Test Mean Absolute Error: {test_mae:.2f}\")\n",
    "print(f\"Test Mean Squared Error: {test_mse:.2f}\")\n",
    "print(f\"Test Root Mean Squared Error: {test_rmse:.2f}\")\n",
    "print(f\"Test Mean Absolute Percentage Error: {test_mape:.2f}%\")\n",
    "print(f\"Test Median Absolute Error: {test_medae:.2f}\")\n",
    "print(f\"Test R-squared: {test_r2:.4f}\")"
   ]
  },
  {
   "cell_type": "code",
   "execution_count": 208,
   "id": "cb7ba919-d819-4a0a-9e24-09903582f587",
   "metadata": {},
   "outputs": [
    {
     "name": "stdout",
     "output_type": "stream",
     "text": [
      "[LightGBM] [Info] Auto-choosing col-wise multi-threading, the overhead of testing was 0.001585 seconds.\n",
      "You can set `force_col_wise=true` to remove the overhead.\n",
      "[LightGBM] [Info] Total Bins 6103\n",
      "[LightGBM] [Info] Number of data points in the train set: 1168, number of used features: 178\n",
      "[LightGBM] [Info] Start training from score 181441.541952\n",
      "GBDT Cross-validation results:\n",
      "Mean Absolute Error: 16781.62 (+/- 2367.53)\n",
      "Mean Squared Error: 952736192.96 (+/- 595446171.84)\n",
      "Root Mean Squared Error: 30463.69 (+/- 9939.74)\n",
      "Mean Absolute Percentage Error: 0.09% (+/- 0.02%)\n",
      "Median Absolute Error: 10261.96 (+/- 1766.09)\n",
      "R-squared: 0.839 (+/- 0.094)\n",
      "\n",
      "GBDT Test set results:\n",
      "Test Mean Absolute Error: 17235.39\n",
      "Test Mean Squared Error: 894802001.38\n",
      "Test Root Mean Squared Error: 29913.24\n",
      "Test Mean Absolute Percentage Error: 9.99%\n",
      "Test Median Absolute Error: 10783.95\n",
      "Test R-squared: 0.8833\n",
      "\n",
      "XGBoost Cross-validation results:\n",
      "Mean Absolute Error: 17753.33 (+/- 2364.02)\n",
      "Mean Squared Error: 1176863372.64 (+/- 748492081.74)\n",
      "Root Mean Squared Error: 33855.42 (+/- 11076.82)\n",
      "Mean Absolute Percentage Error: 0.10% (+/- 0.02%)\n",
      "Median Absolute Error: 10811.76 (+/- 2181.51)\n",
      "R-squared: 0.806 (+/- 0.078)\n",
      "\n",
      "XGBoost Test set results:\n",
      "Test Mean Absolute Error: 16055.73\n",
      "Test Mean Squared Error: 728561362.64\n",
      "Test Root Mean Squared Error: 26991.88\n",
      "Test Mean Absolute Percentage Error: 9.58%\n",
      "Test Median Absolute Error: 9809.50\n",
      "Test R-squared: 0.9050\n",
      "\n",
      "[LightGBM] [Info] Auto-choosing col-wise multi-threading, the overhead of testing was 0.000905 seconds.\n",
      "You can set `force_col_wise=true` to remove the overhead.\n",
      "[LightGBM] [Info] Total Bins 5813\n",
      "[LightGBM] [Info] Number of data points in the train set: 934, number of used features: 171\n",
      "[LightGBM] [Info] Start training from score 181121.274090\n",
      "[LightGBM] [Info] Auto-choosing col-wise multi-threading, the overhead of testing was 0.001053 seconds.\n",
      "You can set `force_col_wise=true` to remove the overhead.\n",
      "[LightGBM] [Info] Total Bins 5841\n",
      "[LightGBM] [Info] Number of data points in the train set: 934, number of used features: 165\n",
      "[LightGBM] [Info] Start training from score 179912.635974\n",
      "[LightGBM] [Info] Auto-choosing row-wise multi-threading, the overhead of testing was 0.001045 seconds.\n",
      "You can set `force_row_wise=true` to remove the overhead.\n",
      "And if memory is not enough, you can set `force_col_wise=true`.\n",
      "[LightGBM] [Info] Total Bins 5803\n",
      "[LightGBM] [Info] Number of data points in the train set: 934, number of used features: 168\n",
      "[LightGBM] [Info] Start training from score 182516.069593\n",
      "[LightGBM] [Info] Auto-choosing col-wise multi-threading, the overhead of testing was 0.001690 seconds.\n",
      "You can set `force_col_wise=true` to remove the overhead.\n",
      "[LightGBM] [Info] Total Bins 5821\n",
      "[LightGBM] [Info] Number of data points in the train set: 935, number of used features: 169\n",
      "[LightGBM] [Info] Start training from score 182235.731551\n",
      "[LightGBM] [Info] Auto-choosing col-wise multi-threading, the overhead of testing was 0.000776 seconds.\n",
      "You can set `force_col_wise=true` to remove the overhead.\n",
      "[LightGBM] [Info] Total Bins 5870\n",
      "[LightGBM] [Info] Number of data points in the train set: 935, number of used features: 169\n",
      "[LightGBM] [Info] Start training from score 181421.170053\n",
      "[LightGBM] [Info] Auto-choosing row-wise multi-threading, the overhead of testing was 0.000620 seconds.\n",
      "You can set `force_row_wise=true` to remove the overhead.\n",
      "And if memory is not enough, you can set `force_col_wise=true`.\n",
      "[LightGBM] [Info] Total Bins 5813\n",
      "[LightGBM] [Info] Number of data points in the train set: 934, number of used features: 171\n",
      "[LightGBM] [Info] Start training from score 181121.274090\n",
      "[LightGBM] [Info] Auto-choosing col-wise multi-threading, the overhead of testing was 0.001044 seconds.\n",
      "You can set `force_col_wise=true` to remove the overhead.\n",
      "[LightGBM] [Info] Total Bins 5841\n",
      "[LightGBM] [Info] Number of data points in the train set: 934, number of used features: 165\n",
      "[LightGBM] [Info] Start training from score 179912.635974\n",
      "[LightGBM] [Info] Auto-choosing col-wise multi-threading, the overhead of testing was 0.003248 seconds.\n",
      "You can set `force_col_wise=true` to remove the overhead.\n",
      "[LightGBM] [Info] Total Bins 5803\n",
      "[LightGBM] [Info] Number of data points in the train set: 934, number of used features: 168\n",
      "[LightGBM] [Info] Start training from score 182516.069593\n",
      "[LightGBM] [Info] Auto-choosing row-wise multi-threading, the overhead of testing was 0.001162 seconds.\n",
      "You can set `force_row_wise=true` to remove the overhead.\n",
      "And if memory is not enough, you can set `force_col_wise=true`.\n",
      "[LightGBM] [Info] Total Bins 5821\n",
      "[LightGBM] [Info] Number of data points in the train set: 935, number of used features: 169\n",
      "[LightGBM] [Info] Start training from score 182235.731551\n",
      "[LightGBM] [Info] Auto-choosing col-wise multi-threading, the overhead of testing was 0.000770 seconds.\n",
      "You can set `force_col_wise=true` to remove the overhead.\n",
      "[LightGBM] [Info] Total Bins 5870\n",
      "[LightGBM] [Info] Number of data points in the train set: 935, number of used features: 169\n",
      "[LightGBM] [Info] Start training from score 181421.170053\n",
      "[LightGBM] [Info] Auto-choosing col-wise multi-threading, the overhead of testing was 0.000825 seconds.\n",
      "You can set `force_col_wise=true` to remove the overhead.\n",
      "[LightGBM] [Info] Total Bins 5813\n",
      "[LightGBM] [Info] Number of data points in the train set: 934, number of used features: 171\n",
      "[LightGBM] [Info] Start training from score 181121.274090\n",
      "[LightGBM] [Info] Auto-choosing col-wise multi-threading, the overhead of testing was 0.001421 seconds.\n",
      "You can set `force_col_wise=true` to remove the overhead.\n",
      "[LightGBM] [Info] Total Bins 5841\n",
      "[LightGBM] [Info] Number of data points in the train set: 934, number of used features: 165\n",
      "[LightGBM] [Info] Start training from score 179912.635974\n",
      "[LightGBM] [Info] Auto-choosing col-wise multi-threading, the overhead of testing was 0.000767 seconds.\n",
      "You can set `force_col_wise=true` to remove the overhead.\n",
      "[LightGBM] [Info] Total Bins 5803\n",
      "[LightGBM] [Info] Number of data points in the train set: 934, number of used features: 168\n",
      "[LightGBM] [Info] Start training from score 182516.069593\n",
      "[LightGBM] [Info] Auto-choosing col-wise multi-threading, the overhead of testing was 0.000769 seconds.\n",
      "You can set `force_col_wise=true` to remove the overhead.\n",
      "[LightGBM] [Info] Total Bins 5821\n",
      "[LightGBM] [Info] Number of data points in the train set: 935, number of used features: 169\n",
      "[LightGBM] [Info] Start training from score 182235.731551\n",
      "[LightGBM] [Info] Auto-choosing col-wise multi-threading, the overhead of testing was 0.000782 seconds.\n",
      "You can set `force_col_wise=true` to remove the overhead.\n",
      "[LightGBM] [Info] Total Bins 5870\n",
      "[LightGBM] [Info] Number of data points in the train set: 935, number of used features: 169\n",
      "[LightGBM] [Info] Start training from score 181421.170053\n",
      "[LightGBM] [Info] Auto-choosing row-wise multi-threading, the overhead of testing was 0.000503 seconds.\n",
      "You can set `force_row_wise=true` to remove the overhead.\n",
      "And if memory is not enough, you can set `force_col_wise=true`.\n",
      "[LightGBM] [Info] Total Bins 5813\n",
      "[LightGBM] [Info] Number of data points in the train set: 934, number of used features: 171\n",
      "[LightGBM] [Info] Start training from score 181121.274090\n",
      "[LightGBM] [Info] Auto-choosing row-wise multi-threading, the overhead of testing was 0.001188 seconds.\n",
      "You can set `force_row_wise=true` to remove the overhead.\n",
      "And if memory is not enough, you can set `force_col_wise=true`.\n",
      "[LightGBM] [Info] Total Bins 5841\n",
      "[LightGBM] [Info] Number of data points in the train set: 934, number of used features: 165\n",
      "[LightGBM] [Info] Start training from score 179912.635974\n",
      "[LightGBM] [Info] Auto-choosing row-wise multi-threading, the overhead of testing was 0.001788 seconds.\n",
      "You can set `force_row_wise=true` to remove the overhead.\n",
      "And if memory is not enough, you can set `force_col_wise=true`.\n",
      "[LightGBM] [Info] Total Bins 5803\n",
      "[LightGBM] [Info] Number of data points in the train set: 934, number of used features: 168\n",
      "[LightGBM] [Info] Start training from score 182516.069593\n",
      "[LightGBM] [Info] Auto-choosing row-wise multi-threading, the overhead of testing was 0.000536 seconds.\n",
      "You can set `force_row_wise=true` to remove the overhead.\n",
      "And if memory is not enough, you can set `force_col_wise=true`.\n",
      "[LightGBM] [Info] Total Bins 5821\n",
      "[LightGBM] [Info] Number of data points in the train set: 935, number of used features: 169\n",
      "[LightGBM] [Info] Start training from score 182235.731551\n",
      "[LightGBM] [Info] Auto-choosing col-wise multi-threading, the overhead of testing was 0.000783 seconds.\n",
      "You can set `force_col_wise=true` to remove the overhead.\n",
      "[LightGBM] [Info] Total Bins 5870\n",
      "[LightGBM] [Info] Number of data points in the train set: 935, number of used features: 169\n",
      "[LightGBM] [Info] Start training from score 181421.170053\n",
      "[LightGBM] [Info] Auto-choosing col-wise multi-threading, the overhead of testing was 0.001072 seconds.\n",
      "You can set `force_col_wise=true` to remove the overhead.\n",
      "[LightGBM] [Info] Total Bins 5813\n",
      "[LightGBM] [Info] Number of data points in the train set: 934, number of used features: 171\n",
      "[LightGBM] [Info] Start training from score 181121.274090\n",
      "[LightGBM] [Info] Auto-choosing col-wise multi-threading, the overhead of testing was 0.000844 seconds.\n",
      "You can set `force_col_wise=true` to remove the overhead.\n",
      "[LightGBM] [Info] Total Bins 5841\n",
      "[LightGBM] [Info] Number of data points in the train set: 934, number of used features: 165\n",
      "[LightGBM] [Info] Start training from score 179912.635974\n",
      "[LightGBM] [Info] Auto-choosing col-wise multi-threading, the overhead of testing was 0.000765 seconds.\n",
      "You can set `force_col_wise=true` to remove the overhead.\n",
      "[LightGBM] [Info] Total Bins 5803\n",
      "[LightGBM] [Info] Number of data points in the train set: 934, number of used features: 168\n",
      "[LightGBM] [Info] Start training from score 182516.069593\n",
      "[LightGBM] [Info] Auto-choosing col-wise multi-threading, the overhead of testing was 0.001010 seconds.\n",
      "You can set `force_col_wise=true` to remove the overhead.\n",
      "[LightGBM] [Info] Total Bins 5821\n",
      "[LightGBM] [Info] Number of data points in the train set: 935, number of used features: 169\n",
      "[LightGBM] [Info] Start training from score 182235.731551\n",
      "[LightGBM] [Info] Auto-choosing col-wise multi-threading, the overhead of testing was 0.000764 seconds.\n",
      "You can set `force_col_wise=true` to remove the overhead.\n",
      "[LightGBM] [Info] Total Bins 5870\n",
      "[LightGBM] [Info] Number of data points in the train set: 935, number of used features: 169\n",
      "[LightGBM] [Info] Start training from score 181421.170053\n",
      "LightGBM Cross-validation results:\n",
      "Mean Absolute Error: 16709.39 (+/- 3441.63)\n",
      "Mean Squared Error: 837572604.86 (+/- 512540687.73)\n",
      "Root Mean Squared Error: 28584.54 (+/- 9054.70)\n",
      "Mean Absolute Percentage Error: 0.09% (+/- 0.02%)\n",
      "Median Absolute Error: 10798.48 (+/- 455.70)\n",
      "R-squared: 0.860 (+/- 0.071)\n",
      "\n",
      "LightGBM Test set results:\n",
      "Test Mean Absolute Error: 16489.91\n",
      "Test Mean Squared Error: 855149573.46\n",
      "Test Root Mean Squared Error: 29242.94\n",
      "Test Mean Absolute Percentage Error: 9.57%\n",
      "Test Median Absolute Error: 8724.61\n",
      "Test R-squared: 0.8885\n",
      "\n"
     ]
    }
   ],
   "source": [
    "# Comparing GBDT, XGBoost, and LightGBM\n",
    "from xgboost import XGBRegressor\n",
    "from lightgbm import LGBMRegressor\n",
    "from sklearn.model_selection import cross_val_score\n",
    "from sklearn.metrics import mean_absolute_error, mean_squared_error, r2_score, median_absolute_error\n",
    "import numpy as np\n",
    "\n",
    "# XGBoost model\n",
    "xgb_model = XGBRegressor(n_estimators=100, learning_rate=0.1, random_state=42)\n",
    "xgb_model.fit(X_train, y_train)\n",
    "\n",
    "# LightGBM model\n",
    "lgbm_model = LGBMRegressor(n_estimators=100, learning_rate=0.1, random_state=42)\n",
    "lgbm_model.fit(X_train, y_train)\n",
    "\n",
    "# Function to calculate and print metrics\n",
    "def print_metrics(model, X, y, model_name):\n",
    "    mae = -cross_val_score(model, X, y, cv=5, scoring='neg_mean_absolute_error')\n",
    "    mse = -cross_val_score(model, X, y, cv=5, scoring='neg_mean_squared_error')\n",
    "    rmse = np.sqrt(mse)\n",
    "    mape = -cross_val_score(model, X, y, cv=5, scoring='neg_mean_absolute_percentage_error')\n",
    "    medae = -cross_val_score(model, X, y, cv=5, scoring='neg_median_absolute_error')\n",
    "    r2 = cross_val_score(model, X, y, cv=5, scoring='r2')\n",
    "    \n",
    "    print(f\"{model_name} Cross-validation results:\")\n",
    "    print(f\"Mean Absolute Error: {mae.mean():.2f} (+/- {mae.std() * 2:.2f})\")\n",
    "    print(f\"Mean Squared Error: {mse.mean():.2f} (+/- {mse.std() * 2:.2f})\")\n",
    "    print(f\"Root Mean Squared Error: {rmse.mean():.2f} (+/- {rmse.std() * 2:.2f})\")\n",
    "    print(f\"Mean Absolute Percentage Error: {mape.mean():.2f}% (+/- {mape.std() * 2:.2f}%)\")\n",
    "    print(f\"Median Absolute Error: {medae.mean():.2f} (+/- {medae.std() * 2:.2f})\")\n",
    "    print(f\"R-squared: {r2.mean():.3f} (+/- {r2.std() * 2:.3f})\")\n",
    "    \n",
    "    y_pred = model.predict(X_test)\n",
    "    test_mae = mean_absolute_error(y_test, y_pred)\n",
    "    test_mse = mean_squared_error(y_test, y_pred)\n",
    "    test_rmse = np.sqrt(test_mse)\n",
    "    test_mape = np.mean(np.abs((y_test - y_pred) / y_test)) * 100\n",
    "    test_medae = median_absolute_error(y_test, y_pred)\n",
    "    test_r2 = r2_score(y_test, y_pred)\n",
    "    \n",
    "    print(f\"\\n{model_name} Test set results:\")\n",
    "    print(f\"Test Mean Absolute Error: {test_mae:.2f}\")\n",
    "    print(f\"Test Mean Squared Error: {test_mse:.2f}\")\n",
    "    print(f\"Test Root Mean Squared Error: {test_rmse:.2f}\")\n",
    "    print(f\"Test Mean Absolute Percentage Error: {test_mape:.2f}%\")\n",
    "    print(f\"Test Median Absolute Error: {test_medae:.2f}\")\n",
    "    print(f\"Test R-squared: {test_r2:.4f}\\n\")\n",
    "\n",
    "# Print metrics for all models\n",
    "print_metrics(gbdt_model, X_train, y_train, \"GBDT\")\n",
    "print_metrics(xgb_model, X_train, y_train, \"XGBoost\")\n",
    "print_metrics(lgbm_model, X_train, y_train, \"LightGBM\")"
   ]
  },
  {
   "cell_type": "code",
   "execution_count": null,
   "id": "5a196db4-f314-4f32-b4ed-fb62be8fc7e2",
   "metadata": {},
   "outputs": [],
   "source": []
  }
 ],
 "metadata": {
  "kernelspec": {
   "display_name": "Python 3 (ipykernel)",
   "language": "python",
   "name": "python3"
  },
  "language_info": {
   "codemirror_mode": {
    "name": "ipython",
    "version": 3
   },
   "file_extension": ".py",
   "mimetype": "text/x-python",
   "name": "python",
   "nbconvert_exporter": "python",
   "pygments_lexer": "ipython3",
   "version": "3.9.18"
  }
 },
 "nbformat": 4,
 "nbformat_minor": 5
}
